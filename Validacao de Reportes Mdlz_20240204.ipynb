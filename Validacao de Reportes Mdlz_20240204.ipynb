{
 "cells": [
  {
   "cell_type": "markdown",
   "metadata": {
    "id": "9j79QoCgARAL"
   },
   "source": [
    "# **Analise de Faturamento entre os Reportes de Incentivos_Familia & Detalle_de_ventas**"
   ]
  },
  {
   "cell_type": "markdown",
   "metadata": {
    "id": "Tu8zHTbeAOfF"
   },
   "source": [
    "# Para que funcione corretamente suba os arquivos de Incentivos_Familia e Detalle_de_ventas na pasta **MyDrive/Colab Notebooks/Mondelez_COLEC** do seu Drive e devem se chamar exatamente\n",
    "\n",
    "*   MC1_INT_CSV_Incentivos_Familia.CSV\n",
    "*   MC1_INT_CSV_Detalle_de_ventas.CSV\n",
    "\n"
   ]
  },
  {
   "cell_type": "markdown",
   "metadata": {
    "id": "TR2pmAlT2swS"
   },
   "source": [
    "# Importandos Bibliotecas necessários para analise"
   ]
  },
  {
   "cell_type": "markdown",
   "metadata": {
    "id": "C8VpcPczDTfx"
   },
   "source": [
    "# **Instruções de Uso**\n",
    "\n",
    "\n",
    "1.   Execute somente a Primeira célula para montar o Drive do Google\n",
    "2.   Ele irá solicitar acesso ao seu drive, conceda. Deverá aparecer a seguinte mensagem ao terminar, \"Mounted at /content/drive\"\n",
    "3.   Após execute a 2ª célula. Deverá aparecer a seguinte mensagem ao terminar, \"Pasta criada com sucesso!\"\n",
    "4.   Abra o seu google drive procure pela pasta \"Colab Notebooks/Mondelez_COLEC\"\n",
    "5.   Copie os arquivos gerados para a pasta mencionada acima. Conforme instruções.\n",
    "6.   Execute toda cadeia de execuções através do atalho \"CRTL + F9\" ou vá em Ambiente de Execução / Executar Tudo\n",
    "\n",
    "***Para que funcione corretamente suba os arquivos de Incentivos_Familia e Detalle_de_ventas na pasta Colab Notebooks/Mondelez_COLEC do seu Drive e devem se chamar exatamente MC1_INT_CSV_Incentivos_Familia.CSV e MC1_INT_CSV_Detalle_de_ventas.CSV***\n",
    "\n",
    "\n",
    "\n"
   ]
  },
  {
   "cell_type": "code",
   "execution_count": 1,
   "metadata": {
    "colab": {
     "base_uri": "https://localhost:8080/"
    },
    "executionInfo": {
     "elapsed": 2226,
     "status": "ok",
     "timestamp": 1706402495757,
     "user": {
      "displayName": "Diego Henrique Silva Furukawa",
      "userId": "12424190321281319347"
     },
     "user_tz": 180
    },
    "id": "V1cGcVBr7bE1",
    "outputId": "af692ea8-d29c-4de3-80de-8ad1b81fccb4"
   },
   "outputs": [],
   "source": [
    "# 1ª CELULA\n",
    "\n",
    "import os\n",
    "#import wget\n",
    "\n",
    "import pandas as pd\n",
    "# import seaborn as sns\n",
    "# import matplotlib.pyplot as plt\n",
    "from pathlib import Path\n",
    "# from sklearn.model_selection import train_test_split\n",
    "# from sklearn import metrics\n",
    "# from sklearn.ensemble import RandomForestClassifier\n",
    "#from google.colab import drive\n",
    "\n",
    "#drive.mount('/content/drive')\n",
    "\n",
    "#Paramtros de aceitação de diferença entre os 2 reportes para Analise por vendedor\n",
    "nStart = 5000\n",
    "nStart2 = -5000\n",
    "\n",
    "nStartFaturamento = 50000"
   ]
  },
  {
   "cell_type": "code",
   "execution_count": 2,
   "metadata": {
    "colab": {
     "base_uri": "https://localhost:8080/"
    },
    "executionInfo": {
     "elapsed": 7,
     "status": "ok",
     "timestamp": 1706402495758,
     "user": {
      "displayName": "Diego Henrique Silva Furukawa",
      "userId": "12424190321281319347"
     },
     "user_tz": 180
    },
    "id": "XKsEOZ15f-Jr",
    "outputId": "638aa66a-5b9a-4c2f-81fe-07400a57f387"
   },
   "outputs": [
    {
     "name": "stdout",
     "output_type": "stream",
     "text": [
      "Pasta criada com sucesso!\n"
     ]
    }
   ],
   "source": [
    "# 2ª CELULA\n",
    "\n",
    "path = Path(\"./\")\n",
    "path.mkdir(parents=True, exist_ok=True)\n",
    "\n",
    "print('Pasta criada com sucesso!')"
   ]
  },
  {
   "cell_type": "markdown",
   "metadata": {
    "id": "BEg673in24pE"
   },
   "source": [
    "\n",
    "\n"
   ]
  },
  {
   "cell_type": "markdown",
   "metadata": {
    "id": "cNc7LiIuANl1"
   },
   "source": []
  },
  {
   "cell_type": "code",
   "execution_count": 3,
   "metadata": {
    "executionInfo": {
     "elapsed": 6,
     "status": "ok",
     "timestamp": 1706402495758,
     "user": {
      "displayName": "Diego Henrique Silva Furukawa",
      "userId": "12424190321281319347"
     },
     "user_tz": 180
    },
    "id": "jAQCCw0t9VxS"
   },
   "outputs": [],
   "source": [
    "path_incentivos_familia = r\"./MC1_INT_CSV_Incentivos_Familia.CSV\"\n",
    "path_detalhe_de_vendas = r\"./MC1_INT_CSV_Detalle_de_ventas.CSV\""
   ]
  },
  {
   "cell_type": "markdown",
   "metadata": {
    "id": "H8MLWTimKT8k"
   },
   "source": [
    "# Incentivos Familia - Tratamento do Arquivo"
   ]
  },
  {
   "cell_type": "code",
   "execution_count": 4,
   "metadata": {
    "colab": {
     "base_uri": "https://localhost:8080/"
    },
    "executionInfo": {
     "elapsed": 6,
     "status": "ok",
     "timestamp": 1706402495758,
     "user": {
      "displayName": "Diego Henrique Silva Furukawa",
      "userId": "12424190321281319347"
     },
     "user_tz": 180
    },
    "id": "y9KjWdzM9X1n",
    "outputId": "442b4619-fd14-40b9-bd09-2d2b7d9621bb"
   },
   "outputs": [],
   "source": [
    "incentivosfamilia = pd.read_csv(path_incentivos_familia, sep=\",\")\n",
    "\n",
    "incentivosfamilia['Venta_SO_ML_sin_IVA'] = incentivosfamilia['Venta_SO_ML_sin_IVA'].str.replace('.','')\n",
    "incentivosfamilia['Venta_SO_ML_sin_IVA'] = incentivosfamilia['Venta_SO_ML_sin_IVA'].str.replace(',','.')\n",
    "incentivosfamilia['Venta_SO_ML_sin_IVA'] = incentivosfamilia['Venta_SO_ML_sin_IVA'].astype(float)\n",
    "\n",
    "incentivosfamilia['Codigo_Cliente_SI'] = incentivosfamilia['Codigo_Cliente_SI'].astype(object)\n",
    "incentivosfamilia['Codigo_Asesor'] = incentivosfamilia['Codigo_Asesor'].astype(object)\n",
    "incentivosfamilia['Codigo_Vendedor'] = incentivosfamilia['Codigo_Vendedor'].astype(object)\n",
    "incentivosfamilia['Codigo Modelo de Venta'] = incentivosfamilia['Codigo Modelo de Venta'].astype(object)\n",
    "incentivosfamilia['Ano'] = incentivosfamilia['Ano'].astype(object)\n",
    "incentivosfamilia['Periodo'] = incentivosfamilia['Periodo'].astype(object)\n",
    "incentivosfamilia['Periodo'] = incentivosfamilia['Periodo'].astype(object)\n",
    "\n",
    "incentivosfamilia = incentivosfamilia.rename(columns={'Codigo Zona-Ruta' : 'Codigo_Zona_Ruta'})\n"
   ]
  },
  {
   "cell_type": "code",
   "execution_count": 5,
   "metadata": {
    "colab": {
     "base_uri": "https://localhost:8080/"
    },
    "executionInfo": {
     "elapsed": 338,
     "status": "ok",
     "timestamp": 1706402496093,
     "user": {
      "displayName": "Diego Henrique Silva Furukawa",
      "userId": "12424190321281319347"
     },
     "user_tz": 180
    },
    "id": "3Zza8wJ_Ii_z",
    "outputId": "d0fd9d07-afbc-458a-c2c1-b2350f665405"
   },
   "outputs": [
    {
     "name": "stdout",
     "output_type": "stream",
     "text": [
      "<class 'pandas.core.frame.DataFrame'>\n",
      "RangeIndex: 17182 entries, 0 to 17181\n",
      "Data columns (total 37 columns):\n",
      " #   Column                    Non-Null Count  Dtype  \n",
      "---  ------                    --------------  -----  \n",
      " 0   Pais                      17182 non-null  object \n",
      " 1   Codigo_Cliente_SI         17182 non-null  object \n",
      " 2   Descripcion Cliente SI    17182 non-null  object \n",
      " 3   Codigo_Canal              17182 non-null  object \n",
      " 4   Descripcion_Canal         17182 non-null  object \n",
      " 5   Codigo_Subcanal           17182 non-null  object \n",
      " 6   Descripcion Subcanal      17182 non-null  object \n",
      " 7   Codigo_Region             17182 non-null  object \n",
      " 8   Descripcion_Region        17182 non-null  object \n",
      " 9   Codigo_Subregion          17182 non-null  object \n",
      " 10  Descripcion_Subregion     17182 non-null  object \n",
      " 11  Codigo_Asesor             17182 non-null  object \n",
      " 12  Nombre_Asesor             17182 non-null  object \n",
      " 13  Codigo_Vendedor           17182 non-null  object \n",
      " 14  Nombre_Vendedor           17182 non-null  object \n",
      " 15  Codigo_Zona_Ruta          17182 non-null  object \n",
      " 16  Descripcion Zona-Ruta     17182 non-null  object \n",
      " 17  Codigo Modelo de Venta    17182 non-null  object \n",
      " 18  Descripcion Modelo Venta  17182 non-null  object \n",
      " 19  Tipo de Venta             17182 non-null  object \n",
      " 20  Ano                       17182 non-null  object \n",
      " 21  Periodo                   17182 non-null  object \n",
      " 22  Codigo Familia            17182 non-null  object \n",
      " 23  Nombre Familia            17182 non-null  object \n",
      " 24  PDV Activos y Nuevos      17182 non-null  int64  \n",
      " 25  PDV Activos               17182 non-null  int64  \n",
      " 26  Real Display              17182 non-null  object \n",
      " 27  Cuota_Display             17182 non-null  object \n",
      " 28  Visitas Programadas       17182 non-null  int64  \n",
      " 29  Real Visitas Programadas  17182 non-null  int64  \n",
      " 30  Real Visitas Realizadas   17182 non-null  int64  \n",
      " 31  Real Visitas Efectivas    17182 non-null  int64  \n",
      " 32  Cuota_Visitas_Efectivas   17182 non-null  int64  \n",
      " 33  Cuota_Visitas_Realizadas  17182 non-null  int64  \n",
      " 34  Venta_SO_ML_sin_IVA       17182 non-null  float64\n",
      " 35  Cuota_SO_ML_sin_IVA       17182 non-null  object \n",
      " 36  Impactos                  17182 non-null  int64  \n",
      "dtypes: float64(1), int64(9), object(27)\n",
      "memory usage: 4.9+ MB\n"
     ]
    }
   ],
   "source": [
    "incentivosfamilia.info()"
   ]
  },
  {
   "cell_type": "markdown",
   "metadata": {},
   "source": [
    "# Incentivos Familia - Totalizando"
   ]
  },
  {
   "cell_type": "code",
   "execution_count": 25,
   "metadata": {},
   "outputs": [
    {
     "data": {
      "text/html": [
       "<div>\n",
       "<style scoped>\n",
       "    .dataframe tbody tr th:only-of-type {\n",
       "        vertical-align: middle;\n",
       "    }\n",
       "\n",
       "    .dataframe tbody tr th {\n",
       "        vertical-align: top;\n",
       "    }\n",
       "\n",
       "    .dataframe thead th {\n",
       "        text-align: right;\n",
       "    }\n",
       "</style>\n",
       "<table border=\"1\" class=\"dataframe\">\n",
       "  <thead>\n",
       "    <tr style=\"text-align: right;\">\n",
       "      <th></th>\n",
       "      <th></th>\n",
       "      <th></th>\n",
       "      <th></th>\n",
       "      <th></th>\n",
       "      <th>Venta_SO_ML_sin_IVA_IF</th>\n",
       "    </tr>\n",
       "    <tr>\n",
       "      <th>Codigo_Asesor</th>\n",
       "      <th>Nombre_Asesor</th>\n",
       "      <th>Codigo_Vendedor</th>\n",
       "      <th>Nombre_Vendedor</th>\n",
       "      <th>Codigo_Zona_Ruta</th>\n",
       "      <th></th>\n",
       "    </tr>\n",
       "  </thead>\n",
       "  <tbody>\n",
       "    <tr>\n",
       "      <th rowspan=\"5\" valign=\"top\">8</th>\n",
       "      <th rowspan=\"5\" valign=\"top\">8</th>\n",
       "      <th>31002048</th>\n",
       "      <th>Henry Buitrago APOLO A3</th>\n",
       "      <th>C001C020805</th>\n",
       "      <td>2.147864e+06</td>\n",
       "    </tr>\n",
       "    <tr>\n",
       "      <th>31003343</th>\n",
       "      <th>Nancy Carvajal APOLO A4</th>\n",
       "      <th>C001C020806</th>\n",
       "      <td>1.989415e+06</td>\n",
       "    </tr>\n",
       "    <tr>\n",
       "      <th>31004066</th>\n",
       "      <th>Carlos Arturo Ramirez APOLO A1</th>\n",
       "      <th>C001C020802</th>\n",
       "      <td>2.733895e+06</td>\n",
       "    </tr>\n",
       "    <tr>\n",
       "      <th>31004209</th>\n",
       "      <th>ADRIANA HINCAPIE</th>\n",
       "      <th>C001C021121</th>\n",
       "      <td>2.925086e+06</td>\n",
       "    </tr>\n",
       "    <tr>\n",
       "      <th>31004380</th>\n",
       "      <th>Milena Marin</th>\n",
       "      <th>C001C020803</th>\n",
       "      <td>1.732984e+06</td>\n",
       "    </tr>\n",
       "    <tr>\n",
       "      <th>...</th>\n",
       "      <th>...</th>\n",
       "      <th>...</th>\n",
       "      <th>...</th>\n",
       "      <th>...</th>\n",
       "      <td>...</td>\n",
       "    </tr>\n",
       "    <tr>\n",
       "      <th rowspan=\"5\" valign=\"top\">108</th>\n",
       "      <th rowspan=\"5\" valign=\"top\">108</th>\n",
       "      <th>31007057</th>\n",
       "      <th>Dayana Ortiz APOLO A7</th>\n",
       "      <th>C001C020513</th>\n",
       "      <td>2.076394e+06</td>\n",
       "    </tr>\n",
       "    <tr>\n",
       "      <th>31007232</th>\n",
       "      <th>Miriam Villegas APOLO B1</th>\n",
       "      <th>C001C015106</th>\n",
       "      <td>1.199706e+06</td>\n",
       "    </tr>\n",
       "    <tr>\n",
       "      <th>31007234</th>\n",
       "      <th>Viviana Cuatindioy APOLO B3</th>\n",
       "      <th>C001C015102</th>\n",
       "      <td>1.254622e+06</td>\n",
       "    </tr>\n",
       "    <tr>\n",
       "      <th>31007235</th>\n",
       "      <th>Luz Suarez APOLO B5</th>\n",
       "      <th>C001C015104</th>\n",
       "      <td>1.294790e+06</td>\n",
       "    </tr>\n",
       "    <tr>\n",
       "      <th>31007236</th>\n",
       "      <th>Nancy Pineda APOLO B6</th>\n",
       "      <th>C001C015107</th>\n",
       "      <td>4.850000e+05</td>\n",
       "    </tr>\n",
       "  </tbody>\n",
       "</table>\n",
       "<p>242 rows × 1 columns</p>\n",
       "</div>"
      ],
      "text/plain": [
       "                                                                                             Venta_SO_ML_sin_IVA_IF\n",
       "Codigo_Asesor Nombre_Asesor Codigo_Vendedor Nombre_Vendedor                Codigo_Zona_Ruta                        \n",
       "8             8             31002048        Henry Buitrago APOLO A3        C001C020805                 2.147864e+06\n",
       "                            31003343        Nancy Carvajal APOLO A4        C001C020806                 1.989415e+06\n",
       "                            31004066        Carlos Arturo Ramirez APOLO A1 C001C020802                 2.733895e+06\n",
       "                            31004209        ADRIANA HINCAPIE               C001C021121                 2.925086e+06\n",
       "                            31004380        Milena Marin                   C001C020803                 1.732984e+06\n",
       "...                                                                                                             ...\n",
       "108           108           31007057        Dayana Ortiz APOLO A7          C001C020513                 2.076394e+06\n",
       "                            31007232        Miriam Villegas APOLO B1       C001C015106                 1.199706e+06\n",
       "                            31007234        Viviana Cuatindioy APOLO B3    C001C015102                 1.254622e+06\n",
       "                            31007235        Luz Suarez APOLO B5            C001C015104                 1.294790e+06\n",
       "                            31007236        Nancy Pineda APOLO B6          C001C015107                 4.850000e+05\n",
       "\n",
       "[242 rows x 1 columns]"
      ]
     },
     "metadata": {},
     "output_type": "display_data"
    }
   ],
   "source": [
    "table_if =  pd.DataFrame({\n",
    "                    'Codigo_Asesor': incentivosfamilia['Codigo_Asesor']\n",
    "                    ,'Nombre_Asesor': incentivosfamilia['Codigo_Asesor']\n",
    "                    ,'Codigo_Vendedor': incentivosfamilia['Codigo_Vendedor']\n",
    "                    ,'Nombre_Vendedor': incentivosfamilia['Nombre_Vendedor']\n",
    "                    ,'Codigo_Zona_Ruta': incentivosfamilia['Codigo_Zona_Ruta']\n",
    "                    ,'Venta_SO_ML_sin_IVA': incentivosfamilia['Venta_SO_ML_sin_IVA']\n",
    "                    #})\n",
    "                    #}).sum()\n",
    "                    }).groupby(['Codigo_Asesor','Nombre_Asesor','Codigo_Vendedor','Nombre_Vendedor','Codigo_Zona_Ruta']).sum()\n",
    "table_if = table_if.rename(columns={'Venta_SO_ML_sin_IVA': 'Venta_SO_ML_sin_IVA_IF'})\n",
    "#table_dv.info()\n",
    "display(table_if)"
   ]
  },
  {
   "cell_type": "markdown",
   "metadata": {},
   "source": [
    "# Incentivos Familia - Verificando se existem valores em Branco = ISNULL"
   ]
  },
  {
   "cell_type": "code",
   "execution_count": 26,
   "metadata": {},
   "outputs": [
    {
     "data": {
      "text/html": [
       "<div>\n",
       "<style scoped>\n",
       "    .dataframe tbody tr th:only-of-type {\n",
       "        vertical-align: middle;\n",
       "    }\n",
       "\n",
       "    .dataframe tbody tr th {\n",
       "        vertical-align: top;\n",
       "    }\n",
       "\n",
       "    .dataframe thead th {\n",
       "        text-align: right;\n",
       "    }\n",
       "</style>\n",
       "<table border=\"1\" class=\"dataframe\">\n",
       "  <thead>\n",
       "    <tr style=\"text-align: right;\">\n",
       "      <th></th>\n",
       "      <th></th>\n",
       "      <th></th>\n",
       "      <th></th>\n",
       "      <th></th>\n",
       "      <th>Venta_SO_ML_sin_IVA_IF</th>\n",
       "    </tr>\n",
       "    <tr>\n",
       "      <th>Codigo_Asesor</th>\n",
       "      <th>Nombre_Asesor</th>\n",
       "      <th>Codigo_Vendedor</th>\n",
       "      <th>Nombre_Vendedor</th>\n",
       "      <th>Codigo_Zona_Ruta</th>\n",
       "      <th></th>\n",
       "    </tr>\n",
       "  </thead>\n",
       "  <tbody>\n",
       "  </tbody>\n",
       "</table>\n",
       "</div>"
      ],
      "text/plain": [
       "Empty DataFrame\n",
       "Columns: [Venta_SO_ML_sin_IVA_IF]\n",
       "Index: []"
      ]
     },
     "execution_count": 26,
     "metadata": {},
     "output_type": "execute_result"
    }
   ],
   "source": [
    "table_if[table_if.Venta_SO_ML_sin_IVA_IF.isna()]"
   ]
  },
  {
   "cell_type": "code",
   "execution_count": null,
   "metadata": {},
   "outputs": [],
   "source": []
  },
  {
   "cell_type": "markdown",
   "metadata": {
    "id": "3O8EJx3HnDAR"
   },
   "source": [
    "# Detalhe de Vendas - Tratamento do Arquivo\n"
   ]
  },
  {
   "cell_type": "code",
   "execution_count": 27,
   "metadata": {
    "colab": {
     "base_uri": "https://localhost:8080/"
    },
    "executionInfo": {
     "elapsed": 9904,
     "status": "ok",
     "timestamp": 1706402505994,
     "user": {
      "displayName": "Diego Henrique Silva Furukawa",
      "userId": "12424190321281319347"
     },
     "user_tz": 180
    },
    "id": "7MnMh--9lkfd",
    "outputId": "007360ca-d579-4b40-ae5b-cc7fd4dc212d"
   },
   "outputs": [
    {
     "name": "stderr",
     "output_type": "stream",
     "text": [
      "C:\\Users\\dfurukawa\\AppData\\Local\\Temp\\ipykernel_13928\\4068736779.py:1: DtypeWarning: Columns (18,37,39,40,49,50,51,52,53,54,55,56,57,58,59) have mixed types. Specify dtype option on import or set low_memory=False.\n",
      "  detalhe_de_vendas = pd.read_csv(path_detalhe_de_vendas, sep=\",\")\n"
     ]
    }
   ],
   "source": [
    "detalhe_de_vendas = pd.read_csv(path_detalhe_de_vendas, sep=\",\")\n",
    "\n",
    "detalhe_de_vendas['Venta_SO_ML_sin_IVA'] = detalhe_de_vendas['Venta_SO_ML_sin_IVA'].str.replace('.','')\n",
    "detalhe_de_vendas['Venta_SO_ML_sin_IVA'] = detalhe_de_vendas['Venta_SO_ML_sin_IVA'].str.replace(',','.')\n",
    "detalhe_de_vendas['Venta_SO_ML_sin_IVA'] = detalhe_de_vendas['Venta_SO_ML_sin_IVA'].astype(float)\n",
    "\n",
    "detalhe_de_vendas['IVA'] = detalhe_de_vendas['IVA'].str.replace('.','')\n",
    "detalhe_de_vendas['IVA'] = detalhe_de_vendas['IVA'].str.replace(',','.')\n",
    "detalhe_de_vendas['IVA'] = detalhe_de_vendas['IVA'].astype(float)\n",
    "\n",
    "detalhe_de_vendas['Venta_SO_ML_con_IVA'] = detalhe_de_vendas['Venta_SO_ML_con_IVA'].str.replace('.','')\n",
    "detalhe_de_vendas['Venta_SO_ML_con_IVA'] = detalhe_de_vendas['Venta_SO_ML_con_IVA'].str.replace(',','.')\n",
    "detalhe_de_vendas['Venta_SO_ML_con_IVA'] = detalhe_de_vendas['Venta_SO_ML_con_IVA'].astype(float)\n",
    "\n",
    "detalhe_de_vendas['Descuento'] = detalhe_de_vendas['Descuento'].str.replace('.','')\n",
    "detalhe_de_vendas['Descuento'] = detalhe_de_vendas['Descuento'].str.replace(',','.')\n",
    "detalhe_de_vendas['Descuento'] = detalhe_de_vendas['Descuento'].astype(float)\n",
    "\n",
    "detalhe_de_vendas['Peso_por_display_KG'] = detalhe_de_vendas['Peso_por_display_KG'].str.replace('.','')\n",
    "detalhe_de_vendas['Peso_por_display_KG'] = detalhe_de_vendas['Peso_por_display_KG'].str.replace(',','.')\n",
    "detalhe_de_vendas['Peso_por_display_KG'] = detalhe_de_vendas['Peso_por_display_KG'].astype(float)\n",
    "\n",
    "detalhe_de_vendas['Cantidad_de_venta_en_TON'] = detalhe_de_vendas['Cantidad_de_venta_en_TON'].str.replace('.','')\n",
    "detalhe_de_vendas['Cantidad_de_venta_en_TON'] = detalhe_de_vendas['Cantidad_de_venta_en_TON'].str.replace(',','.')\n",
    "detalhe_de_vendas['Cantidad_de_venta_en_TON'] = detalhe_de_vendas['Cantidad_de_venta_en_TON'].astype(float)\n",
    "\n",
    "detalhe_de_vendas['Venta_en_Cajas'] = detalhe_de_vendas['Venta_en_Cajas'].str.replace('.','')\n",
    "detalhe_de_vendas['Venta_en_Cajas'] = detalhe_de_vendas['Venta_en_Cajas'].str.replace(',','.')\n",
    "detalhe_de_vendas['Venta_en_Cajas'] = detalhe_de_vendas['Venta_en_Cajas'].astype(float)\n",
    "\n",
    "detalhe_de_vendas['Codigo_Cliente_SI'] = detalhe_de_vendas['Codigo_Cliente_SI'].astype(object)\n",
    "detalhe_de_vendas['Codigo_Asesor'] = detalhe_de_vendas['Codigo_Asesor'].astype(object)\n",
    "detalhe_de_vendas['Codigo_Vendedor'] = detalhe_de_vendas['Codigo_Vendedor'].astype(object)\n",
    "detalhe_de_vendas['Codigo_PDV'] = detalhe_de_vendas['Codigo_PDV'].astype(object)\n",
    "detalhe_de_vendas['Codigo_PDV_2'] = detalhe_de_vendas['Codigo_PDV_2'].astype(object)\n",
    "detalhe_de_vendas['Latitud'] = detalhe_de_vendas['Latitud'].astype(object)\n",
    "detalhe_de_vendas['nLongitud'] = detalhe_de_vendas['nLongitud'].astype(object)\n",
    "detalhe_de_vendas['Codigo_Tipo_de_Negocio_PDV'] = detalhe_de_vendas['Codigo_Tipo_de_Negocio_PDV'].astype(object)\n",
    "detalhe_de_vendas['Codigo_Cluster_PDV'] = detalhe_de_vendas['Codigo_Cluster_PDV'].astype(object)\n",
    "detalhe_de_vendas['codigo_de_Tipo_de_Ruta'] = detalhe_de_vendas['codigo_de_Tipo_de_Ruta'].astype(object)\n",
    "detalhe_de_vendas['orden_de_visita_realizada'] = detalhe_de_vendas['orden_de_visita_realizada'].astype(object)\n",
    "detalhe_de_vendas['Numero_de_Documento_Legal'] = detalhe_de_vendas['Numero_de_Documento_Legal'].astype(object)\n",
    "detalhe_de_vendas['Cod_Combo'] = detalhe_de_vendas['Cod_Combo'].astype(object)\n",
    "detalhe_de_vendas['Descripcion_Combo'] = detalhe_de_vendas['Descripcion_Combo'].astype(object)\n",
    "detalhe_de_vendas['Cant_Combo'] = detalhe_de_vendas['Cant_Combo'].astype(object)\n",
    "detalhe_de_vendas['Cod_Surtido'] = detalhe_de_vendas['Cod_Surtido'].astype(object)\n",
    "detalhe_de_vendas['Descripcion_Surtido'] = detalhe_de_vendas['Descripcion_Surtido'].astype(object)\n",
    "detalhe_de_vendas['Cant_Surtido'] = detalhe_de_vendas['Cant_Surtido'].astype(object)\n",
    "detalhe_de_vendas['Cod_Articulo_MDLZ'] = detalhe_de_vendas['Cod_Articulo_MDLZ'].astype(object)\n",
    "detalhe_de_vendas['Cod_Articulo_SAP'] = detalhe_de_vendas['Cod_Articulo_SAP'].astype(object)\n",
    "detalhe_de_vendas['Cod_Articulo_SAP'] = detalhe_de_vendas['Cod_Articulo_SAP'].astype(object)\n",
    "\n",
    "\n",
    "\n",
    "# detalhe_de_vendas['Real_DISPLAYS'] = detalhe_de_vendas['Real_DISPLAYS'].str.replace('.','')\n",
    "# detalhe_de_vendas['Real_DISPLAYS'] = detalhe_de_vendas['Real_DISPLAYS'].str.replace(',','.')\n",
    "# detalhe_de_vendas['Real_DISPLAYS'] = detalhe_de_vendas['Real_DISPLAYS'].astype(float)\n",
    "\n",
    "# detalhe_de_vendas['Precio_Display'] = detalhe_de_vendas['Real_DISPLAYS'].str.replace('.','')\n",
    "# detalhe_de_vendas['Precio_Display'] = detalhe_de_vendas['Real_DISPLAYS'].str.replace(',','.')\n",
    "# detalhe_de_vendas['Precio_Display'] = detalhe_de_vendas['Real_DISPLAYS'].astype(float)\n"
   ]
  },
  {
   "cell_type": "markdown",
   "metadata": {
    "id": "8W82RaMZpzjj"
   },
   "source": [
    "# Detalhe de Vendas - Informações sobre a tabela\n"
   ]
  },
  {
   "cell_type": "code",
   "execution_count": 28,
   "metadata": {
    "colab": {
     "base_uri": "https://localhost:8080/"
    },
    "executionInfo": {
     "elapsed": 4084,
     "status": "ok",
     "timestamp": 1706402510073,
     "user": {
      "displayName": "Diego Henrique Silva Furukawa",
      "userId": "12424190321281319347"
     },
     "user_tz": 180
    },
    "id": "Dp8B9GHmf-nr",
    "outputId": "d0b22d17-77f6-4b8e-a7e4-8250350cf63d"
   },
   "outputs": [
    {
     "name": "stdout",
     "output_type": "stream",
     "text": [
      "<class 'pandas.core.frame.DataFrame'>\n",
      "RangeIndex: 76370 entries, 0 to 76369\n",
      "Data columns (total 74 columns):\n",
      " #   Column                           Non-Null Count  Dtype  \n",
      "---  ------                           --------------  -----  \n",
      " 0   Pais                             76370 non-null  object \n",
      " 1   Codigo_Cliente_SI                76370 non-null  object \n",
      " 2   Descripcion Cliente SI           76370 non-null  object \n",
      " 3   Codigo_Canal                     76370 non-null  object \n",
      " 4   Descripcion_Canal                76370 non-null  object \n",
      " 5   Codigo_Subcanal                  76370 non-null  object \n",
      " 6   Descripcion Subcanal             76370 non-null  object \n",
      " 7   Codigo_Region                    76370 non-null  object \n",
      " 8   Descripcion_Region               76370 non-null  object \n",
      " 9   Codigo_Subregion                 76370 non-null  object \n",
      " 10  Descripcion_Subregion            76370 non-null  object \n",
      " 11  Codigo_Asesor                    76370 non-null  object \n",
      " 12  Nombre_Asesor                    76370 non-null  object \n",
      " 13  Codigo_Vendedor                  76370 non-null  object \n",
      " 14  Nombre_Vendedor                  76370 non-null  object \n",
      " 15  Tipo_de_Vendedor                 46793 non-null  object \n",
      " 16  Codigo_PDV                       76370 non-null  object \n",
      " 17  Codigo_PDV_2                     76370 non-null  object \n",
      " 18  Identificacion                   76370 non-null  object \n",
      " 19  Nombre_PDV                       76370 non-null  object \n",
      " 20  Nombre_Comercial_PDV             76132 non-null  object \n",
      " 21  Direccion                        76370 non-null  object \n",
      " 22  Latitud                          76370 non-null  object \n",
      " 23  nLongitud                        76370 non-null  object \n",
      " 24  Descripcion_Departamento         76370 non-null  object \n",
      " 25  Descripcion_Ciudad               76370 non-null  object \n",
      " 26  Codigo_Tipo_de_Negocio_PDV       76370 non-null  object \n",
      " 27  Descripcion_Tipo_de_Negocio_PDV  76337 non-null  object \n",
      " 28  Codigo_Cluster_PDV               76370 non-null  object \n",
      " 29  Descripcion_Cluster_PDV          76370 non-null  object \n",
      " 30  Codigo_Zona_Ruta                 76370 non-null  object \n",
      " 31  Descripcion_Zona_Ruta            76370 non-null  object \n",
      " 32  codigo_de_Tipo_de_Ruta           76370 non-null  object \n",
      " 33  Tipo_de_ruta                     76370 non-null  object \n",
      " 34  Fecha                            76370 non-null  object \n",
      " 35  Hora                             76370 non-null  object \n",
      " 36  orden_de_visita_realizada        76370 non-null  object \n",
      " 37  Orden_Venta                      60341 non-null  object \n",
      " 38  Numero_de_Documento_Legal        0 non-null      object \n",
      " 39  Tipo_Documento                   60341 non-null  object \n",
      " 40  Estado_del_Documento             60341 non-null  object \n",
      " 41  Cod_Combo                        0 non-null      object \n",
      " 42  Descripcion_Combo                0 non-null      object \n",
      " 43  Cant_Combo                       16077 non-null  object \n",
      " 44  Cod_Surtido                      0 non-null      object \n",
      " 45  Descripcion_Surtido              0 non-null      object \n",
      " 46  Cant_Surtido                     16077 non-null  object \n",
      " 47  Cod_Articulo_MDLZ                60341 non-null  object \n",
      " 48  Cod_Articulo_SAP                 60341 non-null  object \n",
      " 49  Descripcion_Articulo_SAP         60341 non-null  object \n",
      " 50  Codigo_Categoria                 60341 non-null  object \n",
      " 51  Descripcion_Categoria            60341 non-null  object \n",
      " 52  Codigo_Subcategoria              60341 non-null  object \n",
      " 53  Descripcion_Subcategoria         60341 non-null  object \n",
      " 54  Codigo_Marca                     60341 non-null  object \n",
      " 55  Descripcion_Marca                60341 non-null  object \n",
      " 56  Codigo_Familia                   60341 non-null  object \n",
      " 57  Descripcion_Familia              60341 non-null  object \n",
      " 58  Codigo_Sabor                     60341 non-null  object \n",
      " 59  Descripcion_Sabor                60341 non-null  object \n",
      " 60  Displays_en_Orden                76370 non-null  int64  \n",
      " 61  Unidades_en_Orden                76370 non-null  float64\n",
      " 62  Real_DISPLAYS                    76370 non-null  object \n",
      " 63  Precio_Display                   76370 non-null  object \n",
      " 64  Venta_SO_ML_sin_IVA              76370 non-null  float64\n",
      " 65  IVA                              76370 non-null  float64\n",
      " 66  Venta_SO_ML_con_IVA              76370 non-null  float64\n",
      " 67  Descuento                        76370 non-null  float64\n",
      " 68  Peso_por_display_KG              76370 non-null  float64\n",
      " 69  Cantidad_de_venta_en_TON         76370 non-null  float64\n",
      " 70  Venta_en_Cajas                   76370 non-null  float64\n",
      " 71  Visitas_Programadas              76370 non-null  int64  \n",
      " 72  Real_Visitas_Realizadas          76370 non-null  int64  \n",
      " 73  Real_Visitas_Efectivas           76370 non-null  int64  \n",
      "dtypes: float64(8), int64(4), object(62)\n",
      "memory usage: 43.1+ MB\n"
     ]
    }
   ],
   "source": [
    "detalhe_de_vendas.info()"
   ]
  },
  {
   "cell_type": "markdown",
   "metadata": {
    "id": "Q3M4BkTip6aP"
   },
   "source": [
    "# Detalhe de Vendas - Totalizando Faturamento"
   ]
  },
  {
   "cell_type": "code",
   "execution_count": 29,
   "metadata": {
    "colab": {
     "base_uri": "https://localhost:8080/",
     "height": 455
    },
    "executionInfo": {
     "elapsed": 453,
     "status": "ok",
     "timestamp": 1706402510521,
     "user": {
      "displayName": "Diego Henrique Silva Furukawa",
      "userId": "12424190321281319347"
     },
     "user_tz": 180
    },
    "id": "W5Lo7SAogZns",
    "outputId": "bf8d23dd-9660-4e8e-f8ff-c50a40fb1a5e"
   },
   "outputs": [
    {
     "data": {
      "text/html": [
       "<div>\n",
       "<style scoped>\n",
       "    .dataframe tbody tr th:only-of-type {\n",
       "        vertical-align: middle;\n",
       "    }\n",
       "\n",
       "    .dataframe tbody tr th {\n",
       "        vertical-align: top;\n",
       "    }\n",
       "\n",
       "    .dataframe thead th {\n",
       "        text-align: right;\n",
       "    }\n",
       "</style>\n",
       "<table border=\"1\" class=\"dataframe\">\n",
       "  <thead>\n",
       "    <tr style=\"text-align: right;\">\n",
       "      <th></th>\n",
       "      <th></th>\n",
       "      <th></th>\n",
       "      <th></th>\n",
       "      <th></th>\n",
       "      <th>Venta_SO_ML_sin_IVA_DV</th>\n",
       "    </tr>\n",
       "    <tr>\n",
       "      <th>Codigo_Asesor</th>\n",
       "      <th>Nombre_Asesor</th>\n",
       "      <th>Codigo_Vendedor</th>\n",
       "      <th>Nombre_Vendedor</th>\n",
       "      <th>Codigo_Zona_Ruta</th>\n",
       "      <th></th>\n",
       "    </tr>\n",
       "  </thead>\n",
       "  <tbody>\n",
       "    <tr>\n",
       "      <th rowspan=\"5\" valign=\"top\">8</th>\n",
       "      <th rowspan=\"5\" valign=\"top\">8</th>\n",
       "      <th>31002048</th>\n",
       "      <th>Henry Buitrago APOLO A3</th>\n",
       "      <th>C001C020805</th>\n",
       "      <td>3647950.37</td>\n",
       "    </tr>\n",
       "    <tr>\n",
       "      <th>31003343</th>\n",
       "      <th>Nancy Carvajal APOLO A4</th>\n",
       "      <th>C001C020806</th>\n",
       "      <td>2770887.02</td>\n",
       "    </tr>\n",
       "    <tr>\n",
       "      <th>31004066</th>\n",
       "      <th>Carlos Arturo Ramirez APOLO A1</th>\n",
       "      <th>C001C020802</th>\n",
       "      <td>3960032.47</td>\n",
       "    </tr>\n",
       "    <tr>\n",
       "      <th>31004209</th>\n",
       "      <th>ADRIANA HINCAPIE</th>\n",
       "      <th>C001C021121</th>\n",
       "      <td>3679963.94</td>\n",
       "    </tr>\n",
       "    <tr>\n",
       "      <th>31004380</th>\n",
       "      <th>Milena Marin</th>\n",
       "      <th>C001C020803</th>\n",
       "      <td>2105743.02</td>\n",
       "    </tr>\n",
       "    <tr>\n",
       "      <th>...</th>\n",
       "      <th>...</th>\n",
       "      <th>...</th>\n",
       "      <th>...</th>\n",
       "      <th>...</th>\n",
       "      <td>...</td>\n",
       "    </tr>\n",
       "    <tr>\n",
       "      <th rowspan=\"5\" valign=\"top\">108</th>\n",
       "      <th rowspan=\"5\" valign=\"top\">108</th>\n",
       "      <th>31007057</th>\n",
       "      <th>Dayana Ortiz APOLO A7</th>\n",
       "      <th>C001C020513</th>\n",
       "      <td>2982825.45</td>\n",
       "    </tr>\n",
       "    <tr>\n",
       "      <th>31007232</th>\n",
       "      <th>Miriam Villegas APOLO B1</th>\n",
       "      <th>C001C015106</th>\n",
       "      <td>1983334.15</td>\n",
       "    </tr>\n",
       "    <tr>\n",
       "      <th>31007234</th>\n",
       "      <th>Viviana Cuatindioy APOLO B3</th>\n",
       "      <th>C001C015102</th>\n",
       "      <td>1872352.95</td>\n",
       "    </tr>\n",
       "    <tr>\n",
       "      <th>31007235</th>\n",
       "      <th>Luz Suarez APOLO B5</th>\n",
       "      <th>C001C015104</th>\n",
       "      <td>1733067.34</td>\n",
       "    </tr>\n",
       "    <tr>\n",
       "      <th>31007236</th>\n",
       "      <th>Nancy Pineda APOLO B6</th>\n",
       "      <th>C001C015107</th>\n",
       "      <td>562899.21</td>\n",
       "    </tr>\n",
       "  </tbody>\n",
       "</table>\n",
       "<p>244 rows × 1 columns</p>\n",
       "</div>"
      ],
      "text/plain": [
       "                                                                                             Venta_SO_ML_sin_IVA_DV\n",
       "Codigo_Asesor Nombre_Asesor Codigo_Vendedor Nombre_Vendedor                Codigo_Zona_Ruta                        \n",
       "8             8             31002048        Henry Buitrago APOLO A3        C001C020805                   3647950.37\n",
       "                            31003343        Nancy Carvajal APOLO A4        C001C020806                   2770887.02\n",
       "                            31004066        Carlos Arturo Ramirez APOLO A1 C001C020802                   3960032.47\n",
       "                            31004209        ADRIANA HINCAPIE               C001C021121                   3679963.94\n",
       "                            31004380        Milena Marin                   C001C020803                   2105743.02\n",
       "...                                                                                                             ...\n",
       "108           108           31007057        Dayana Ortiz APOLO A7          C001C020513                   2982825.45\n",
       "                            31007232        Miriam Villegas APOLO B1       C001C015106                   1983334.15\n",
       "                            31007234        Viviana Cuatindioy APOLO B3    C001C015102                   1872352.95\n",
       "                            31007235        Luz Suarez APOLO B5            C001C015104                   1733067.34\n",
       "                            31007236        Nancy Pineda APOLO B6          C001C015107                    562899.21\n",
       "\n",
       "[244 rows x 1 columns]"
      ]
     },
     "metadata": {},
     "output_type": "display_data"
    }
   ],
   "source": [
    "table_dv =  pd.DataFrame({\n",
    "                    'Codigo_Asesor': detalhe_de_vendas['Codigo_Asesor']\n",
    "                    ,'Nombre_Asesor': detalhe_de_vendas['Codigo_Asesor']\n",
    "                    ,'Codigo_Vendedor': detalhe_de_vendas['Codigo_Vendedor']\n",
    "                    ,'Nombre_Vendedor': detalhe_de_vendas['Nombre_Vendedor']\n",
    "                    ,'Codigo_Zona_Ruta': detalhe_de_vendas['Codigo_Zona_Ruta']\n",
    "                    ,'Venta_SO_ML_sin_IVA': detalhe_de_vendas['Venta_SO_ML_sin_IVA']\n",
    "                    #})\n",
    "                    #}).sum()\n",
    "                    }).groupby(['Codigo_Asesor','Nombre_Asesor','Codigo_Vendedor','Nombre_Vendedor','Codigo_Zona_Ruta']).sum()\n",
    "table_dv = table_dv.rename(columns={'Venta_SO_ML_sin_IVA': 'Venta_SO_ML_sin_IVA_DV'})\n",
    "#table_dv.info()\n",
    "display(table_dv)"
   ]
  },
  {
   "cell_type": "markdown",
   "metadata": {},
   "source": [
    "# Detalhe de Vendas - Verificando se existem valores em Branco = ISNULL"
   ]
  },
  {
   "cell_type": "code",
   "execution_count": 19,
   "metadata": {},
   "outputs": [
    {
     "data": {
      "text/html": [
       "<div>\n",
       "<style scoped>\n",
       "    .dataframe tbody tr th:only-of-type {\n",
       "        vertical-align: middle;\n",
       "    }\n",
       "\n",
       "    .dataframe tbody tr th {\n",
       "        vertical-align: top;\n",
       "    }\n",
       "\n",
       "    .dataframe thead th {\n",
       "        text-align: right;\n",
       "    }\n",
       "</style>\n",
       "<table border=\"1\" class=\"dataframe\">\n",
       "  <thead>\n",
       "    <tr style=\"text-align: right;\">\n",
       "      <th></th>\n",
       "      <th></th>\n",
       "      <th></th>\n",
       "      <th></th>\n",
       "      <th></th>\n",
       "      <th>Venta_SO_ML_sin_IVA_DV</th>\n",
       "    </tr>\n",
       "    <tr>\n",
       "      <th>Codigo_Asesor</th>\n",
       "      <th>Nombre_Asesor</th>\n",
       "      <th>Codigo_Vendedor</th>\n",
       "      <th>Nombre_Vendedor</th>\n",
       "      <th>Codigo_Zona_Ruta</th>\n",
       "      <th></th>\n",
       "    </tr>\n",
       "  </thead>\n",
       "  <tbody>\n",
       "  </tbody>\n",
       "</table>\n",
       "</div>"
      ],
      "text/plain": [
       "Empty DataFrame\n",
       "Columns: [Venta_SO_ML_sin_IVA_DV]\n",
       "Index: []"
      ]
     },
     "execution_count": 19,
     "metadata": {},
     "output_type": "execute_result"
    }
   ],
   "source": [
    "table_dv[table_dv.Venta_SO_ML_sin_IVA_DV.isna()]"
   ]
  },
  {
   "cell_type": "markdown",
   "metadata": {},
   "source": [
    "# Juntando Tabelas"
   ]
  },
  {
   "cell_type": "code",
   "execution_count": 31,
   "metadata": {
    "colab": {
     "base_uri": "https://localhost:8080/",
     "height": 1000
    },
    "executionInfo": {
     "elapsed": 28,
     "status": "ok",
     "timestamp": 1706402510521,
     "user": {
      "displayName": "Diego Henrique Silva Furukawa",
      "userId": "12424190321281319347"
     },
     "user_tz": 180
    },
    "id": "S4jAhlLxJCjC",
    "outputId": "cd321d68-f413-4c55-d1f4-5303f798ae66"
   },
   "outputs": [
    {
     "data": {
      "text/html": [
       "<div>\n",
       "<style scoped>\n",
       "    .dataframe tbody tr th:only-of-type {\n",
       "        vertical-align: middle;\n",
       "    }\n",
       "\n",
       "    .dataframe tbody tr th {\n",
       "        vertical-align: top;\n",
       "    }\n",
       "\n",
       "    .dataframe thead th {\n",
       "        text-align: right;\n",
       "    }\n",
       "</style>\n",
       "<table border=\"1\" class=\"dataframe\">\n",
       "  <thead>\n",
       "    <tr style=\"text-align: right;\">\n",
       "      <th></th>\n",
       "      <th></th>\n",
       "      <th></th>\n",
       "      <th></th>\n",
       "      <th></th>\n",
       "      <th>Venta_SO_ML_sin_IVA_IF</th>\n",
       "      <th>Venta_SO_ML_sin_IVA_DV</th>\n",
       "      <th>Diff</th>\n",
       "    </tr>\n",
       "    <tr>\n",
       "      <th>Codigo_Asesor</th>\n",
       "      <th>Nombre_Asesor</th>\n",
       "      <th>Codigo_Vendedor</th>\n",
       "      <th>Nombre_Vendedor</th>\n",
       "      <th>Codigo_Zona_Ruta</th>\n",
       "      <th></th>\n",
       "      <th></th>\n",
       "      <th></th>\n",
       "    </tr>\n",
       "  </thead>\n",
       "  <tbody>\n",
       "    <tr>\n",
       "      <th rowspan=\"2\" valign=\"top\">42</th>\n",
       "      <th rowspan=\"2\" valign=\"top\">42</th>\n",
       "      <th>31000840</th>\n",
       "      <th>Oscar Orlando Acosta</th>\n",
       "      <th>C007C053314</th>\n",
       "      <td>5.907226e+06</td>\n",
       "      <td>12821679.69</td>\n",
       "      <td>6.914454e+06</td>\n",
       "    </tr>\n",
       "    <tr>\n",
       "      <th>31001478</th>\n",
       "      <th>Claudia Pacheco</th>\n",
       "      <th>C007C054215</th>\n",
       "      <td>1.984166e+06</td>\n",
       "      <td>8235134.14</td>\n",
       "      <td>6.250968e+06</td>\n",
       "    </tr>\n",
       "    <tr>\n",
       "      <th>45</th>\n",
       "      <th>45</th>\n",
       "      <th>31002283</th>\n",
       "      <th>Clarena Cordoba</th>\n",
       "      <th>C003C031607</th>\n",
       "      <td>9.176272e+06</td>\n",
       "      <td>12509212.75</td>\n",
       "      <td>3.332941e+06</td>\n",
       "    </tr>\n",
       "    <tr>\n",
       "      <th>100</th>\n",
       "      <th>100</th>\n",
       "      <th>31004818</th>\n",
       "      <th>Viviana Cardenas</th>\n",
       "      <th>C001C015010</th>\n",
       "      <td>6.556391e+06</td>\n",
       "      <td>9552695.99</td>\n",
       "      <td>2.996305e+06</td>\n",
       "    </tr>\n",
       "    <tr>\n",
       "      <th>15</th>\n",
       "      <th>15</th>\n",
       "      <th>31003012</th>\n",
       "      <th>Lesly Jhoana Ossa</th>\n",
       "      <th>C003C031509</th>\n",
       "      <td>3.289682e+06</td>\n",
       "      <td>6181724.59</td>\n",
       "      <td>2.892042e+06</td>\n",
       "    </tr>\n",
       "    <tr>\n",
       "      <th>...</th>\n",
       "      <th>...</th>\n",
       "      <th>...</th>\n",
       "      <th>...</th>\n",
       "      <th>...</th>\n",
       "      <td>...</td>\n",
       "      <td>...</td>\n",
       "      <td>...</td>\n",
       "    </tr>\n",
       "    <tr>\n",
       "      <th>101</th>\n",
       "      <th>101</th>\n",
       "      <th>31004754</th>\n",
       "      <th>Katerine Vernasa Angulo</th>\n",
       "      <th>C005C052844</th>\n",
       "      <td>1.388678e+07</td>\n",
       "      <td>13886776.04</td>\n",
       "      <td>0.000000e+00</td>\n",
       "    </tr>\n",
       "    <tr>\n",
       "      <th>26</th>\n",
       "      <th>26</th>\n",
       "      <th>31007387</th>\n",
       "      <th>Liyi Haidy Ramirez</th>\n",
       "      <th>C005C054002</th>\n",
       "      <td>7.653346e+05</td>\n",
       "      <td>761774.93</td>\n",
       "      <td>-3.559660e+03</td>\n",
       "    </tr>\n",
       "    <tr>\n",
       "      <th>42</th>\n",
       "      <th>42</th>\n",
       "      <th>31001946</th>\n",
       "      <th>Felipe Munoz</th>\n",
       "      <th>C007C053317</th>\n",
       "      <td>2.697312e+06</td>\n",
       "      <td>2657816.14</td>\n",
       "      <td>-3.949578e+04</td>\n",
       "    </tr>\n",
       "    <tr>\n",
       "      <th>13</th>\n",
       "      <th>13</th>\n",
       "      <th>31001686</th>\n",
       "      <th>Venta de Oficina</th>\n",
       "      <th>C001C021306</th>\n",
       "      <td>NaN</td>\n",
       "      <td>0.00</td>\n",
       "      <td>NaN</td>\n",
       "    </tr>\n",
       "    <tr>\n",
       "      <th>51</th>\n",
       "      <th>51</th>\n",
       "      <th>31003857</th>\n",
       "      <th>Ventas de Oficina</th>\n",
       "      <th>C001C020516</th>\n",
       "      <td>NaN</td>\n",
       "      <td>0.00</td>\n",
       "      <td>NaN</td>\n",
       "    </tr>\n",
       "  </tbody>\n",
       "</table>\n",
       "<p>244 rows × 3 columns</p>\n",
       "</div>"
      ],
      "text/plain": [
       "                                                                                      Venta_SO_ML_sin_IVA_IF  \\\n",
       "Codigo_Asesor Nombre_Asesor Codigo_Vendedor Nombre_Vendedor         Codigo_Zona_Ruta                           \n",
       "42            42            31000840        Oscar Orlando Acosta    C007C053314                 5.907226e+06   \n",
       "                            31001478        Claudia Pacheco         C007C054215                 1.984166e+06   \n",
       "45            45            31002283        Clarena Cordoba         C003C031607                 9.176272e+06   \n",
       "100           100           31004818        Viviana Cardenas        C001C015010                 6.556391e+06   \n",
       "15            15            31003012        Lesly Jhoana Ossa       C003C031509                 3.289682e+06   \n",
       "...                                                                                                      ...   \n",
       "101           101           31004754        Katerine Vernasa Angulo C005C052844                 1.388678e+07   \n",
       "26            26            31007387        Liyi Haidy Ramirez      C005C054002                 7.653346e+05   \n",
       "42            42            31001946        Felipe Munoz            C007C053317                 2.697312e+06   \n",
       "13            13            31001686        Venta de Oficina        C001C021306                          NaN   \n",
       "51            51            31003857        Ventas de Oficina       C001C020516                          NaN   \n",
       "\n",
       "                                                                                      Venta_SO_ML_sin_IVA_DV  \\\n",
       "Codigo_Asesor Nombre_Asesor Codigo_Vendedor Nombre_Vendedor         Codigo_Zona_Ruta                           \n",
       "42            42            31000840        Oscar Orlando Acosta    C007C053314                  12821679.69   \n",
       "                            31001478        Claudia Pacheco         C007C054215                   8235134.14   \n",
       "45            45            31002283        Clarena Cordoba         C003C031607                  12509212.75   \n",
       "100           100           31004818        Viviana Cardenas        C001C015010                   9552695.99   \n",
       "15            15            31003012        Lesly Jhoana Ossa       C003C031509                   6181724.59   \n",
       "...                                                                                                      ...   \n",
       "101           101           31004754        Katerine Vernasa Angulo C005C052844                  13886776.04   \n",
       "26            26            31007387        Liyi Haidy Ramirez      C005C054002                    761774.93   \n",
       "42            42            31001946        Felipe Munoz            C007C053317                   2657816.14   \n",
       "13            13            31001686        Venta de Oficina        C001C021306                         0.00   \n",
       "51            51            31003857        Ventas de Oficina       C001C020516                         0.00   \n",
       "\n",
       "                                                                                              Diff  \n",
       "Codigo_Asesor Nombre_Asesor Codigo_Vendedor Nombre_Vendedor         Codigo_Zona_Ruta                \n",
       "42            42            31000840        Oscar Orlando Acosta    C007C053314       6.914454e+06  \n",
       "                            31001478        Claudia Pacheco         C007C054215       6.250968e+06  \n",
       "45            45            31002283        Clarena Cordoba         C003C031607       3.332941e+06  \n",
       "100           100           31004818        Viviana Cardenas        C001C015010       2.996305e+06  \n",
       "15            15            31003012        Lesly Jhoana Ossa       C003C031509       2.892042e+06  \n",
       "...                                                                                            ...  \n",
       "101           101           31004754        Katerine Vernasa Angulo C005C052844       0.000000e+00  \n",
       "26            26            31007387        Liyi Haidy Ramirez      C005C054002      -3.559660e+03  \n",
       "42            42            31001946        Felipe Munoz            C007C053317      -3.949578e+04  \n",
       "13            13            31001686        Venta de Oficina        C001C021306                NaN  \n",
       "51            51            31003857        Ventas de Oficina       C001C020516                NaN  \n",
       "\n",
       "[244 rows x 3 columns]"
      ]
     },
     "metadata": {},
     "output_type": "display_data"
    },
    {
     "name": "stdout",
     "output_type": "stream",
     "text": [
      "<class 'pandas.core.frame.DataFrame'>\n",
      "MultiIndex: 244 entries, (42, 42, 31000840, 'Oscar Orlando Acosta', 'C007C053314') to (51, 51, 31003857, 'Ventas de Oficina', 'C001C020516')\n",
      "Data columns (total 3 columns):\n",
      " #   Column                  Non-Null Count  Dtype  \n",
      "---  ------                  --------------  -----  \n",
      " 0   Venta_SO_ML_sin_IVA_IF  242 non-null    float64\n",
      " 1   Venta_SO_ML_sin_IVA_DV  244 non-null    float64\n",
      " 2   Diff                    242 non-null    float64\n",
      "dtypes: float64(3)\n",
      "memory usage: 34.7+ KB\n"
     ]
    },
    {
     "data": {
      "text/html": [
       "<div>\n",
       "<style scoped>\n",
       "    .dataframe tbody tr th:only-of-type {\n",
       "        vertical-align: middle;\n",
       "    }\n",
       "\n",
       "    .dataframe tbody tr th {\n",
       "        vertical-align: top;\n",
       "    }\n",
       "\n",
       "    .dataframe thead th {\n",
       "        text-align: right;\n",
       "    }\n",
       "</style>\n",
       "<table border=\"1\" class=\"dataframe\">\n",
       "  <thead>\n",
       "    <tr style=\"text-align: right;\">\n",
       "      <th></th>\n",
       "      <th></th>\n",
       "      <th></th>\n",
       "      <th></th>\n",
       "      <th></th>\n",
       "      <th>Venta_SO_ML_sin_IVA_IF</th>\n",
       "      <th>Venta_SO_ML_sin_IVA_DV</th>\n",
       "      <th>Diff</th>\n",
       "    </tr>\n",
       "    <tr>\n",
       "      <th>Codigo_Asesor</th>\n",
       "      <th>Nombre_Asesor</th>\n",
       "      <th>Codigo_Vendedor</th>\n",
       "      <th>Nombre_Vendedor</th>\n",
       "      <th>Codigo_Zona_Ruta</th>\n",
       "      <th></th>\n",
       "      <th></th>\n",
       "      <th></th>\n",
       "    </tr>\n",
       "  </thead>\n",
       "  <tbody>\n",
       "    <tr>\n",
       "      <th rowspan=\"2\" valign=\"top\">42</th>\n",
       "      <th rowspan=\"2\" valign=\"top\">42</th>\n",
       "      <th>31000840</th>\n",
       "      <th>Oscar Orlando Acosta</th>\n",
       "      <th>C007C053314</th>\n",
       "      <td>5.907226e+06</td>\n",
       "      <td>12821679.69</td>\n",
       "      <td>6.914454e+06</td>\n",
       "    </tr>\n",
       "    <tr>\n",
       "      <th>31001478</th>\n",
       "      <th>Claudia Pacheco</th>\n",
       "      <th>C007C054215</th>\n",
       "      <td>1.984166e+06</td>\n",
       "      <td>8235134.14</td>\n",
       "      <td>6.250968e+06</td>\n",
       "    </tr>\n",
       "    <tr>\n",
       "      <th>45</th>\n",
       "      <th>45</th>\n",
       "      <th>31002283</th>\n",
       "      <th>Clarena Cordoba</th>\n",
       "      <th>C003C031607</th>\n",
       "      <td>9.176272e+06</td>\n",
       "      <td>12509212.75</td>\n",
       "      <td>3.332941e+06</td>\n",
       "    </tr>\n",
       "    <tr>\n",
       "      <th>100</th>\n",
       "      <th>100</th>\n",
       "      <th>31004818</th>\n",
       "      <th>Viviana Cardenas</th>\n",
       "      <th>C001C015010</th>\n",
       "      <td>6.556391e+06</td>\n",
       "      <td>9552695.99</td>\n",
       "      <td>2.996305e+06</td>\n",
       "    </tr>\n",
       "    <tr>\n",
       "      <th>15</th>\n",
       "      <th>15</th>\n",
       "      <th>31003012</th>\n",
       "      <th>Lesly Jhoana Ossa</th>\n",
       "      <th>C003C031509</th>\n",
       "      <td>3.289682e+06</td>\n",
       "      <td>6181724.59</td>\n",
       "      <td>2.892042e+06</td>\n",
       "    </tr>\n",
       "    <tr>\n",
       "      <th>...</th>\n",
       "      <th>...</th>\n",
       "      <th>...</th>\n",
       "      <th>...</th>\n",
       "      <th>...</th>\n",
       "      <td>...</td>\n",
       "      <td>...</td>\n",
       "      <td>...</td>\n",
       "    </tr>\n",
       "    <tr>\n",
       "      <th>101</th>\n",
       "      <th>101</th>\n",
       "      <th>31004754</th>\n",
       "      <th>Katerine Vernasa Angulo</th>\n",
       "      <th>C005C052844</th>\n",
       "      <td>1.388678e+07</td>\n",
       "      <td>13886776.04</td>\n",
       "      <td>0.000000e+00</td>\n",
       "    </tr>\n",
       "    <tr>\n",
       "      <th>26</th>\n",
       "      <th>26</th>\n",
       "      <th>31007387</th>\n",
       "      <th>Liyi Haidy Ramirez</th>\n",
       "      <th>C005C054002</th>\n",
       "      <td>7.653346e+05</td>\n",
       "      <td>761774.93</td>\n",
       "      <td>-3.559660e+03</td>\n",
       "    </tr>\n",
       "    <tr>\n",
       "      <th>42</th>\n",
       "      <th>42</th>\n",
       "      <th>31001946</th>\n",
       "      <th>Felipe Munoz</th>\n",
       "      <th>C007C053317</th>\n",
       "      <td>2.697312e+06</td>\n",
       "      <td>2657816.14</td>\n",
       "      <td>-3.949578e+04</td>\n",
       "    </tr>\n",
       "    <tr>\n",
       "      <th>13</th>\n",
       "      <th>13</th>\n",
       "      <th>31001686</th>\n",
       "      <th>Venta de Oficina</th>\n",
       "      <th>C001C021306</th>\n",
       "      <td>NaN</td>\n",
       "      <td>0.00</td>\n",
       "      <td>NaN</td>\n",
       "    </tr>\n",
       "    <tr>\n",
       "      <th>51</th>\n",
       "      <th>51</th>\n",
       "      <th>31003857</th>\n",
       "      <th>Ventas de Oficina</th>\n",
       "      <th>C001C020516</th>\n",
       "      <td>NaN</td>\n",
       "      <td>0.00</td>\n",
       "      <td>NaN</td>\n",
       "    </tr>\n",
       "  </tbody>\n",
       "</table>\n",
       "<p>244 rows × 3 columns</p>\n",
       "</div>"
      ],
      "text/plain": [
       "                                                                                      Venta_SO_ML_sin_IVA_IF  \\\n",
       "Codigo_Asesor Nombre_Asesor Codigo_Vendedor Nombre_Vendedor         Codigo_Zona_Ruta                           \n",
       "42            42            31000840        Oscar Orlando Acosta    C007C053314                 5.907226e+06   \n",
       "                            31001478        Claudia Pacheco         C007C054215                 1.984166e+06   \n",
       "45            45            31002283        Clarena Cordoba         C003C031607                 9.176272e+06   \n",
       "100           100           31004818        Viviana Cardenas        C001C015010                 6.556391e+06   \n",
       "15            15            31003012        Lesly Jhoana Ossa       C003C031509                 3.289682e+06   \n",
       "...                                                                                                      ...   \n",
       "101           101           31004754        Katerine Vernasa Angulo C005C052844                 1.388678e+07   \n",
       "26            26            31007387        Liyi Haidy Ramirez      C005C054002                 7.653346e+05   \n",
       "42            42            31001946        Felipe Munoz            C007C053317                 2.697312e+06   \n",
       "13            13            31001686        Venta de Oficina        C001C021306                          NaN   \n",
       "51            51            31003857        Ventas de Oficina       C001C020516                          NaN   \n",
       "\n",
       "                                                                                      Venta_SO_ML_sin_IVA_DV  \\\n",
       "Codigo_Asesor Nombre_Asesor Codigo_Vendedor Nombre_Vendedor         Codigo_Zona_Ruta                           \n",
       "42            42            31000840        Oscar Orlando Acosta    C007C053314                  12821679.69   \n",
       "                            31001478        Claudia Pacheco         C007C054215                   8235134.14   \n",
       "45            45            31002283        Clarena Cordoba         C003C031607                  12509212.75   \n",
       "100           100           31004818        Viviana Cardenas        C001C015010                   9552695.99   \n",
       "15            15            31003012        Lesly Jhoana Ossa       C003C031509                   6181724.59   \n",
       "...                                                                                                      ...   \n",
       "101           101           31004754        Katerine Vernasa Angulo C005C052844                  13886776.04   \n",
       "26            26            31007387        Liyi Haidy Ramirez      C005C054002                    761774.93   \n",
       "42            42            31001946        Felipe Munoz            C007C053317                   2657816.14   \n",
       "13            13            31001686        Venta de Oficina        C001C021306                         0.00   \n",
       "51            51            31003857        Ventas de Oficina       C001C020516                         0.00   \n",
       "\n",
       "                                                                                              Diff  \n",
       "Codigo_Asesor Nombre_Asesor Codigo_Vendedor Nombre_Vendedor         Codigo_Zona_Ruta                \n",
       "42            42            31000840        Oscar Orlando Acosta    C007C053314       6.914454e+06  \n",
       "                            31001478        Claudia Pacheco         C007C054215       6.250968e+06  \n",
       "45            45            31002283        Clarena Cordoba         C003C031607       3.332941e+06  \n",
       "100           100           31004818        Viviana Cardenas        C001C015010       2.996305e+06  \n",
       "15            15            31003012        Lesly Jhoana Ossa       C003C031509       2.892042e+06  \n",
       "...                                                                                            ...  \n",
       "101           101           31004754        Katerine Vernasa Angulo C005C052844       0.000000e+00  \n",
       "26            26            31007387        Liyi Haidy Ramirez      C005C054002      -3.559660e+03  \n",
       "42            42            31001946        Felipe Munoz            C007C053317      -3.949578e+04  \n",
       "13            13            31001686        Venta de Oficina        C001C021306                NaN  \n",
       "51            51            31003857        Ventas de Oficina       C001C020516                NaN  \n",
       "\n",
       "[244 rows x 3 columns]"
      ]
     },
     "metadata": {},
     "output_type": "display_data"
    }
   ],
   "source": [
    "df_merged = pd.concat([table_if, table_dv], axis=1, ignore_index=True, sort=False)\n",
    "df_merged = df_merged.rename(columns={0: 'Venta_SO_ML_sin_IVA_IF', 1 : 'Venta_SO_ML_sin_IVA_DV'})\n",
    "df_merged['Diff'] = df_merged['Venta_SO_ML_sin_IVA_DV'] - df_merged['Venta_SO_ML_sin_IVA_IF']\n",
    "\n",
    "#df_merged.info()\n",
    "df_merged = df_merged.sort_values(by=['Diff'], ascending=False)\n",
    "df_merged_vendedor = df_merged.loc[(df_merged['Diff'] >= nStart) | (df_merged['Diff'] <= nStart2)]\n",
    "\n",
    "display(df_merged)\n",
    "#display(df_merged_vendedor)\n",
    "\n",
    "df_merged.info()\n",
    "display(df_merged)"
   ]
  },
  {
   "cell_type": "code",
   "execution_count": 11,
   "metadata": {},
   "outputs": [],
   "source": []
  },
  {
   "cell_type": "code",
   "execution_count": 32,
   "metadata": {
    "colab": {
     "base_uri": "https://localhost:8080/",
     "height": 34
    },
    "executionInfo": {
     "elapsed": 27,
     "status": "ok",
     "timestamp": 1706402510522,
     "user": {
      "displayName": "Diego Henrique Silva Furukawa",
      "userId": "12424190321281319347"
     },
     "user_tz": 180
    },
    "id": "eC94oa_PKfB7",
    "outputId": "493e745b-435c-4081-9122-9cef3d9719f5"
   },
   "outputs": [
    {
     "data": {
      "text/plain": [
       "865426486.9099998"
      ]
     },
     "metadata": {},
     "output_type": "display_data"
    }
   ],
   "source": [
    "total_dv = table_dv['Venta_SO_ML_sin_IVA_DV'].sum()\n",
    "display(total_dv)"
   ]
  },
  {
   "cell_type": "code",
   "execution_count": 33,
   "metadata": {
    "colab": {
     "base_uri": "https://localhost:8080/",
     "height": 34
    },
    "executionInfo": {
     "elapsed": 26,
     "status": "ok",
     "timestamp": 1706402510522,
     "user": {
      "displayName": "Diego Henrique Silva Furukawa",
      "userId": "12424190321281319347"
     },
     "user_tz": 180
    },
    "id": "CbSv3WtLKqyH",
    "outputId": "87233ca5-c985-41a1-e1a3-e6d1d87a567b"
   },
   "outputs": [
    {
     "data": {
      "text/plain": [
       "651700574.0442"
      ]
     },
     "metadata": {},
     "output_type": "display_data"
    }
   ],
   "source": [
    "total_if = table_if['Venta_SO_ML_sin_IVA_IF'].sum()\n",
    "display(total_if)"
   ]
  },
  {
   "cell_type": "code",
   "execution_count": 34,
   "metadata": {
    "colab": {
     "base_uri": "https://localhost:8080/",
     "height": 34
    },
    "executionInfo": {
     "elapsed": 25,
     "status": "ok",
     "timestamp": 1706402510522,
     "user": {
      "displayName": "Diego Henrique Silva Furukawa",
      "userId": "12424190321281319347"
     },
     "user_tz": 180
    },
    "id": "qaI8O7cXKzu4",
    "outputId": "892083d3-56de-405d-d981-efd8185edd6a"
   },
   "outputs": [
    {
     "data": {
      "text/plain": [
       "213725912.8657999"
      ]
     },
     "metadata": {},
     "output_type": "display_data"
    }
   ],
   "source": [
    "diff = total_dv - total_if\n",
    "display(diff)"
   ]
  },
  {
   "cell_type": "code",
   "execution_count": 35,
   "metadata": {
    "colab": {
     "base_uri": "https://localhost:8080/"
    },
    "executionInfo": {
     "elapsed": 25,
     "status": "ok",
     "timestamp": 1706402510522,
     "user": {
      "displayName": "Diego Henrique Silva Furukawa",
      "userId": "12424190321281319347"
     },
     "user_tz": 180
    },
    "id": "c7dNhkfRKMD6",
    "outputId": "659b2d2c-9879-45ad-e3b5-ba7e607a2ef9"
   },
   "outputs": [
    {
     "name": "stdout",
     "output_type": "stream",
     "text": [
      "Incentivos Familia: 651700574.0442\n",
      "Detalhe de Vendas: 865426486.9099998\n",
      "Analisando faturamento entre os 2 reportes temos uma diferença de 213725912.8657999 **Deu merda** Avisa Geral!!!\n"
     ]
    }
   ],
   "source": [
    "diff_faturamento = diff\n",
    "#display(diff_faturamento)\n",
    "\n",
    "if diff_faturamento < 0:\n",
    "  diff_faturamento * (-1)\n",
    "else:\n",
    "  diff_faturamento\n",
    "\n",
    "print('Incentivos Familia: ' + str(total_if))\n",
    "print('Detalhe de Vendas: ' + str(total_dv))\n",
    "\n",
    "if diff_faturamento > nStartFaturamento:\n",
    "    print('Analisando faturamento entre os 2 reportes temos uma diferença de ' + str(diff_faturamento) + ' **Deu merda** Avisa Geral!!!')\n",
    "else:\n",
    "    print('Analisando faturamento entre os 2 reportes temos uma diferença de ' + str(diff_faturamento) + ' Ta de boa!!! pode ir pro café')"
   ]
  },
  {
   "cell_type": "code",
   "execution_count": 36,
   "metadata": {
    "colab": {
     "base_uri": "https://localhost:8080/"
    },
    "executionInfo": {
     "elapsed": 21,
     "status": "ok",
     "timestamp": 1706402510522,
     "user": {
      "displayName": "Diego Henrique Silva Furukawa",
      "userId": "12424190321281319347"
     },
     "user_tz": 180
    },
    "id": "vCjQXX8XKPPz",
    "outputId": "9789b164-f572-42dd-bb04-4f2cc6f62b4e"
   },
   "outputs": [
    {
     "name": "stdout",
     "output_type": "stream",
     "text": [
      "Segundo os paramentros aplicados temos 232 vendedores com diferenças consideraveis de faturamento após comparar os 2 reportes\n"
     ]
    },
    {
     "name": "stderr",
     "output_type": "stream",
     "text": [
      "C:\\Users\\dfurukawa\\AppData\\Local\\Temp\\ipykernel_13928\\3094505474.py:1: FutureWarning: Calling int on a single element Series is deprecated and will raise a TypeError in the future. Use int(ser.iloc[0]) instead\n",
      "  diff_vendedor = int(df_merged_vendedor[['Diff']].count())\n"
     ]
    }
   ],
   "source": [
    "diff_vendedor = int(df_merged_vendedor[['Diff']].count())\n",
    "\n",
    "#display(diff_vendedor)\n",
    "print('Segundo os paramentros aplicados temos ' + str(diff_vendedor) + ' vendedores com diferenças consideraveis de faturamento após comparar os 2 reportes')"
   ]
  },
  {
   "cell_type": "code",
   "execution_count": null,
   "metadata": {},
   "outputs": [],
   "source": [
    "#df_merged.info()\n",
    "df_merged.to_excel(\"output.xlsx\")"
   ]
  },
  {
   "cell_type": "code",
   "execution_count": 37,
   "metadata": {},
   "outputs": [
    {
     "data": {
      "text/plain": [
       "Venta_SO_ML_sin_IVA_IF    2\n",
       "Venta_SO_ML_sin_IVA_DV    0\n",
       "Diff                      2\n",
       "dtype: int64"
      ]
     },
     "execution_count": 37,
     "metadata": {},
     "output_type": "execute_result"
    }
   ],
   "source": [
    "df_merged.isnull().sum()"
   ]
  },
  {
   "cell_type": "code",
   "execution_count": null,
   "metadata": {},
   "outputs": [],
   "source": []
  }
 ],
 "metadata": {
  "colab": {
   "provenance": []
  },
  "kernelspec": {
   "display_name": "Python 3 (ipykernel)",
   "language": "python",
   "name": "python3"
  },
  "language_info": {
   "codemirror_mode": {
    "name": "ipython",
    "version": 3
   },
   "file_extension": ".py",
   "mimetype": "text/x-python",
   "name": "python",
   "nbconvert_exporter": "python",
   "pygments_lexer": "ipython3",
   "version": "3.11.5"
  }
 },
 "nbformat": 4,
 "nbformat_minor": 1
}
