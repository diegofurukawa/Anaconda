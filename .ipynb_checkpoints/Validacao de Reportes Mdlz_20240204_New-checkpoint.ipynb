{
 "cells": [
  {
   "cell_type": "markdown",
   "metadata": {
    "id": "9j79QoCgARAL"
   },
   "source": [
    "# **Analise de Faturamento entre os Reportes de Incentivos_Familia & Detalle_de_ventas**"
   ]
  },
  {
   "cell_type": "markdown",
   "metadata": {
    "id": "Tu8zHTbeAOfF"
   },
   "source": [
    "# Para que funcione corretamente suba os arquivos de Incentivos_Familia e Detalle_de_ventas na pasta **MyDrive/Colab Notebooks/Mondelez_COLEC** do seu Drive e devem se chamar exatamente\n",
    "\n",
    "*   MC1_INT_CSV_Incentivos_Familia.CSV\n",
    "*   MC1_INT_CSV_Detalle_de_ventas.CSV\n",
    "\n"
   ]
  },
  {
   "cell_type": "markdown",
   "metadata": {
    "id": "TR2pmAlT2swS"
   },
   "source": [
    "# Importandos Bibliotecas necessários para analise"
   ]
  },
  {
   "cell_type": "markdown",
   "metadata": {
    "id": "C8VpcPczDTfx"
   },
   "source": [
    "# **Instruções de Uso**\n",
    "\n",
    "\n",
    "1.   Execute somente a Primeira célula para montar o Drive do Google\n",
    "2.   Ele irá solicitar acesso ao seu drive, conceda. Deverá aparecer a seguinte mensagem ao terminar, \"Mounted at /content/drive\"\n",
    "3.   Após execute a 2ª célula. Deverá aparecer a seguinte mensagem ao terminar, \"Pasta criada com sucesso!\"\n",
    "4.   Abra o seu google drive procure pela pasta \"Colab Notebooks/Mondelez_COLEC\"\n",
    "5.   Copie os arquivos gerados para a pasta mencionada acima. Conforme instruções.\n",
    "6.   Execute toda cadeia de execuções através do atalho \"CRTL + F9\" ou vá em Ambiente de Execução / Executar Tudo\n",
    "\n",
    "***Para que funcione corretamente suba os arquivos de Incentivos_Familia e Detalle_de_ventas na pasta Colab Notebooks/Mondelez_COLEC do seu Drive e devem se chamar exatamente MC1_INT_CSV_Incentivos_Familia.CSV e MC1_INT_CSV_Detalle_de_ventas.CSV***\n",
    "\n",
    "\n",
    "\n"
   ]
  },
  {
   "cell_type": "code",
   "execution_count": 43,
   "metadata": {
    "colab": {
     "base_uri": "https://localhost:8080/"
    },
    "executionInfo": {
     "elapsed": 2226,
     "status": "ok",
     "timestamp": 1706402495757,
     "user": {
      "displayName": "Diego Henrique Silva Furukawa",
      "userId": "12424190321281319347"
     },
     "user_tz": 180
    },
    "id": "V1cGcVBr7bE1",
    "outputId": "af692ea8-d29c-4de3-80de-8ad1b81fccb4"
   },
   "outputs": [],
   "source": [
    "# 1ª CELULA\n",
    "\n",
    "import os\n",
    "#import wget\n",
    "\n",
    "import pandas as pd\n",
    "# import seaborn as sns\n",
    "# import matplotlib.pyplot as plt\n",
    "from pathlib import Path\n",
    "# from sklearn.model_selection import train_test_split\n",
    "# from sklearn import metrics\n",
    "# from sklearn.ensemble import RandomForestClassifier\n",
    "#from google.colab import drive\n",
    "\n",
    "#drive.mount('/content/drive')\n",
    "\n",
    "#Paramtros de aceitação de diferença entre os 2 reportes para Analise por vendedor\n",
    "nStart = 5000\n",
    "nStart2 = -5000\n",
    "\n",
    "nStartFaturamento = 50000"
   ]
  },
  {
   "cell_type": "code",
   "execution_count": 44,
   "metadata": {
    "colab": {
     "base_uri": "https://localhost:8080/"
    },
    "executionInfo": {
     "elapsed": 7,
     "status": "ok",
     "timestamp": 1706402495758,
     "user": {
      "displayName": "Diego Henrique Silva Furukawa",
      "userId": "12424190321281319347"
     },
     "user_tz": 180
    },
    "id": "XKsEOZ15f-Jr",
    "outputId": "638aa66a-5b9a-4c2f-81fe-07400a57f387"
   },
   "outputs": [
    {
     "name": "stdout",
     "output_type": "stream",
     "text": [
      "Pasta criada com sucesso!\n"
     ]
    }
   ],
   "source": [
    "# 2ª CELULA\n",
    "separator = \",\"\n",
    "path = Path(\"./\")\n",
    "path.mkdir(parents=True, exist_ok=True)\n",
    "\n",
    "print('Pasta criada com sucesso!')"
   ]
  },
  {
   "cell_type": "markdown",
   "metadata": {
    "id": "BEg673in24pE"
   },
   "source": [
    "\n",
    "\n"
   ]
  },
  {
   "cell_type": "code",
   "execution_count": 45,
   "metadata": {
    "executionInfo": {
     "elapsed": 6,
     "status": "ok",
     "timestamp": 1706402495758,
     "user": {
      "displayName": "Diego Henrique Silva Furukawa",
      "userId": "12424190321281319347"
     },
     "user_tz": 180
    },
    "id": "jAQCCw0t9VxS"
   },
   "outputs": [],
   "source": [
    "path_incentivos_familia = r\"./MC1_INT_CSV_Incentivos_Familia.CSV\"\n",
    "path_detalhe_de_vendas = r\"./MC1_INT_CSV_Detalle_de_ventas.CSV\""
   ]
  },
  {
   "cell_type": "markdown",
   "metadata": {
    "id": "H8MLWTimKT8k"
   },
   "source": [
    "# Incentivos Familia - Tratamento do Arquivo"
   ]
  },
  {
   "cell_type": "code",
   "execution_count": 46,
   "metadata": {
    "colab": {
     "base_uri": "https://localhost:8080/"
    },
    "executionInfo": {
     "elapsed": 6,
     "status": "ok",
     "timestamp": 1706402495758,
     "user": {
      "displayName": "Diego Henrique Silva Furukawa",
      "userId": "12424190321281319347"
     },
     "user_tz": 180
    },
    "id": "y9KjWdzM9X1n",
    "outputId": "442b4619-fd14-40b9-bd09-2d2b7d9621bb"
   },
   "outputs": [],
   "source": [
    "incentivosfamilia = pd.read_csv(path_incentivos_familia, sep=separator)\n",
    "\n",
    "incentivosfamilia['Venta_SO_ML_sin_IVA'] = incentivosfamilia['Venta_SO_ML_sin_IVA'].str.replace('.','')\n",
    "incentivosfamilia['Venta_SO_ML_sin_IVA'] = incentivosfamilia['Venta_SO_ML_sin_IVA'].str.replace(',','.')\n",
    "incentivosfamilia['Venta_SO_ML_sin_IVA'] = incentivosfamilia['Venta_SO_ML_sin_IVA'].astype(float)\n",
    "\n",
    "incentivosfamilia['Codigo_Cliente_SI'] = incentivosfamilia['Codigo_Cliente_SI'].astype(object)\n",
    "incentivosfamilia['Codigo_Asesor'] = incentivosfamilia['Codigo_Asesor'].astype(object)\n",
    "incentivosfamilia['Codigo_Vendedor'] = incentivosfamilia['Codigo_Vendedor'].astype(object)\n",
    "incentivosfamilia['Codigo Modelo de Venta'] = incentivosfamilia['Codigo Modelo de Venta'].astype(object)\n",
    "incentivosfamilia['Ano'] = incentivosfamilia['Ano'].astype(object)\n",
    "incentivosfamilia['Periodo'] = incentivosfamilia['Periodo'].astype(object)\n",
    "incentivosfamilia['Periodo'] = incentivosfamilia['Periodo'].astype(object)\n",
    "\n",
    "incentivosfamilia = incentivosfamilia.rename(columns={'Codigo Zona-Ruta' : 'Codigo_Zona_Ruta'})\n"
   ]
  },
  {
   "cell_type": "code",
   "execution_count": 47,
   "metadata": {
    "colab": {
     "base_uri": "https://localhost:8080/"
    },
    "executionInfo": {
     "elapsed": 338,
     "status": "ok",
     "timestamp": 1706402496093,
     "user": {
      "displayName": "Diego Henrique Silva Furukawa",
      "userId": "12424190321281319347"
     },
     "user_tz": 180
    },
    "id": "3Zza8wJ_Ii_z",
    "outputId": "d0fd9d07-afbc-458a-c2c1-b2350f665405"
   },
   "outputs": [],
   "source": [
    "#incentivosfamilia.info()"
   ]
  },
  {
   "cell_type": "markdown",
   "metadata": {},
   "source": [
    "# Incentivos Familia - Totalizando"
   ]
  },
  {
   "cell_type": "code",
   "execution_count": 48,
   "metadata": {},
   "outputs": [
    {
     "data": {
      "text/html": [
       "<div>\n",
       "<style scoped>\n",
       "    .dataframe tbody tr th:only-of-type {\n",
       "        vertical-align: middle;\n",
       "    }\n",
       "\n",
       "    .dataframe tbody tr th {\n",
       "        vertical-align: top;\n",
       "    }\n",
       "\n",
       "    .dataframe thead th {\n",
       "        text-align: right;\n",
       "    }\n",
       "</style>\n",
       "<table border=\"1\" class=\"dataframe\">\n",
       "  <thead>\n",
       "    <tr style=\"text-align: right;\">\n",
       "      <th></th>\n",
       "      <th></th>\n",
       "      <th></th>\n",
       "      <th></th>\n",
       "      <th></th>\n",
       "      <th>Venta_SO_ML_sin_IVA_IF</th>\n",
       "    </tr>\n",
       "    <tr>\n",
       "      <th>Codigo_Asesor</th>\n",
       "      <th>Nombre_Asesor</th>\n",
       "      <th>Codigo_Vendedor</th>\n",
       "      <th>Nombre_Vendedor</th>\n",
       "      <th>Codigo_Zona_Ruta</th>\n",
       "      <th></th>\n",
       "    </tr>\n",
       "  </thead>\n",
       "  <tbody>\n",
       "    <tr>\n",
       "      <th rowspan=\"5\" valign=\"top\">8</th>\n",
       "      <th rowspan=\"5\" valign=\"top\">8</th>\n",
       "      <th>31002048</th>\n",
       "      <th>Henry Buitrago APOLO A3</th>\n",
       "      <th>C001C020805</th>\n",
       "      <td>3.647950e+06</td>\n",
       "    </tr>\n",
       "    <tr>\n",
       "      <th>31003343</th>\n",
       "      <th>Nancy Carvajal APOLO A4</th>\n",
       "      <th>C001C020806</th>\n",
       "      <td>2.770887e+06</td>\n",
       "    </tr>\n",
       "    <tr>\n",
       "      <th>31004066</th>\n",
       "      <th>Carlos Arturo Ramirez APOLO A1</th>\n",
       "      <th>C001C020802</th>\n",
       "      <td>3.960032e+06</td>\n",
       "    </tr>\n",
       "    <tr>\n",
       "      <th>31004209</th>\n",
       "      <th>ADRIANA HINCAPIE</th>\n",
       "      <th>C001C021121</th>\n",
       "      <td>3.679964e+06</td>\n",
       "    </tr>\n",
       "    <tr>\n",
       "      <th>31004380</th>\n",
       "      <th>Milena Marin</th>\n",
       "      <th>C001C020803</th>\n",
       "      <td>2.105743e+06</td>\n",
       "    </tr>\n",
       "    <tr>\n",
       "      <th>...</th>\n",
       "      <th>...</th>\n",
       "      <th>...</th>\n",
       "      <th>...</th>\n",
       "      <th>...</th>\n",
       "      <td>...</td>\n",
       "    </tr>\n",
       "    <tr>\n",
       "      <th rowspan=\"5\" valign=\"top\">108</th>\n",
       "      <th rowspan=\"5\" valign=\"top\">108</th>\n",
       "      <th>31007057</th>\n",
       "      <th>Dayana Ortiz APOLO A7</th>\n",
       "      <th>C001C020513</th>\n",
       "      <td>2.982825e+06</td>\n",
       "    </tr>\n",
       "    <tr>\n",
       "      <th>31007232</th>\n",
       "      <th>Miriam Villegas APOLO B1</th>\n",
       "      <th>C001C015106</th>\n",
       "      <td>1.983334e+06</td>\n",
       "    </tr>\n",
       "    <tr>\n",
       "      <th>31007234</th>\n",
       "      <th>Viviana Cuatindioy APOLO B3</th>\n",
       "      <th>C001C015102</th>\n",
       "      <td>1.872353e+06</td>\n",
       "    </tr>\n",
       "    <tr>\n",
       "      <th>31007235</th>\n",
       "      <th>Luz Suarez APOLO B5</th>\n",
       "      <th>C001C015104</th>\n",
       "      <td>1.733067e+06</td>\n",
       "    </tr>\n",
       "    <tr>\n",
       "      <th>31007236</th>\n",
       "      <th>Nancy Pineda APOLO B6</th>\n",
       "      <th>C001C015107</th>\n",
       "      <td>5.628992e+05</td>\n",
       "    </tr>\n",
       "  </tbody>\n",
       "</table>\n",
       "<p>242 rows × 1 columns</p>\n",
       "</div>"
      ],
      "text/plain": [
       "                                                                                             Venta_SO_ML_sin_IVA_IF\n",
       "Codigo_Asesor Nombre_Asesor Codigo_Vendedor Nombre_Vendedor                Codigo_Zona_Ruta                        \n",
       "8             8             31002048        Henry Buitrago APOLO A3        C001C020805                 3.647950e+06\n",
       "                            31003343        Nancy Carvajal APOLO A4        C001C020806                 2.770887e+06\n",
       "                            31004066        Carlos Arturo Ramirez APOLO A1 C001C020802                 3.960032e+06\n",
       "                            31004209        ADRIANA HINCAPIE               C001C021121                 3.679964e+06\n",
       "                            31004380        Milena Marin                   C001C020803                 2.105743e+06\n",
       "...                                                                                                             ...\n",
       "108           108           31007057        Dayana Ortiz APOLO A7          C001C020513                 2.982825e+06\n",
       "                            31007232        Miriam Villegas APOLO B1       C001C015106                 1.983334e+06\n",
       "                            31007234        Viviana Cuatindioy APOLO B3    C001C015102                 1.872353e+06\n",
       "                            31007235        Luz Suarez APOLO B5            C001C015104                 1.733067e+06\n",
       "                            31007236        Nancy Pineda APOLO B6          C001C015107                 5.628992e+05\n",
       "\n",
       "[242 rows x 1 columns]"
      ]
     },
     "metadata": {},
     "output_type": "display_data"
    }
   ],
   "source": [
    "table_if =  pd.DataFrame({\n",
    "                    'Codigo_Asesor': incentivosfamilia['Codigo_Asesor']\n",
    "                    ,'Nombre_Asesor': incentivosfamilia['Codigo_Asesor']\n",
    "                    ,'Codigo_Vendedor': incentivosfamilia['Codigo_Vendedor']\n",
    "                    ,'Nombre_Vendedor': incentivosfamilia['Nombre_Vendedor']\n",
    "                    ,'Codigo_Zona_Ruta': incentivosfamilia['Codigo_Zona_Ruta']\n",
    "                    ,'Venta_SO_ML_sin_IVA': incentivosfamilia['Venta_SO_ML_sin_IVA']\n",
    "                    #})\n",
    "                    #}).sum()\n",
    "                    }).groupby(['Codigo_Asesor','Nombre_Asesor','Codigo_Vendedor','Nombre_Vendedor','Codigo_Zona_Ruta']).sum()\n",
    "table_if = table_if.rename(columns={'Venta_SO_ML_sin_IVA': 'Venta_SO_ML_sin_IVA_IF'})\n",
    "\n",
    "display(table_if)"
   ]
  },
  {
   "cell_type": "markdown",
   "metadata": {},
   "source": [
    "# Incentivos Familia - Verificando se existem valores em Branco = ISNULL"
   ]
  },
  {
   "cell_type": "code",
   "execution_count": 49,
   "metadata": {},
   "outputs": [
    {
     "data": {
      "text/html": [
       "<div>\n",
       "<style scoped>\n",
       "    .dataframe tbody tr th:only-of-type {\n",
       "        vertical-align: middle;\n",
       "    }\n",
       "\n",
       "    .dataframe tbody tr th {\n",
       "        vertical-align: top;\n",
       "    }\n",
       "\n",
       "    .dataframe thead th {\n",
       "        text-align: right;\n",
       "    }\n",
       "</style>\n",
       "<table border=\"1\" class=\"dataframe\">\n",
       "  <thead>\n",
       "    <tr style=\"text-align: right;\">\n",
       "      <th></th>\n",
       "      <th></th>\n",
       "      <th></th>\n",
       "      <th></th>\n",
       "      <th></th>\n",
       "      <th>Venta_SO_ML_sin_IVA_IF</th>\n",
       "    </tr>\n",
       "    <tr>\n",
       "      <th>Codigo_Asesor</th>\n",
       "      <th>Nombre_Asesor</th>\n",
       "      <th>Codigo_Vendedor</th>\n",
       "      <th>Nombre_Vendedor</th>\n",
       "      <th>Codigo_Zona_Ruta</th>\n",
       "      <th></th>\n",
       "    </tr>\n",
       "  </thead>\n",
       "  <tbody>\n",
       "  </tbody>\n",
       "</table>\n",
       "</div>"
      ],
      "text/plain": [
       "Empty DataFrame\n",
       "Columns: [Venta_SO_ML_sin_IVA_IF]\n",
       "Index: []"
      ]
     },
     "execution_count": 49,
     "metadata": {},
     "output_type": "execute_result"
    }
   ],
   "source": [
    "table_if[table_if.Venta_SO_ML_sin_IVA_IF.isna()]"
   ]
  },
  {
   "cell_type": "code",
   "execution_count": null,
   "metadata": {},
   "outputs": [],
   "source": []
  },
  {
   "cell_type": "markdown",
   "metadata": {
    "id": "3O8EJx3HnDAR"
   },
   "source": [
    "# Detalhe de Vendas - Tratamento do Arquivo\n"
   ]
  },
  {
   "cell_type": "code",
   "execution_count": 50,
   "metadata": {
    "colab": {
     "base_uri": "https://localhost:8080/"
    },
    "executionInfo": {
     "elapsed": 9904,
     "status": "ok",
     "timestamp": 1706402505994,
     "user": {
      "displayName": "Diego Henrique Silva Furukawa",
      "userId": "12424190321281319347"
     },
     "user_tz": 180
    },
    "id": "7MnMh--9lkfd",
    "outputId": "007360ca-d579-4b40-ae5b-cc7fd4dc212d"
   },
   "outputs": [
    {
     "name": "stderr",
     "output_type": "stream",
     "text": [
      "C:\\Users\\dfurukawa\\AppData\\Local\\Temp\\ipykernel_9680\\4068736779.py:1: DtypeWarning: Columns (18,37,39,40,49,50,51,52,53,54,55,56,57,58,59) have mixed types. Specify dtype option on import or set low_memory=False.\n",
      "  detalhe_de_vendas = pd.read_csv(path_detalhe_de_vendas, sep=\",\")\n"
     ]
    }
   ],
   "source": [
    "detalhe_de_vendas = pd.read_csv(path_detalhe_de_vendas, sep=separator)\n",
    "\n",
    "detalhe_de_vendas['Venta_SO_ML_sin_IVA'] = detalhe_de_vendas['Venta_SO_ML_sin_IVA'].str.replace('.','')\n",
    "detalhe_de_vendas['Venta_SO_ML_sin_IVA'] = detalhe_de_vendas['Venta_SO_ML_sin_IVA'].str.replace(',','.')\n",
    "detalhe_de_vendas['Venta_SO_ML_sin_IVA'] = detalhe_de_vendas['Venta_SO_ML_sin_IVA'].astype(float)\n",
    "\n",
    "detalhe_de_vendas['IVA'] = detalhe_de_vendas['IVA'].str.replace('.','')\n",
    "detalhe_de_vendas['IVA'] = detalhe_de_vendas['IVA'].str.replace(',','.')\n",
    "detalhe_de_vendas['IVA'] = detalhe_de_vendas['IVA'].astype(float)\n",
    "\n",
    "detalhe_de_vendas['Venta_SO_ML_con_IVA'] = detalhe_de_vendas['Venta_SO_ML_con_IVA'].str.replace('.','')\n",
    "detalhe_de_vendas['Venta_SO_ML_con_IVA'] = detalhe_de_vendas['Venta_SO_ML_con_IVA'].str.replace(',','.')\n",
    "detalhe_de_vendas['Venta_SO_ML_con_IVA'] = detalhe_de_vendas['Venta_SO_ML_con_IVA'].astype(float)\n",
    "\n",
    "detalhe_de_vendas['Descuento'] = detalhe_de_vendas['Descuento'].str.replace('.','')\n",
    "detalhe_de_vendas['Descuento'] = detalhe_de_vendas['Descuento'].str.replace(',','.')\n",
    "detalhe_de_vendas['Descuento'] = detalhe_de_vendas['Descuento'].astype(float)\n",
    "\n",
    "detalhe_de_vendas['Peso_por_display_KG'] = detalhe_de_vendas['Peso_por_display_KG'].str.replace('.','')\n",
    "detalhe_de_vendas['Peso_por_display_KG'] = detalhe_de_vendas['Peso_por_display_KG'].str.replace(',','.')\n",
    "detalhe_de_vendas['Peso_por_display_KG'] = detalhe_de_vendas['Peso_por_display_KG'].astype(float)\n",
    "\n",
    "detalhe_de_vendas['Cantidad_de_venta_en_TON'] = detalhe_de_vendas['Cantidad_de_venta_en_TON'].str.replace('.','')\n",
    "detalhe_de_vendas['Cantidad_de_venta_en_TON'] = detalhe_de_vendas['Cantidad_de_venta_en_TON'].str.replace(',','.')\n",
    "detalhe_de_vendas['Cantidad_de_venta_en_TON'] = detalhe_de_vendas['Cantidad_de_venta_en_TON'].astype(float)\n",
    "\n",
    "detalhe_de_vendas['Venta_en_Cajas'] = detalhe_de_vendas['Venta_en_Cajas'].str.replace('.','')\n",
    "detalhe_de_vendas['Venta_en_Cajas'] = detalhe_de_vendas['Venta_en_Cajas'].str.replace(',','.')\n",
    "detalhe_de_vendas['Venta_en_Cajas'] = detalhe_de_vendas['Venta_en_Cajas'].astype(float)\n",
    "\n",
    "detalhe_de_vendas['Codigo_Cliente_SI'] = detalhe_de_vendas['Codigo_Cliente_SI'].astype(object)\n",
    "detalhe_de_vendas['Codigo_Asesor'] = detalhe_de_vendas['Codigo_Asesor'].astype(object)\n",
    "detalhe_de_vendas['Codigo_Vendedor'] = detalhe_de_vendas['Codigo_Vendedor'].astype(object)\n",
    "detalhe_de_vendas['Codigo_PDV'] = detalhe_de_vendas['Codigo_PDV'].astype(object)\n",
    "detalhe_de_vendas['Codigo_PDV_2'] = detalhe_de_vendas['Codigo_PDV_2'].astype(object)\n",
    "detalhe_de_vendas['Latitud'] = detalhe_de_vendas['Latitud'].astype(object)\n",
    "detalhe_de_vendas['nLongitud'] = detalhe_de_vendas['nLongitud'].astype(object)\n",
    "detalhe_de_vendas['Codigo_Tipo_de_Negocio_PDV'] = detalhe_de_vendas['Codigo_Tipo_de_Negocio_PDV'].astype(object)\n",
    "detalhe_de_vendas['Codigo_Cluster_PDV'] = detalhe_de_vendas['Codigo_Cluster_PDV'].astype(object)\n",
    "detalhe_de_vendas['codigo_de_Tipo_de_Ruta'] = detalhe_de_vendas['codigo_de_Tipo_de_Ruta'].astype(object)\n",
    "detalhe_de_vendas['orden_de_visita_realizada'] = detalhe_de_vendas['orden_de_visita_realizada'].astype(object)\n",
    "detalhe_de_vendas['Numero_de_Documento_Legal'] = detalhe_de_vendas['Numero_de_Documento_Legal'].astype(object)\n",
    "detalhe_de_vendas['Cod_Combo'] = detalhe_de_vendas['Cod_Combo'].astype(object)\n",
    "detalhe_de_vendas['Descripcion_Combo'] = detalhe_de_vendas['Descripcion_Combo'].astype(object)\n",
    "detalhe_de_vendas['Cant_Combo'] = detalhe_de_vendas['Cant_Combo'].astype(object)\n",
    "detalhe_de_vendas['Cod_Surtido'] = detalhe_de_vendas['Cod_Surtido'].astype(object)\n",
    "detalhe_de_vendas['Descripcion_Surtido'] = detalhe_de_vendas['Descripcion_Surtido'].astype(object)\n",
    "detalhe_de_vendas['Cant_Surtido'] = detalhe_de_vendas['Cant_Surtido'].astype(object)\n",
    "detalhe_de_vendas['Cod_Articulo_MDLZ'] = detalhe_de_vendas['Cod_Articulo_MDLZ'].astype(object)\n",
    "detalhe_de_vendas['Cod_Articulo_SAP'] = detalhe_de_vendas['Cod_Articulo_SAP'].astype(object)\n",
    "detalhe_de_vendas['Cod_Articulo_SAP'] = detalhe_de_vendas['Cod_Articulo_SAP'].astype(object)\n",
    "\n",
    "\n",
    "\n",
    "# detalhe_de_vendas['Real_DISPLAYS'] = detalhe_de_vendas['Real_DISPLAYS'].str.replace('.','')\n",
    "# detalhe_de_vendas['Real_DISPLAYS'] = detalhe_de_vendas['Real_DISPLAYS'].str.replace(',','.')\n",
    "# detalhe_de_vendas['Real_DISPLAYS'] = detalhe_de_vendas['Real_DISPLAYS'].astype(float)\n",
    "\n",
    "# detalhe_de_vendas['Precio_Display'] = detalhe_de_vendas['Real_DISPLAYS'].str.replace('.','')\n",
    "# detalhe_de_vendas['Precio_Display'] = detalhe_de_vendas['Real_DISPLAYS'].str.replace(',','.')\n",
    "# detalhe_de_vendas['Precio_Display'] = detalhe_de_vendas['Real_DISPLAYS'].astype(float)\n"
   ]
  },
  {
   "cell_type": "markdown",
   "metadata": {
    "id": "8W82RaMZpzjj"
   },
   "source": [
    "# Detalhe de Vendas - Informações sobre a tabela\n"
   ]
  },
  {
   "cell_type": "code",
   "execution_count": 51,
   "metadata": {
    "colab": {
     "base_uri": "https://localhost:8080/"
    },
    "executionInfo": {
     "elapsed": 4084,
     "status": "ok",
     "timestamp": 1706402510073,
     "user": {
      "displayName": "Diego Henrique Silva Furukawa",
      "userId": "12424190321281319347"
     },
     "user_tz": 180
    },
    "id": "Dp8B9GHmf-nr",
    "outputId": "d0b22d17-77f6-4b8e-a7e4-8250350cf63d"
   },
   "outputs": [],
   "source": [
    "#detalhe_de_vendas.info()"
   ]
  },
  {
   "cell_type": "markdown",
   "metadata": {
    "id": "Q3M4BkTip6aP"
   },
   "source": [
    "# Detalhe de Vendas - Totalizando Faturamento"
   ]
  },
  {
   "cell_type": "code",
   "execution_count": 52,
   "metadata": {
    "colab": {
     "base_uri": "https://localhost:8080/",
     "height": 455
    },
    "executionInfo": {
     "elapsed": 453,
     "status": "ok",
     "timestamp": 1706402510521,
     "user": {
      "displayName": "Diego Henrique Silva Furukawa",
      "userId": "12424190321281319347"
     },
     "user_tz": 180
    },
    "id": "W5Lo7SAogZns",
    "outputId": "bf8d23dd-9660-4e8e-f8ff-c50a40fb1a5e"
   },
   "outputs": [
    {
     "data": {
      "text/html": [
       "<div>\n",
       "<style scoped>\n",
       "    .dataframe tbody tr th:only-of-type {\n",
       "        vertical-align: middle;\n",
       "    }\n",
       "\n",
       "    .dataframe tbody tr th {\n",
       "        vertical-align: top;\n",
       "    }\n",
       "\n",
       "    .dataframe thead th {\n",
       "        text-align: right;\n",
       "    }\n",
       "</style>\n",
       "<table border=\"1\" class=\"dataframe\">\n",
       "  <thead>\n",
       "    <tr style=\"text-align: right;\">\n",
       "      <th></th>\n",
       "      <th></th>\n",
       "      <th></th>\n",
       "      <th></th>\n",
       "      <th></th>\n",
       "      <th>Venta_SO_ML_sin_IVA_DV</th>\n",
       "    </tr>\n",
       "    <tr>\n",
       "      <th>Codigo_Asesor</th>\n",
       "      <th>Nombre_Asesor</th>\n",
       "      <th>Codigo_Vendedor</th>\n",
       "      <th>Nombre_Vendedor</th>\n",
       "      <th>Codigo_Zona_Ruta</th>\n",
       "      <th></th>\n",
       "    </tr>\n",
       "  </thead>\n",
       "  <tbody>\n",
       "    <tr>\n",
       "      <th rowspan=\"5\" valign=\"top\">8</th>\n",
       "      <th rowspan=\"5\" valign=\"top\">8</th>\n",
       "      <th>31002048</th>\n",
       "      <th>Henry Buitrago APOLO A3</th>\n",
       "      <th>C001C020805</th>\n",
       "      <td>3647950.37</td>\n",
       "    </tr>\n",
       "    <tr>\n",
       "      <th>31003343</th>\n",
       "      <th>Nancy Carvajal APOLO A4</th>\n",
       "      <th>C001C020806</th>\n",
       "      <td>2770887.02</td>\n",
       "    </tr>\n",
       "    <tr>\n",
       "      <th>31004066</th>\n",
       "      <th>Carlos Arturo Ramirez APOLO A1</th>\n",
       "      <th>C001C020802</th>\n",
       "      <td>3960032.47</td>\n",
       "    </tr>\n",
       "    <tr>\n",
       "      <th>31004209</th>\n",
       "      <th>ADRIANA HINCAPIE</th>\n",
       "      <th>C001C021121</th>\n",
       "      <td>3679963.94</td>\n",
       "    </tr>\n",
       "    <tr>\n",
       "      <th>31004380</th>\n",
       "      <th>Milena Marin</th>\n",
       "      <th>C001C020803</th>\n",
       "      <td>2105743.02</td>\n",
       "    </tr>\n",
       "    <tr>\n",
       "      <th>...</th>\n",
       "      <th>...</th>\n",
       "      <th>...</th>\n",
       "      <th>...</th>\n",
       "      <th>...</th>\n",
       "      <td>...</td>\n",
       "    </tr>\n",
       "    <tr>\n",
       "      <th rowspan=\"5\" valign=\"top\">108</th>\n",
       "      <th rowspan=\"5\" valign=\"top\">108</th>\n",
       "      <th>31007057</th>\n",
       "      <th>Dayana Ortiz APOLO A7</th>\n",
       "      <th>C001C020513</th>\n",
       "      <td>2982825.45</td>\n",
       "    </tr>\n",
       "    <tr>\n",
       "      <th>31007232</th>\n",
       "      <th>Miriam Villegas APOLO B1</th>\n",
       "      <th>C001C015106</th>\n",
       "      <td>1983334.15</td>\n",
       "    </tr>\n",
       "    <tr>\n",
       "      <th>31007234</th>\n",
       "      <th>Viviana Cuatindioy APOLO B3</th>\n",
       "      <th>C001C015102</th>\n",
       "      <td>1872352.95</td>\n",
       "    </tr>\n",
       "    <tr>\n",
       "      <th>31007235</th>\n",
       "      <th>Luz Suarez APOLO B5</th>\n",
       "      <th>C001C015104</th>\n",
       "      <td>1733067.34</td>\n",
       "    </tr>\n",
       "    <tr>\n",
       "      <th>31007236</th>\n",
       "      <th>Nancy Pineda APOLO B6</th>\n",
       "      <th>C001C015107</th>\n",
       "      <td>562899.21</td>\n",
       "    </tr>\n",
       "  </tbody>\n",
       "</table>\n",
       "<p>244 rows × 1 columns</p>\n",
       "</div>"
      ],
      "text/plain": [
       "                                                                                             Venta_SO_ML_sin_IVA_DV\n",
       "Codigo_Asesor Nombre_Asesor Codigo_Vendedor Nombre_Vendedor                Codigo_Zona_Ruta                        \n",
       "8             8             31002048        Henry Buitrago APOLO A3        C001C020805                   3647950.37\n",
       "                            31003343        Nancy Carvajal APOLO A4        C001C020806                   2770887.02\n",
       "                            31004066        Carlos Arturo Ramirez APOLO A1 C001C020802                   3960032.47\n",
       "                            31004209        ADRIANA HINCAPIE               C001C021121                   3679963.94\n",
       "                            31004380        Milena Marin                   C001C020803                   2105743.02\n",
       "...                                                                                                             ...\n",
       "108           108           31007057        Dayana Ortiz APOLO A7          C001C020513                   2982825.45\n",
       "                            31007232        Miriam Villegas APOLO B1       C001C015106                   1983334.15\n",
       "                            31007234        Viviana Cuatindioy APOLO B3    C001C015102                   1872352.95\n",
       "                            31007235        Luz Suarez APOLO B5            C001C015104                   1733067.34\n",
       "                            31007236        Nancy Pineda APOLO B6          C001C015107                    562899.21\n",
       "\n",
       "[244 rows x 1 columns]"
      ]
     },
     "metadata": {},
     "output_type": "display_data"
    }
   ],
   "source": [
    "table_dv =  pd.DataFrame({\n",
    "                    'Codigo_Asesor': detalhe_de_vendas['Codigo_Asesor']\n",
    "                    ,'Nombre_Asesor': detalhe_de_vendas['Codigo_Asesor']\n",
    "                    ,'Codigo_Vendedor': detalhe_de_vendas['Codigo_Vendedor']\n",
    "                    ,'Nombre_Vendedor': detalhe_de_vendas['Nombre_Vendedor']\n",
    "                    ,'Codigo_Zona_Ruta': detalhe_de_vendas['Codigo_Zona_Ruta']\n",
    "                    ,'Venta_SO_ML_sin_IVA': detalhe_de_vendas['Venta_SO_ML_sin_IVA']\n",
    "                    #})\n",
    "                    #}).sum()\n",
    "                    }).groupby(['Codigo_Asesor','Nombre_Asesor','Codigo_Vendedor','Nombre_Vendedor','Codigo_Zona_Ruta']).sum()\n",
    "table_dv = table_dv.rename(columns={'Venta_SO_ML_sin_IVA': 'Venta_SO_ML_sin_IVA_DV'})\n",
    "#table_dv.info()\n",
    "display(table_dv)"
   ]
  },
  {
   "cell_type": "markdown",
   "metadata": {},
   "source": [
    "# Detalhe de Vendas - Verificando se existem valores em Branco = ISNULL"
   ]
  },
  {
   "cell_type": "code",
   "execution_count": 53,
   "metadata": {},
   "outputs": [
    {
     "data": {
      "text/html": [
       "<div>\n",
       "<style scoped>\n",
       "    .dataframe tbody tr th:only-of-type {\n",
       "        vertical-align: middle;\n",
       "    }\n",
       "\n",
       "    .dataframe tbody tr th {\n",
       "        vertical-align: top;\n",
       "    }\n",
       "\n",
       "    .dataframe thead th {\n",
       "        text-align: right;\n",
       "    }\n",
       "</style>\n",
       "<table border=\"1\" class=\"dataframe\">\n",
       "  <thead>\n",
       "    <tr style=\"text-align: right;\">\n",
       "      <th></th>\n",
       "      <th></th>\n",
       "      <th></th>\n",
       "      <th></th>\n",
       "      <th></th>\n",
       "      <th>Venta_SO_ML_sin_IVA_DV</th>\n",
       "    </tr>\n",
       "    <tr>\n",
       "      <th>Codigo_Asesor</th>\n",
       "      <th>Nombre_Asesor</th>\n",
       "      <th>Codigo_Vendedor</th>\n",
       "      <th>Nombre_Vendedor</th>\n",
       "      <th>Codigo_Zona_Ruta</th>\n",
       "      <th></th>\n",
       "    </tr>\n",
       "  </thead>\n",
       "  <tbody>\n",
       "  </tbody>\n",
       "</table>\n",
       "</div>"
      ],
      "text/plain": [
       "Empty DataFrame\n",
       "Columns: [Venta_SO_ML_sin_IVA_DV]\n",
       "Index: []"
      ]
     },
     "execution_count": 53,
     "metadata": {},
     "output_type": "execute_result"
    }
   ],
   "source": [
    "table_dv[table_dv.Venta_SO_ML_sin_IVA_DV.isna()]"
   ]
  },
  {
   "cell_type": "markdown",
   "metadata": {},
   "source": [
    "# Juntando Tabelas"
   ]
  },
  {
   "cell_type": "code",
   "execution_count": 54,
   "metadata": {
    "colab": {
     "base_uri": "https://localhost:8080/",
     "height": 1000
    },
    "executionInfo": {
     "elapsed": 28,
     "status": "ok",
     "timestamp": 1706402510521,
     "user": {
      "displayName": "Diego Henrique Silva Furukawa",
      "userId": "12424190321281319347"
     },
     "user_tz": 180
    },
    "id": "S4jAhlLxJCjC",
    "outputId": "cd321d68-f413-4c55-d1f4-5303f798ae66"
   },
   "outputs": [
    {
     "name": "stdout",
     "output_type": "stream",
     "text": [
      "<class 'pandas.core.frame.DataFrame'>\n",
      "Index: 242 entries, 31002788 to 31003718\n",
      "Data columns (total 4 columns):\n",
      " #   Column            Non-Null Count  Dtype \n",
      "---  ------            --------------  ----- \n",
      " 0   Nombre_Vendedor   242 non-null    object\n",
      " 1   Codigo_Zona_Ruta  242 non-null    object\n",
      " 2   Codigo_Asesor     242 non-null    object\n",
      " 3   Nombre_Asesor     242 non-null    object\n",
      "dtypes: object(4)\n",
      "memory usage: 9.5+ KB\n"
     ]
    }
   ],
   "source": [
    "df_Main_Incentivos =  pd.DataFrame({\n",
    "    'Codigo_Vendedor': incentivosfamilia['Codigo_Vendedor']\n",
    "    ,'Nombre_Vendedor': incentivosfamilia['Nombre_Vendedor']                \n",
    "    ,'Codigo_Zona_Ruta': incentivosfamilia['Codigo_Zona_Ruta']\n",
    "    ,'Codigo_Asesor': incentivosfamilia['Codigo_Asesor']\n",
    "    ,'Nombre_Asesor': incentivosfamilia['Codigo_Asesor']                    \n",
    "    })\n",
    "\n",
    "\n",
    "df_Main_Incentivos = df_Main_Incentivos.set_index('Codigo_Vendedor')\n",
    "\n",
    "df_Main_Incentivos.drop_duplicates(inplace=True)\n",
    "\n",
    "df_Main_Incentivos.info()\n",
    "\n",
    "\n",
    "\n"
   ]
  },
  {
   "cell_type": "code",
   "execution_count": 55,
   "metadata": {},
   "outputs": [],
   "source": [
    "df_Main_Incentivos.to_excel(\"IncentivosFamilia_Sem_Valor.xlsx\")"
   ]
  },
  {
   "cell_type": "code",
   "execution_count": 56,
   "metadata": {},
   "outputs": [
    {
     "name": "stdout",
     "output_type": "stream",
     "text": [
      "<class 'pandas.core.frame.DataFrame'>\n",
      "Index: 244 entries, 31002022 to 31003857\n",
      "Data columns (total 4 columns):\n",
      " #   Column            Non-Null Count  Dtype \n",
      "---  ------            --------------  ----- \n",
      " 0   Nombre_Vendedor   244 non-null    object\n",
      " 1   Codigo_Zona_Ruta  244 non-null    object\n",
      " 2   Codigo_Asesor     244 non-null    object\n",
      " 3   Nombre_Asesor     244 non-null    object\n",
      "dtypes: object(4)\n",
      "memory usage: 9.5+ KB\n"
     ]
    }
   ],
   "source": [
    "df_Main_DetalheVentas =  pd.DataFrame({\n",
    "    'Codigo_Vendedor': detalhe_de_vendas['Codigo_Vendedor']\n",
    "    ,'Nombre_Vendedor': detalhe_de_vendas['Nombre_Vendedor']                \n",
    "    ,'Codigo_Zona_Ruta': detalhe_de_vendas['Codigo_Zona_Ruta']\n",
    "    ,'Codigo_Asesor': detalhe_de_vendas['Codigo_Asesor']\n",
    "    ,'Nombre_Asesor': detalhe_de_vendas['Codigo_Asesor']                    \n",
    "    })\n",
    "\n",
    "df_Main_DetalheVentas = df_Main_DetalheVentas.set_index('Codigo_Vendedor')\n",
    "\n",
    "df_Main_DetalheVentas.drop_duplicates(inplace=True)\n",
    "\n",
    "df_Main_DetalheVentas.info()\n"
   ]
  },
  {
   "cell_type": "code",
   "execution_count": 57,
   "metadata": {},
   "outputs": [],
   "source": [
    "df_Main_DetalheVentas.to_excel(\"DetalheVentas_Sem_Valor.xlsx\")"
   ]
  },
  {
   "cell_type": "code",
   "execution_count": 58,
   "metadata": {},
   "outputs": [
    {
     "name": "stdout",
     "output_type": "stream",
     "text": [
      "<class 'pandas.core.frame.DataFrame'>\n",
      "Index: 244 entries, 31002788 to 31003857\n",
      "Data columns (total 8 columns):\n",
      " #   Column              Non-Null Count  Dtype \n",
      "---  ------              --------------  ----- \n",
      " 0   Nombre_Vendedor_x   242 non-null    object\n",
      " 1   Codigo_Zona_Ruta_x  242 non-null    object\n",
      " 2   Codigo_Asesor_x     242 non-null    object\n",
      " 3   Nombre_Asesor_x     242 non-null    object\n",
      " 4   Nombre_Vendedor_y   244 non-null    object\n",
      " 5   Codigo_Zona_Ruta_y  244 non-null    object\n",
      " 6   Codigo_Asesor_y     244 non-null    object\n",
      " 7   Nombre_Asesor_y     244 non-null    object\n",
      "dtypes: object(8)\n",
      "memory usage: 17.2+ KB\n"
     ]
    }
   ],
   "source": [
    "df_merged = df_Main_Incentivos.merge(df_Main_DetalheVentas, on='Codigo_Vendedor', how='outer')\n",
    "\n",
    "df_merged.info()"
   ]
  },
  {
   "cell_type": "code",
   "execution_count": 59,
   "metadata": {},
   "outputs": [
    {
     "data": {
      "text/plain": [
       "Nombre_Vendedor_x     2\n",
       "Codigo_Zona_Ruta_x    2\n",
       "Codigo_Asesor_x       2\n",
       "Nombre_Asesor_x       2\n",
       "Nombre_Vendedor_y     0\n",
       "Codigo_Zona_Ruta_y    0\n",
       "Codigo_Asesor_y       0\n",
       "Nombre_Asesor_y       0\n",
       "dtype: int64"
      ]
     },
     "execution_count": 59,
     "metadata": {},
     "output_type": "execute_result"
    }
   ],
   "source": [
    "df_merged.isna().sum()"
   ]
  },
  {
   "cell_type": "code",
   "execution_count": 60,
   "metadata": {},
   "outputs": [],
   "source": [
    "df_merged = df_merged.reset_index()\n",
    "df_merged.to_excel(\"Merge.xlsx\")"
   ]
  },
  {
   "cell_type": "code",
   "execution_count": 61,
   "metadata": {},
   "outputs": [
    {
     "name": "stdout",
     "output_type": "stream",
     "text": [
      "<class 'pandas.core.frame.DataFrame'>\n",
      "RangeIndex: 244 entries, 0 to 243\n",
      "Data columns (total 9 columns):\n",
      " #   Column              Non-Null Count  Dtype \n",
      "---  ------              --------------  ----- \n",
      " 0   Codigo_Vendedor     244 non-null    int64 \n",
      " 1   Nombre_Vendedor_x   242 non-null    object\n",
      " 2   Codigo_Zona_Ruta_x  242 non-null    object\n",
      " 3   Codigo_Asesor_x     242 non-null    object\n",
      " 4   Nombre_Asesor_x     242 non-null    object\n",
      " 5   Nombre_Vendedor_y   244 non-null    object\n",
      " 6   Codigo_Zona_Ruta_y  244 non-null    object\n",
      " 7   Codigo_Asesor_y     244 non-null    object\n",
      " 8   Nombre_Asesor_y     244 non-null    object\n",
      "dtypes: int64(1), object(8)\n",
      "memory usage: 17.3+ KB\n"
     ]
    }
   ],
   "source": [
    "df_merged.info()"
   ]
  },
  {
   "cell_type": "code",
   "execution_count": 62,
   "metadata": {},
   "outputs": [
    {
     "name": "stdout",
     "output_type": "stream",
     "text": [
      "<class 'pandas.core.frame.DataFrame'>\n",
      "RangeIndex: 244 entries, 0 to 243\n",
      "Data columns (total 9 columns):\n",
      " #   Column              Non-Null Count  Dtype \n",
      "---  ------              --------------  ----- \n",
      " 0   Codigo_Vendedor     244 non-null    int64 \n",
      " 1   Nombre_Vendedor_x   242 non-null    object\n",
      " 2   Codigo_Zona_Ruta_x  242 non-null    object\n",
      " 3   Codigo_Asesor_x     242 non-null    object\n",
      " 4   Nombre_Asesor_x     242 non-null    object\n",
      " 5   Nombre_Vendedor_y   244 non-null    object\n",
      " 6   Codigo_Zona_Ruta_y  244 non-null    object\n",
      " 7   Codigo_Asesor_y     244 non-null    object\n",
      " 8   Nombre_Asesor_y     244 non-null    object\n",
      "dtypes: int64(1), object(8)\n",
      "memory usage: 17.3+ KB\n"
     ]
    }
   ],
   "source": [
    "df_merged.info()"
   ]
  },
  {
   "cell_type": "code",
   "execution_count": 63,
   "metadata": {},
   "outputs": [],
   "source": [
    "df_Final =  pd.DataFrame({\n",
    "    'Codigo_Vendedor': df_merged['Codigo_Vendedor']\n",
    "    ,'Nombre_Vendedor': df_merged['Nombre_Vendedor_x']                \n",
    "    ,'Codigo_Zona_Ruta': df_merged['Codigo_Zona_Ruta_x']\n",
    "    ,'Codigo_Asesor': df_merged['Codigo_Asesor_x']\n",
    "    ,'Nombre_Asesor': df_merged['Codigo_Asesor_x']                    \n",
    "    })"
   ]
  },
  {
   "cell_type": "code",
   "execution_count": 64,
   "metadata": {},
   "outputs": [
    {
     "name": "stdout",
     "output_type": "stream",
     "text": [
      "<class 'pandas.core.frame.DataFrame'>\n",
      "RangeIndex: 244 entries, 0 to 243\n",
      "Data columns (total 5 columns):\n",
      " #   Column            Non-Null Count  Dtype \n",
      "---  ------            --------------  ----- \n",
      " 0   Codigo_Vendedor   244 non-null    int64 \n",
      " 1   Nombre_Vendedor   242 non-null    object\n",
      " 2   Codigo_Zona_Ruta  242 non-null    object\n",
      " 3   Codigo_Asesor     242 non-null    object\n",
      " 4   Nombre_Asesor     242 non-null    object\n",
      "dtypes: int64(1), object(4)\n",
      "memory usage: 9.7+ KB\n"
     ]
    }
   ],
   "source": [
    "df_Final.info()"
   ]
  },
  {
   "cell_type": "markdown",
   "metadata": {},
   "source": [
    "# Detalhe de Vendas - Somando valores por Vendedor"
   ]
  },
  {
   "cell_type": "code",
   "execution_count": 65,
   "metadata": {},
   "outputs": [
    {
     "name": "stdout",
     "output_type": "stream",
     "text": [
      "<class 'pandas.core.frame.DataFrame'>\n",
      "Index: 243 entries, 31002788 to 31001686\n",
      "Data columns (total 4 columns):\n",
      " #   Column            Non-Null Count  Dtype \n",
      "---  ------            --------------  ----- \n",
      " 0   Nombre_Vendedor   242 non-null    object\n",
      " 1   Codigo_Zona_Ruta  242 non-null    object\n",
      " 2   Codigo_Asesor     242 non-null    object\n",
      " 3   Nombre_Asesor     242 non-null    object\n",
      "dtypes: object(4)\n",
      "memory usage: 9.5+ KB\n"
     ]
    }
   ],
   "source": [
    "df_Final = df_Final.set_index('Codigo_Vendedor')\n",
    "\n",
    "df_Final.drop_duplicates(inplace=True)\n",
    "\n",
    "df_Final.info()\n"
   ]
  },
  {
   "cell_type": "code",
   "execution_count": 66,
   "metadata": {},
   "outputs": [
    {
     "name": "stdout",
     "output_type": "stream",
     "text": [
      "<class 'pandas.core.frame.DataFrame'>\n",
      "Index: 243 entries, 31002788 to 31001686\n",
      "Data columns (total 4 columns):\n",
      " #   Column            Non-Null Count  Dtype \n",
      "---  ------            --------------  ----- \n",
      " 0   Nombre_Vendedor   242 non-null    object\n",
      " 1   Codigo_Zona_Ruta  242 non-null    object\n",
      " 2   Codigo_Asesor     242 non-null    object\n",
      " 3   Nombre_Asesor     242 non-null    object\n",
      "dtypes: object(4)\n",
      "memory usage: 9.5+ KB\n"
     ]
    }
   ],
   "source": [
    "\n",
    "df_Final.info()\n"
   ]
  },
  {
   "cell_type": "code",
   "execution_count": 67,
   "metadata": {},
   "outputs": [],
   "source": [
    "\n",
    "df_Final['Venta_SO_ML_sin_IVA_DV'] =  pd.DataFrame({'Codigo_Vendedor': detalhe_de_vendas['Codigo_Vendedor']\n",
    "                          ,'Venta_SO_ML_sin_IVA': detalhe_de_vendas['Venta_SO_ML_sin_IVA']\n",
    "                    }).groupby(['Codigo_Vendedor']).sum()"
   ]
  },
  {
   "cell_type": "code",
   "execution_count": 68,
   "metadata": {},
   "outputs": [
    {
     "data": {
      "text/html": [
       "<div>\n",
       "<style scoped>\n",
       "    .dataframe tbody tr th:only-of-type {\n",
       "        vertical-align: middle;\n",
       "    }\n",
       "\n",
       "    .dataframe tbody tr th {\n",
       "        vertical-align: top;\n",
       "    }\n",
       "\n",
       "    .dataframe thead th {\n",
       "        text-align: right;\n",
       "    }\n",
       "</style>\n",
       "<table border=\"1\" class=\"dataframe\">\n",
       "  <thead>\n",
       "    <tr style=\"text-align: right;\">\n",
       "      <th></th>\n",
       "      <th>Nombre_Vendedor</th>\n",
       "      <th>Codigo_Zona_Ruta</th>\n",
       "      <th>Codigo_Asesor</th>\n",
       "      <th>Nombre_Asesor</th>\n",
       "      <th>Venta_SO_ML_sin_IVA_DV</th>\n",
       "    </tr>\n",
       "    <tr>\n",
       "      <th>Codigo_Vendedor</th>\n",
       "      <th></th>\n",
       "      <th></th>\n",
       "      <th></th>\n",
       "      <th></th>\n",
       "      <th></th>\n",
       "    </tr>\n",
       "  </thead>\n",
       "  <tbody>\n",
       "    <tr>\n",
       "      <th>31002788</th>\n",
       "      <td>Albeiro Lozada</td>\n",
       "      <td>C001C014901</td>\n",
       "      <td>49</td>\n",
       "      <td>49</td>\n",
       "      <td>4397288.04</td>\n",
       "    </tr>\n",
       "    <tr>\n",
       "      <th>31002730</th>\n",
       "      <td>Jhon Olaya</td>\n",
       "      <td>C001C014902</td>\n",
       "      <td>49</td>\n",
       "      <td>49</td>\n",
       "      <td>4069012.66</td>\n",
       "    </tr>\n",
       "    <tr>\n",
       "      <th>31006935</th>\n",
       "      <td>Yorley Palomino</td>\n",
       "      <td>C001C014903</td>\n",
       "      <td>49</td>\n",
       "      <td>49</td>\n",
       "      <td>3169375.90</td>\n",
       "    </tr>\n",
       "    <tr>\n",
       "      <th>31004260</th>\n",
       "      <td>Claudia Cifuentes</td>\n",
       "      <td>C001C014904</td>\n",
       "      <td>49</td>\n",
       "      <td>49</td>\n",
       "      <td>5039250.36</td>\n",
       "    </tr>\n",
       "    <tr>\n",
       "      <th>31004726</th>\n",
       "      <td>Ana Maria Toro</td>\n",
       "      <td>C001C014905</td>\n",
       "      <td>49</td>\n",
       "      <td>49</td>\n",
       "      <td>2894260.75</td>\n",
       "    </tr>\n",
       "    <tr>\n",
       "      <th>...</th>\n",
       "      <td>...</td>\n",
       "      <td>...</td>\n",
       "      <td>...</td>\n",
       "      <td>...</td>\n",
       "      <td>...</td>\n",
       "    </tr>\n",
       "    <tr>\n",
       "      <th>31003073</th>\n",
       "      <td>Yilena Patricia Berdugo Barragan</td>\n",
       "      <td>C007C089237</td>\n",
       "      <td>45</td>\n",
       "      <td>45</td>\n",
       "      <td>8223699.59</td>\n",
       "    </tr>\n",
       "    <tr>\n",
       "      <th>31001802</th>\n",
       "      <td>Lady Carmona (P)</td>\n",
       "      <td>C007C089238</td>\n",
       "      <td>45</td>\n",
       "      <td>45</td>\n",
       "      <td>18772026.25</td>\n",
       "    </tr>\n",
       "    <tr>\n",
       "      <th>31001817</th>\n",
       "      <td>Erika Roldan (P)</td>\n",
       "      <td>C007C089239</td>\n",
       "      <td>45</td>\n",
       "      <td>45</td>\n",
       "      <td>7512690.93</td>\n",
       "    </tr>\n",
       "    <tr>\n",
       "      <th>31003718</th>\n",
       "      <td>Jairo Alberto Loza Barrera</td>\n",
       "      <td>C007C089240</td>\n",
       "      <td>45</td>\n",
       "      <td>45</td>\n",
       "      <td>12351388.02</td>\n",
       "    </tr>\n",
       "    <tr>\n",
       "      <th>31001686</th>\n",
       "      <td>NaN</td>\n",
       "      <td>NaN</td>\n",
       "      <td>NaN</td>\n",
       "      <td>NaN</td>\n",
       "      <td>0.00</td>\n",
       "    </tr>\n",
       "  </tbody>\n",
       "</table>\n",
       "<p>243 rows × 5 columns</p>\n",
       "</div>"
      ],
      "text/plain": [
       "                                  Nombre_Vendedor Codigo_Zona_Ruta  \\\n",
       "Codigo_Vendedor                                                      \n",
       "31002788                           Albeiro Lozada      C001C014901   \n",
       "31002730                               Jhon Olaya      C001C014902   \n",
       "31006935                          Yorley Palomino      C001C014903   \n",
       "31004260                        Claudia Cifuentes      C001C014904   \n",
       "31004726                           Ana Maria Toro      C001C014905   \n",
       "...                                           ...              ...   \n",
       "31003073         Yilena Patricia Berdugo Barragan      C007C089237   \n",
       "31001802                         Lady Carmona (P)      C007C089238   \n",
       "31001817                         Erika Roldan (P)      C007C089239   \n",
       "31003718               Jairo Alberto Loza Barrera      C007C089240   \n",
       "31001686                                      NaN              NaN   \n",
       "\n",
       "                Codigo_Asesor Nombre_Asesor  Venta_SO_ML_sin_IVA_DV  \n",
       "Codigo_Vendedor                                                      \n",
       "31002788                   49            49              4397288.04  \n",
       "31002730                   49            49              4069012.66  \n",
       "31006935                   49            49              3169375.90  \n",
       "31004260                   49            49              5039250.36  \n",
       "31004726                   49            49              2894260.75  \n",
       "...                       ...           ...                     ...  \n",
       "31003073                   45            45              8223699.59  \n",
       "31001802                   45            45             18772026.25  \n",
       "31001817                   45            45              7512690.93  \n",
       "31003718                   45            45             12351388.02  \n",
       "31001686                  NaN           NaN                    0.00  \n",
       "\n",
       "[243 rows x 5 columns]"
      ]
     },
     "metadata": {},
     "output_type": "display_data"
    }
   ],
   "source": [
    "\n",
    "display(df_Final)\n",
    "\n"
   ]
  },
  {
   "cell_type": "markdown",
   "metadata": {},
   "source": [
    "# Incentivos Familia - Somando valores por Vendedor"
   ]
  },
  {
   "cell_type": "code",
   "execution_count": 69,
   "metadata": {},
   "outputs": [],
   "source": [
    "\n",
    "df_Final['Venta_SO_ML_sin_IVA_IF'] =  pd.DataFrame({'Codigo_Vendedor': incentivosfamilia['Codigo_Vendedor']\n",
    "                          ,'Venta_SO_ML_sin_IVA': incentivosfamilia['Venta_SO_ML_sin_IVA']\n",
    "                    }).groupby(['Codigo_Vendedor']).sum()"
   ]
  },
  {
   "cell_type": "code",
   "execution_count": 70,
   "metadata": {},
   "outputs": [
    {
     "data": {
      "text/html": [
       "<div>\n",
       "<style scoped>\n",
       "    .dataframe tbody tr th:only-of-type {\n",
       "        vertical-align: middle;\n",
       "    }\n",
       "\n",
       "    .dataframe tbody tr th {\n",
       "        vertical-align: top;\n",
       "    }\n",
       "\n",
       "    .dataframe thead th {\n",
       "        text-align: right;\n",
       "    }\n",
       "</style>\n",
       "<table border=\"1\" class=\"dataframe\">\n",
       "  <thead>\n",
       "    <tr style=\"text-align: right;\">\n",
       "      <th></th>\n",
       "      <th>Nombre_Vendedor</th>\n",
       "      <th>Codigo_Zona_Ruta</th>\n",
       "      <th>Codigo_Asesor</th>\n",
       "      <th>Nombre_Asesor</th>\n",
       "      <th>Venta_SO_ML_sin_IVA_DV</th>\n",
       "      <th>Venta_SO_ML_sin_IVA_IF</th>\n",
       "    </tr>\n",
       "    <tr>\n",
       "      <th>Codigo_Vendedor</th>\n",
       "      <th></th>\n",
       "      <th></th>\n",
       "      <th></th>\n",
       "      <th></th>\n",
       "      <th></th>\n",
       "      <th></th>\n",
       "    </tr>\n",
       "  </thead>\n",
       "  <tbody>\n",
       "    <tr>\n",
       "      <th>31002788</th>\n",
       "      <td>Albeiro Lozada</td>\n",
       "      <td>C001C014901</td>\n",
       "      <td>49</td>\n",
       "      <td>49</td>\n",
       "      <td>4397288.04</td>\n",
       "      <td>4.397288e+06</td>\n",
       "    </tr>\n",
       "    <tr>\n",
       "      <th>31002730</th>\n",
       "      <td>Jhon Olaya</td>\n",
       "      <td>C001C014902</td>\n",
       "      <td>49</td>\n",
       "      <td>49</td>\n",
       "      <td>4069012.66</td>\n",
       "      <td>4.069013e+06</td>\n",
       "    </tr>\n",
       "    <tr>\n",
       "      <th>31006935</th>\n",
       "      <td>Yorley Palomino</td>\n",
       "      <td>C001C014903</td>\n",
       "      <td>49</td>\n",
       "      <td>49</td>\n",
       "      <td>3169375.90</td>\n",
       "      <td>3.169376e+06</td>\n",
       "    </tr>\n",
       "    <tr>\n",
       "      <th>31004260</th>\n",
       "      <td>Claudia Cifuentes</td>\n",
       "      <td>C001C014904</td>\n",
       "      <td>49</td>\n",
       "      <td>49</td>\n",
       "      <td>5039250.36</td>\n",
       "      <td>5.039250e+06</td>\n",
       "    </tr>\n",
       "    <tr>\n",
       "      <th>31004726</th>\n",
       "      <td>Ana Maria Toro</td>\n",
       "      <td>C001C014905</td>\n",
       "      <td>49</td>\n",
       "      <td>49</td>\n",
       "      <td>2894260.75</td>\n",
       "      <td>2.894261e+06</td>\n",
       "    </tr>\n",
       "    <tr>\n",
       "      <th>...</th>\n",
       "      <td>...</td>\n",
       "      <td>...</td>\n",
       "      <td>...</td>\n",
       "      <td>...</td>\n",
       "      <td>...</td>\n",
       "      <td>...</td>\n",
       "    </tr>\n",
       "    <tr>\n",
       "      <th>31003073</th>\n",
       "      <td>Yilena Patricia Berdugo Barragan</td>\n",
       "      <td>C007C089237</td>\n",
       "      <td>45</td>\n",
       "      <td>45</td>\n",
       "      <td>8223699.59</td>\n",
       "      <td>8.223700e+06</td>\n",
       "    </tr>\n",
       "    <tr>\n",
       "      <th>31001802</th>\n",
       "      <td>Lady Carmona (P)</td>\n",
       "      <td>C007C089238</td>\n",
       "      <td>45</td>\n",
       "      <td>45</td>\n",
       "      <td>18772026.25</td>\n",
       "      <td>1.877203e+07</td>\n",
       "    </tr>\n",
       "    <tr>\n",
       "      <th>31001817</th>\n",
       "      <td>Erika Roldan (P)</td>\n",
       "      <td>C007C089239</td>\n",
       "      <td>45</td>\n",
       "      <td>45</td>\n",
       "      <td>7512690.93</td>\n",
       "      <td>7.512691e+06</td>\n",
       "    </tr>\n",
       "    <tr>\n",
       "      <th>31003718</th>\n",
       "      <td>Jairo Alberto Loza Barrera</td>\n",
       "      <td>C007C089240</td>\n",
       "      <td>45</td>\n",
       "      <td>45</td>\n",
       "      <td>12351388.02</td>\n",
       "      <td>1.235139e+07</td>\n",
       "    </tr>\n",
       "    <tr>\n",
       "      <th>31001686</th>\n",
       "      <td>NaN</td>\n",
       "      <td>NaN</td>\n",
       "      <td>NaN</td>\n",
       "      <td>NaN</td>\n",
       "      <td>0.00</td>\n",
       "      <td>NaN</td>\n",
       "    </tr>\n",
       "  </tbody>\n",
       "</table>\n",
       "<p>243 rows × 6 columns</p>\n",
       "</div>"
      ],
      "text/plain": [
       "                                  Nombre_Vendedor Codigo_Zona_Ruta  \\\n",
       "Codigo_Vendedor                                                      \n",
       "31002788                           Albeiro Lozada      C001C014901   \n",
       "31002730                               Jhon Olaya      C001C014902   \n",
       "31006935                          Yorley Palomino      C001C014903   \n",
       "31004260                        Claudia Cifuentes      C001C014904   \n",
       "31004726                           Ana Maria Toro      C001C014905   \n",
       "...                                           ...              ...   \n",
       "31003073         Yilena Patricia Berdugo Barragan      C007C089237   \n",
       "31001802                         Lady Carmona (P)      C007C089238   \n",
       "31001817                         Erika Roldan (P)      C007C089239   \n",
       "31003718               Jairo Alberto Loza Barrera      C007C089240   \n",
       "31001686                                      NaN              NaN   \n",
       "\n",
       "                Codigo_Asesor Nombre_Asesor  Venta_SO_ML_sin_IVA_DV  \\\n",
       "Codigo_Vendedor                                                       \n",
       "31002788                   49            49              4397288.04   \n",
       "31002730                   49            49              4069012.66   \n",
       "31006935                   49            49              3169375.90   \n",
       "31004260                   49            49              5039250.36   \n",
       "31004726                   49            49              2894260.75   \n",
       "...                       ...           ...                     ...   \n",
       "31003073                   45            45              8223699.59   \n",
       "31001802                   45            45             18772026.25   \n",
       "31001817                   45            45              7512690.93   \n",
       "31003718                   45            45             12351388.02   \n",
       "31001686                  NaN           NaN                    0.00   \n",
       "\n",
       "                 Venta_SO_ML_sin_IVA_IF  \n",
       "Codigo_Vendedor                          \n",
       "31002788                   4.397288e+06  \n",
       "31002730                   4.069013e+06  \n",
       "31006935                   3.169376e+06  \n",
       "31004260                   5.039250e+06  \n",
       "31004726                   2.894261e+06  \n",
       "...                                 ...  \n",
       "31003073                   8.223700e+06  \n",
       "31001802                   1.877203e+07  \n",
       "31001817                   7.512691e+06  \n",
       "31003718                   1.235139e+07  \n",
       "31001686                            NaN  \n",
       "\n",
       "[243 rows x 6 columns]"
      ]
     },
     "metadata": {},
     "output_type": "display_data"
    }
   ],
   "source": [
    "#df_Final.info()\n",
    "\n",
    "display(df_Final)\n"
   ]
  },
  {
   "cell_type": "code",
   "execution_count": 71,
   "metadata": {},
   "outputs": [],
   "source": [
    "\n",
    "df_Final = df_Final.fillna(0)\n",
    "\n",
    "df_Final['Diff'] = df_Final['Venta_SO_ML_sin_IVA_DV'] - df_Final['Venta_SO_ML_sin_IVA_IF']"
   ]
  },
  {
   "cell_type": "code",
   "execution_count": 72,
   "metadata": {},
   "outputs": [
    {
     "name": "stdout",
     "output_type": "stream",
     "text": [
      "<class 'pandas.core.frame.DataFrame'>\n",
      "Index: 243 entries, 31002788 to 31001686\n",
      "Data columns (total 7 columns):\n",
      " #   Column                  Non-Null Count  Dtype  \n",
      "---  ------                  --------------  -----  \n",
      " 0   Nombre_Vendedor         243 non-null    object \n",
      " 1   Codigo_Zona_Ruta        243 non-null    object \n",
      " 2   Codigo_Asesor           243 non-null    int64  \n",
      " 3   Nombre_Asesor           243 non-null    int64  \n",
      " 4   Venta_SO_ML_sin_IVA_DV  243 non-null    float64\n",
      " 5   Venta_SO_ML_sin_IVA_IF  243 non-null    float64\n",
      " 6   Diff                    243 non-null    float64\n",
      "dtypes: float64(3), int64(2), object(2)\n",
      "memory usage: 15.2+ KB\n"
     ]
    }
   ],
   "source": [
    "df_Final.info()"
   ]
  },
  {
   "cell_type": "code",
   "execution_count": 73,
   "metadata": {},
   "outputs": [
    {
     "data": {
      "text/html": [
       "<div>\n",
       "<style scoped>\n",
       "    .dataframe tbody tr th:only-of-type {\n",
       "        vertical-align: middle;\n",
       "    }\n",
       "\n",
       "    .dataframe tbody tr th {\n",
       "        vertical-align: top;\n",
       "    }\n",
       "\n",
       "    .dataframe thead th {\n",
       "        text-align: right;\n",
       "    }\n",
       "</style>\n",
       "<table border=\"1\" class=\"dataframe\">\n",
       "  <thead>\n",
       "    <tr style=\"text-align: right;\">\n",
       "      <th></th>\n",
       "      <th>Nombre_Vendedor</th>\n",
       "      <th>Codigo_Zona_Ruta</th>\n",
       "      <th>Codigo_Asesor</th>\n",
       "      <th>Nombre_Asesor</th>\n",
       "      <th>Venta_SO_ML_sin_IVA_DV</th>\n",
       "      <th>Venta_SO_ML_sin_IVA_IF</th>\n",
       "      <th>Diff</th>\n",
       "    </tr>\n",
       "    <tr>\n",
       "      <th>Codigo_Vendedor</th>\n",
       "      <th></th>\n",
       "      <th></th>\n",
       "      <th></th>\n",
       "      <th></th>\n",
       "      <th></th>\n",
       "      <th></th>\n",
       "      <th></th>\n",
       "    </tr>\n",
       "  </thead>\n",
       "  <tbody>\n",
       "    <tr>\n",
       "      <th>31002788</th>\n",
       "      <td>Albeiro Lozada</td>\n",
       "      <td>C001C014901</td>\n",
       "      <td>49</td>\n",
       "      <td>49</td>\n",
       "      <td>4397288.04</td>\n",
       "      <td>4.397288e+06</td>\n",
       "      <td>0.000000e+00</td>\n",
       "    </tr>\n",
       "    <tr>\n",
       "      <th>31002730</th>\n",
       "      <td>Jhon Olaya</td>\n",
       "      <td>C001C014902</td>\n",
       "      <td>49</td>\n",
       "      <td>49</td>\n",
       "      <td>4069012.66</td>\n",
       "      <td>4.069013e+06</td>\n",
       "      <td>4.656613e-10</td>\n",
       "    </tr>\n",
       "    <tr>\n",
       "      <th>31006935</th>\n",
       "      <td>Yorley Palomino</td>\n",
       "      <td>C001C014903</td>\n",
       "      <td>49</td>\n",
       "      <td>49</td>\n",
       "      <td>3169375.90</td>\n",
       "      <td>3.169376e+06</td>\n",
       "      <td>9.999983e-05</td>\n",
       "    </tr>\n",
       "    <tr>\n",
       "      <th>31004260</th>\n",
       "      <td>Claudia Cifuentes</td>\n",
       "      <td>C001C014904</td>\n",
       "      <td>49</td>\n",
       "      <td>49</td>\n",
       "      <td>5039250.36</td>\n",
       "      <td>5.039250e+06</td>\n",
       "      <td>0.000000e+00</td>\n",
       "    </tr>\n",
       "    <tr>\n",
       "      <th>31004726</th>\n",
       "      <td>Ana Maria Toro</td>\n",
       "      <td>C001C014905</td>\n",
       "      <td>49</td>\n",
       "      <td>49</td>\n",
       "      <td>2894260.75</td>\n",
       "      <td>2.894261e+06</td>\n",
       "      <td>3.999998e-04</td>\n",
       "    </tr>\n",
       "    <tr>\n",
       "      <th>...</th>\n",
       "      <td>...</td>\n",
       "      <td>...</td>\n",
       "      <td>...</td>\n",
       "      <td>...</td>\n",
       "      <td>...</td>\n",
       "      <td>...</td>\n",
       "      <td>...</td>\n",
       "    </tr>\n",
       "    <tr>\n",
       "      <th>31003073</th>\n",
       "      <td>Yilena Patricia Berdugo Barragan</td>\n",
       "      <td>C007C089237</td>\n",
       "      <td>45</td>\n",
       "      <td>45</td>\n",
       "      <td>8223699.59</td>\n",
       "      <td>8.223700e+06</td>\n",
       "      <td>9.000000e-02</td>\n",
       "    </tr>\n",
       "    <tr>\n",
       "      <th>31001802</th>\n",
       "      <td>Lady Carmona (P)</td>\n",
       "      <td>C007C089238</td>\n",
       "      <td>45</td>\n",
       "      <td>45</td>\n",
       "      <td>18772026.25</td>\n",
       "      <td>1.877203e+07</td>\n",
       "      <td>5.250000e-02</td>\n",
       "    </tr>\n",
       "    <tr>\n",
       "      <th>31001817</th>\n",
       "      <td>Erika Roldan (P)</td>\n",
       "      <td>C007C089239</td>\n",
       "      <td>45</td>\n",
       "      <td>45</td>\n",
       "      <td>7512690.93</td>\n",
       "      <td>7.512691e+06</td>\n",
       "      <td>9.500000e-02</td>\n",
       "    </tr>\n",
       "    <tr>\n",
       "      <th>31003718</th>\n",
       "      <td>Jairo Alberto Loza Barrera</td>\n",
       "      <td>C007C089240</td>\n",
       "      <td>45</td>\n",
       "      <td>45</td>\n",
       "      <td>12351388.02</td>\n",
       "      <td>1.235139e+07</td>\n",
       "      <td>7.250000e-02</td>\n",
       "    </tr>\n",
       "    <tr>\n",
       "      <th>31001686</th>\n",
       "      <td>0</td>\n",
       "      <td>0</td>\n",
       "      <td>0</td>\n",
       "      <td>0</td>\n",
       "      <td>0.00</td>\n",
       "      <td>0.000000e+00</td>\n",
       "      <td>0.000000e+00</td>\n",
       "    </tr>\n",
       "  </tbody>\n",
       "</table>\n",
       "<p>243 rows × 7 columns</p>\n",
       "</div>"
      ],
      "text/plain": [
       "                                  Nombre_Vendedor Codigo_Zona_Ruta  \\\n",
       "Codigo_Vendedor                                                      \n",
       "31002788                           Albeiro Lozada      C001C014901   \n",
       "31002730                               Jhon Olaya      C001C014902   \n",
       "31006935                          Yorley Palomino      C001C014903   \n",
       "31004260                        Claudia Cifuentes      C001C014904   \n",
       "31004726                           Ana Maria Toro      C001C014905   \n",
       "...                                           ...              ...   \n",
       "31003073         Yilena Patricia Berdugo Barragan      C007C089237   \n",
       "31001802                         Lady Carmona (P)      C007C089238   \n",
       "31001817                         Erika Roldan (P)      C007C089239   \n",
       "31003718               Jairo Alberto Loza Barrera      C007C089240   \n",
       "31001686                                        0                0   \n",
       "\n",
       "                 Codigo_Asesor  Nombre_Asesor  Venta_SO_ML_sin_IVA_DV  \\\n",
       "Codigo_Vendedor                                                         \n",
       "31002788                    49             49              4397288.04   \n",
       "31002730                    49             49              4069012.66   \n",
       "31006935                    49             49              3169375.90   \n",
       "31004260                    49             49              5039250.36   \n",
       "31004726                    49             49              2894260.75   \n",
       "...                        ...            ...                     ...   \n",
       "31003073                    45             45              8223699.59   \n",
       "31001802                    45             45             18772026.25   \n",
       "31001817                    45             45              7512690.93   \n",
       "31003718                    45             45             12351388.02   \n",
       "31001686                     0              0                    0.00   \n",
       "\n",
       "                 Venta_SO_ML_sin_IVA_IF          Diff  \n",
       "Codigo_Vendedor                                        \n",
       "31002788                   4.397288e+06  0.000000e+00  \n",
       "31002730                   4.069013e+06  4.656613e-10  \n",
       "31006935                   3.169376e+06  9.999983e-05  \n",
       "31004260                   5.039250e+06  0.000000e+00  \n",
       "31004726                   2.894261e+06  3.999998e-04  \n",
       "...                                 ...           ...  \n",
       "31003073                   8.223700e+06  9.000000e-02  \n",
       "31001802                   1.877203e+07  5.250000e-02  \n",
       "31001817                   7.512691e+06  9.500000e-02  \n",
       "31003718                   1.235139e+07  7.250000e-02  \n",
       "31001686                   0.000000e+00  0.000000e+00  \n",
       "\n",
       "[243 rows x 7 columns]"
      ]
     },
     "metadata": {},
     "output_type": "display_data"
    }
   ],
   "source": [
    "display(df_Final)"
   ]
  },
  {
   "cell_type": "code",
   "execution_count": 78,
   "metadata": {},
   "outputs": [],
   "source": [
    "#fecha = \n",
    "\n",
    "df_Final = df_Final.set_index('Codigo_Vendedor')\n",
    "df_Final.drop_duplicates(inplace=True)\n",
    "df_Final.to_excel(\"Result.xlsx\")\n",
    "\n"
   ]
  },
  {
   "cell_type": "code",
   "execution_count": 79,
   "metadata": {},
   "outputs": [
    {
     "data": {
      "text/plain": [
       "865426486.9099998"
      ]
     },
     "metadata": {},
     "output_type": "display_data"
    },
    {
     "data": {
      "text/plain": [
       "865426483.0509999"
      ]
     },
     "metadata": {},
     "output_type": "display_data"
    },
    {
     "data": {
      "text/plain": [
       "3.8589999675750732"
      ]
     },
     "metadata": {},
     "output_type": "display_data"
    }
   ],
   "source": [
    "total_dv = table_dv['Venta_SO_ML_sin_IVA_DV'].sum()\n",
    "display(total_dv)\n",
    "\n",
    "total_if = table_if['Venta_SO_ML_sin_IVA_IF'].sum()\n",
    "display(total_if)\n",
    "\n",
    "diff = total_dv - total_if\n",
    "display(diff)"
   ]
  },
  {
   "cell_type": "code",
   "execution_count": 80,
   "metadata": {},
   "outputs": [
    {
     "name": "stdout",
     "output_type": "stream",
     "text": [
      "Incentivos Familia: 865426483.0509999\n",
      "Detalhe de Vendas: 865426486.9099998\n",
      "Analisando faturamento entre os 2 reportes temos uma diferença de 3.8589999675750732 Ta de boa!!! pode ir pro café\n"
     ]
    }
   ],
   "source": [
    "diff_faturamento = diff\n",
    "#display(diff_faturamento)\n",
    "\n",
    "if diff_faturamento < 0:\n",
    "  diff_faturamento * (-1)\n",
    "else:\n",
    "  diff_faturamento\n",
    "\n",
    "print('Incentivos Familia: ' + str(total_if))\n",
    "print('Detalhe de Vendas: ' + str(total_dv))\n",
    "\n",
    "if diff_faturamento > nStartFaturamento:\n",
    "    print('Analisando faturamento entre os 2 reportes temos uma diferença de ' + str(diff_faturamento) + ' **Deu merda** Avisa Geral!!!')\n",
    "else:\n",
    "    print('Analisando faturamento entre os 2 reportes temos uma diferença de ' + str(diff_faturamento) + ' Ta de boa!!! pode ir pro café')"
   ]
  },
  {
   "cell_type": "code",
   "execution_count": 81,
   "metadata": {},
   "outputs": [
    {
     "name": "stdout",
     "output_type": "stream",
     "text": [
      "Segundo os paramentros aplicados temos 0 vendedores com diferenças consideraveis de faturamento após comparar os 2 reportes\n"
     ]
    },
    {
     "name": "stderr",
     "output_type": "stream",
     "text": [
      "C:\\Users\\dfurukawa\\AppData\\Local\\Temp\\ipykernel_9680\\416251396.py:3: FutureWarning: Calling int on a single element Series is deprecated and will raise a TypeError in the future. Use int(ser.iloc[0]) instead\n",
      "  diff_vendedor = int(df_merged_vendedor[['Diff']].count())\n"
     ]
    }
   ],
   "source": [
    "df_merged_vendedor = df_Final.loc[(df_Final['Diff'] >= nStart) | (df_Final['Diff'] <= nStart2)]\n",
    "\n",
    "diff_vendedor = int(df_merged_vendedor[['Diff']].count())\n",
    "\n",
    "#display(diff_vendedor)\n",
    "print('Segundo os paramentros aplicados temos ' + str(diff_vendedor) + ' vendedores com diferenças consideraveis de faturamento após comparar os 2 reportes')"
   ]
  },
  {
   "cell_type": "code",
   "execution_count": null,
   "metadata": {},
   "outputs": [],
   "source": []
  }
 ],
 "metadata": {
  "colab": {
   "provenance": []
  },
  "kernelspec": {
   "display_name": "Python 3 (ipykernel)",
   "language": "python",
   "name": "python3"
  },
  "language_info": {
   "codemirror_mode": {
    "name": "ipython",
    "version": 3
   },
   "file_extension": ".py",
   "mimetype": "text/x-python",
   "name": "python",
   "nbconvert_exporter": "python",
   "pygments_lexer": "ipython3",
   "version": "3.11.5"
  }
 },
 "nbformat": 4,
 "nbformat_minor": 1
}
