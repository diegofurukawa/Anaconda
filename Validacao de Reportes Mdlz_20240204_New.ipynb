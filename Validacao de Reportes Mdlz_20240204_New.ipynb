{
 "cells": [
  {
   "cell_type": "markdown",
   "metadata": {
    "id": "9j79QoCgARAL"
   },
   "source": [
    "# **Analise de Faturamento entre os Reportes de Incentivos_Familia & Detalle_de_ventas**"
   ]
  },
  {
   "cell_type": "markdown",
   "metadata": {
    "id": "Tu8zHTbeAOfF"
   },
   "source": [
    "# Para que funcione corretamente suba os arquivos de Incentivos_Familia e Detalle_de_ventas na pasta **MyDrive/Colab Notebooks/Mondelez_COLEC** do seu Drive e devem se chamar exatamente\n",
    "\n",
    "*   MC1_INT_CSV_Incentivos_Familia.CSV\n",
    "*   MC1_INT_CSV_Detalle_de_ventas.CSV\n",
    "\n"
   ]
  },
  {
   "cell_type": "markdown",
   "metadata": {
    "id": "TR2pmAlT2swS"
   },
   "source": [
    "# Importandos Bibliotecas necessários para analise"
   ]
  },
  {
   "cell_type": "markdown",
   "metadata": {
    "id": "C8VpcPczDTfx"
   },
   "source": [
    "# **Instruções de Uso**\n",
    "\n",
    "\n",
    "1.   Execute somente a Primeira célula para montar o Drive do Google\n",
    "2.   Ele irá solicitar acesso ao seu drive, conceda. Deverá aparecer a seguinte mensagem ao terminar, \"Mounted at /content/drive\"\n",
    "3.   Após execute a 2ª célula. Deverá aparecer a seguinte mensagem ao terminar, \"Pasta criada com sucesso!\"\n",
    "4.   Abra o seu google drive procure pela pasta \"Colab Notebooks/Mondelez_COLEC\"\n",
    "5.   Copie os arquivos gerados para a pasta mencionada acima. Conforme instruções.\n",
    "6.   Execute toda cadeia de execuções através do atalho \"CRTL + F9\" ou vá em Ambiente de Execução / Executar Tudo\n",
    "\n",
    "***Para que funcione corretamente suba os arquivos de Incentivos_Familia e Detalle_de_ventas na pasta Colab Notebooks/Mondelez_COLEC do seu Drive e devem se chamar exatamente MC1_INT_CSV_Incentivos_Familia.CSV e MC1_INT_CSV_Detalle_de_ventas.CSV***\n",
    "\n",
    "\n",
    "\n"
   ]
  },
  {
   "cell_type": "code",
   "execution_count": 1,
   "metadata": {
    "colab": {
     "base_uri": "https://localhost:8080/"
    },
    "executionInfo": {
     "elapsed": 2226,
     "status": "ok",
     "timestamp": 1706402495757,
     "user": {
      "displayName": "Diego Henrique Silva Furukawa",
      "userId": "12424190321281319347"
     },
     "user_tz": 180
    },
    "id": "V1cGcVBr7bE1",
    "outputId": "af692ea8-d29c-4de3-80de-8ad1b81fccb4"
   },
   "outputs": [],
   "source": [
    "# 1ª CELULA\n",
    "\n",
    "import os\n",
    "#import wget\n",
    "\n",
    "import pandas as pd\n",
    "# import seaborn as sns\n",
    "# import matplotlib.pyplot as plt\n",
    "from pathlib import Path\n",
    "# from sklearn.model_selection import train_test_split\n",
    "# from sklearn import metrics\n",
    "# from sklearn.ensemble import RandomForestClassifier\n",
    "#from google.colab import drive\n",
    "\n",
    "#drive.mount('/content/drive')\n",
    "\n",
    "#Paramtros de aceitação de diferença entre os 2 reportes para Analise por vendedor\n",
    "nStart = 5000\n",
    "nStart2 = -5000\n",
    "\n",
    "nStartFaturamento = 50000"
   ]
  },
  {
   "cell_type": "code",
   "execution_count": 41,
   "metadata": {
    "colab": {
     "base_uri": "https://localhost:8080/"
    },
    "executionInfo": {
     "elapsed": 7,
     "status": "ok",
     "timestamp": 1706402495758,
     "user": {
      "displayName": "Diego Henrique Silva Furukawa",
      "userId": "12424190321281319347"
     },
     "user_tz": 180
    },
    "id": "XKsEOZ15f-Jr",
    "outputId": "638aa66a-5b9a-4c2f-81fe-07400a57f387"
   },
   "outputs": [
    {
     "name": "stdout",
     "output_type": "stream",
     "text": [
      "Pasta criada com sucesso!\n"
     ]
    }
   ],
   "source": [
    "# 2ª CELULA\n",
    "separator = \",\"\n",
    "path = Path(\"./\")\n",
    "path.mkdir(parents=True, exist_ok=True)\n",
    "\n",
    "print('Pasta criada com sucesso!')"
   ]
  },
  {
   "cell_type": "markdown",
   "metadata": {
    "id": "BEg673in24pE"
   },
   "source": [
    "\n",
    "\n"
   ]
  },
  {
   "cell_type": "code",
   "execution_count": 42,
   "metadata": {
    "executionInfo": {
     "elapsed": 6,
     "status": "ok",
     "timestamp": 1706402495758,
     "user": {
      "displayName": "Diego Henrique Silva Furukawa",
      "userId": "12424190321281319347"
     },
     "user_tz": 180
    },
    "id": "jAQCCw0t9VxS"
   },
   "outputs": [],
   "source": [
    "path_incentivos_familia = r\"./MC1_INT_CSV_Incentivos_Familia.CSV\"\n",
    "path_detalhe_de_vendas = r\"./MC1_INT_CSV_Detalle_de_ventas.CSV\"\n",
    "path_clientes_relacionados = r\"./MC1_INT_CSV_Clientes_Relacionados.CSV\""
   ]
  },
  {
   "cell_type": "markdown",
   "metadata": {
    "id": "H8MLWTimKT8k"
   },
   "source": [
    "# Incentivos Familia - Tratamento do Arquivo"
   ]
  },
  {
   "cell_type": "code",
   "execution_count": 43,
   "metadata": {
    "colab": {
     "base_uri": "https://localhost:8080/"
    },
    "executionInfo": {
     "elapsed": 6,
     "status": "ok",
     "timestamp": 1706402495758,
     "user": {
      "displayName": "Diego Henrique Silva Furukawa",
      "userId": "12424190321281319347"
     },
     "user_tz": 180
    },
    "id": "y9KjWdzM9X1n",
    "outputId": "442b4619-fd14-40b9-bd09-2d2b7d9621bb"
   },
   "outputs": [],
   "source": [
    "incentivosfamilia = pd.read_csv(path_incentivos_familia, sep=separator)\n",
    "\n",
    "incentivosfamilia['Venta_SO_ML_sin_IVA'] = incentivosfamilia['Venta_SO_ML_sin_IVA'].str.replace('.','')\n",
    "incentivosfamilia['Venta_SO_ML_sin_IVA'] = incentivosfamilia['Venta_SO_ML_sin_IVA'].str.replace(',','.')\n",
    "incentivosfamilia['Venta_SO_ML_sin_IVA'] = incentivosfamilia['Venta_SO_ML_sin_IVA'].astype(float)\n",
    "\n",
    "incentivosfamilia['Codigo_Cliente_SI'] = incentivosfamilia['Codigo_Cliente_SI'].astype(object)\n",
    "incentivosfamilia['Codigo_Asesor'] = incentivosfamilia['Codigo_Asesor'].astype(object)\n",
    "incentivosfamilia['Codigo_Vendedor'] = incentivosfamilia['Codigo_Vendedor'].astype(object)\n",
    "incentivosfamilia['Codigo Modelo de Venta'] = incentivosfamilia['Codigo Modelo de Venta'].astype(object)\n",
    "incentivosfamilia['Ano'] = incentivosfamilia['Ano'].astype(object)\n",
    "incentivosfamilia['Periodo'] = incentivosfamilia['Periodo'].astype(object)\n",
    "incentivosfamilia['Periodo'] = incentivosfamilia['Periodo'].astype(object)\n",
    "\n",
    "incentivosfamilia = incentivosfamilia.rename(columns={'Codigo Zona-Ruta' : 'Codigo_Zona_Ruta'})\n"
   ]
  },
  {
   "cell_type": "code",
   "execution_count": 44,
   "metadata": {
    "colab": {
     "base_uri": "https://localhost:8080/"
    },
    "executionInfo": {
     "elapsed": 338,
     "status": "ok",
     "timestamp": 1706402496093,
     "user": {
      "displayName": "Diego Henrique Silva Furukawa",
      "userId": "12424190321281319347"
     },
     "user_tz": 180
    },
    "id": "3Zza8wJ_Ii_z",
    "outputId": "d0fd9d07-afbc-458a-c2c1-b2350f665405"
   },
   "outputs": [],
   "source": [
    "#incentivosfamilia.info()"
   ]
  },
  {
   "cell_type": "markdown",
   "metadata": {},
   "source": [
    "# Incentivos Familia - Totalizando"
   ]
  },
  {
   "cell_type": "code",
   "execution_count": 45,
   "metadata": {},
   "outputs": [],
   "source": [
    "table_if =  pd.DataFrame({\n",
    "                    'Codigo_Asesor': incentivosfamilia['Codigo_Asesor']\n",
    "                    ,'Nombre_Asesor': incentivosfamilia['Codigo_Asesor']\n",
    "                    ,'Codigo_Vendedor': incentivosfamilia['Codigo_Vendedor']\n",
    "                    ,'Nombre_Vendedor': incentivosfamilia['Nombre_Vendedor']\n",
    "                    ,'Codigo_Zona_Ruta': incentivosfamilia['Codigo_Zona_Ruta']\n",
    "                    ,'Venta_SO_ML_sin_IVA': incentivosfamilia['Venta_SO_ML_sin_IVA']\n",
    "                    #})\n",
    "                    #}).sum()\n",
    "                    }).groupby(['Codigo_Asesor','Nombre_Asesor','Codigo_Vendedor','Nombre_Vendedor','Codigo_Zona_Ruta']).sum()\n",
    "table_if = table_if.rename(columns={'Venta_SO_ML_sin_IVA': 'Venta_SO_ML_sin_IVA_IF'})\n",
    "\n",
    "#display(table_if)"
   ]
  },
  {
   "cell_type": "markdown",
   "metadata": {},
   "source": [
    "# Incentivos Familia - Verificando se existem valores em Branco = ISNULL"
   ]
  },
  {
   "cell_type": "code",
   "execution_count": 46,
   "metadata": {},
   "outputs": [
    {
     "data": {
      "text/html": [
       "<div>\n",
       "<style scoped>\n",
       "    .dataframe tbody tr th:only-of-type {\n",
       "        vertical-align: middle;\n",
       "    }\n",
       "\n",
       "    .dataframe tbody tr th {\n",
       "        vertical-align: top;\n",
       "    }\n",
       "\n",
       "    .dataframe thead th {\n",
       "        text-align: right;\n",
       "    }\n",
       "</style>\n",
       "<table border=\"1\" class=\"dataframe\">\n",
       "  <thead>\n",
       "    <tr style=\"text-align: right;\">\n",
       "      <th></th>\n",
       "      <th></th>\n",
       "      <th></th>\n",
       "      <th></th>\n",
       "      <th></th>\n",
       "      <th>Venta_SO_ML_sin_IVA_IF</th>\n",
       "    </tr>\n",
       "    <tr>\n",
       "      <th>Codigo_Asesor</th>\n",
       "      <th>Nombre_Asesor</th>\n",
       "      <th>Codigo_Vendedor</th>\n",
       "      <th>Nombre_Vendedor</th>\n",
       "      <th>Codigo_Zona_Ruta</th>\n",
       "      <th></th>\n",
       "    </tr>\n",
       "  </thead>\n",
       "  <tbody>\n",
       "  </tbody>\n",
       "</table>\n",
       "</div>"
      ],
      "text/plain": [
       "Empty DataFrame\n",
       "Columns: [Venta_SO_ML_sin_IVA_IF]\n",
       "Index: []"
      ]
     },
     "execution_count": 46,
     "metadata": {},
     "output_type": "execute_result"
    }
   ],
   "source": [
    "table_if[table_if.Venta_SO_ML_sin_IVA_IF.isna()]"
   ]
  },
  {
   "cell_type": "code",
   "execution_count": null,
   "metadata": {},
   "outputs": [],
   "source": []
  },
  {
   "cell_type": "markdown",
   "metadata": {
    "id": "3O8EJx3HnDAR"
   },
   "source": [
    "# Detalhe de Vendas - Tratamento do Arquivo\n"
   ]
  },
  {
   "cell_type": "code",
   "execution_count": 47,
   "metadata": {
    "colab": {
     "base_uri": "https://localhost:8080/"
    },
    "executionInfo": {
     "elapsed": 9904,
     "status": "ok",
     "timestamp": 1706402505994,
     "user": {
      "displayName": "Diego Henrique Silva Furukawa",
      "userId": "12424190321281319347"
     },
     "user_tz": 180
    },
    "id": "7MnMh--9lkfd",
    "outputId": "007360ca-d579-4b40-ae5b-cc7fd4dc212d"
   },
   "outputs": [
    {
     "name": "stderr",
     "output_type": "stream",
     "text": [
      "C:\\Users\\dfurukawa\\AppData\\Local\\Temp\\ipykernel_5964\\1197574021.py:1: DtypeWarning: Columns (18,26,28,37,39,40,41,42,49,50,51,52,53,54,55,56,57,58,59) have mixed types. Specify dtype option on import or set low_memory=False.\n",
      "  detalhe_de_vendas = pd.read_csv(path_detalhe_de_vendas, sep=separator)\n"
     ]
    }
   ],
   "source": [
    "detalhe_de_vendas = pd.read_csv(path_detalhe_de_vendas, sep=separator)\n",
    "\n",
    "detalhe_de_vendas['Venta_SO_ML_sin_IVA'] = detalhe_de_vendas['Venta_SO_ML_sin_IVA'].str.replace('.','')\n",
    "detalhe_de_vendas['Venta_SO_ML_sin_IVA'] = detalhe_de_vendas['Venta_SO_ML_sin_IVA'].str.replace(',','.')\n",
    "detalhe_de_vendas['Venta_SO_ML_sin_IVA'] = detalhe_de_vendas['Venta_SO_ML_sin_IVA'].astype(float)\n",
    "\n",
    "detalhe_de_vendas['IVA'] = detalhe_de_vendas['IVA'].str.replace('.','')\n",
    "detalhe_de_vendas['IVA'] = detalhe_de_vendas['IVA'].str.replace(',','.')\n",
    "detalhe_de_vendas['IVA'] = detalhe_de_vendas['IVA'].astype(float)\n",
    "\n",
    "detalhe_de_vendas['Venta_SO_ML_con_IVA'] = detalhe_de_vendas['Venta_SO_ML_con_IVA'].str.replace('.','')\n",
    "detalhe_de_vendas['Venta_SO_ML_con_IVA'] = detalhe_de_vendas['Venta_SO_ML_con_IVA'].str.replace(',','.')\n",
    "detalhe_de_vendas['Venta_SO_ML_con_IVA'] = detalhe_de_vendas['Venta_SO_ML_con_IVA'].astype(float)\n",
    "\n",
    "detalhe_de_vendas['Descuento'] = detalhe_de_vendas['Descuento'].str.replace('.','')\n",
    "detalhe_de_vendas['Descuento'] = detalhe_de_vendas['Descuento'].str.replace(',','.')\n",
    "detalhe_de_vendas['Descuento'] = detalhe_de_vendas['Descuento'].astype(float)\n",
    "\n",
    "detalhe_de_vendas['Peso_por_display_KG'] = detalhe_de_vendas['Peso_por_display_KG'].str.replace('.','')\n",
    "detalhe_de_vendas['Peso_por_display_KG'] = detalhe_de_vendas['Peso_por_display_KG'].str.replace(',','.')\n",
    "detalhe_de_vendas['Peso_por_display_KG'] = detalhe_de_vendas['Peso_por_display_KG'].astype(float)\n",
    "\n",
    "detalhe_de_vendas['Cantidad_de_venta_en_TON'] = detalhe_de_vendas['Cantidad_de_venta_en_TON'].str.replace('.','')\n",
    "detalhe_de_vendas['Cantidad_de_venta_en_TON'] = detalhe_de_vendas['Cantidad_de_venta_en_TON'].str.replace(',','.')\n",
    "detalhe_de_vendas['Cantidad_de_venta_en_TON'] = detalhe_de_vendas['Cantidad_de_venta_en_TON'].astype(float)\n",
    "\n",
    "detalhe_de_vendas['Venta_en_Cajas'] = detalhe_de_vendas['Venta_en_Cajas'].str.replace('.','')\n",
    "detalhe_de_vendas['Venta_en_Cajas'] = detalhe_de_vendas['Venta_en_Cajas'].str.replace(',','.')\n",
    "detalhe_de_vendas['Venta_en_Cajas'] = detalhe_de_vendas['Venta_en_Cajas'].astype(float)\n",
    "\n",
    "detalhe_de_vendas['Codigo_Cliente_SI'] = detalhe_de_vendas['Codigo_Cliente_SI'].astype(object)\n",
    "detalhe_de_vendas['Codigo_Asesor'] = detalhe_de_vendas['Codigo_Asesor'].astype(object)\n",
    "detalhe_de_vendas['Codigo_Vendedor'] = detalhe_de_vendas['Codigo_Vendedor'].astype(object)\n",
    "detalhe_de_vendas['Codigo_PDV'] = detalhe_de_vendas['Codigo_PDV'].astype(object)\n",
    "detalhe_de_vendas['Codigo_PDV_2'] = detalhe_de_vendas['Codigo_PDV_2'].astype(object)\n",
    "detalhe_de_vendas['Latitud'] = detalhe_de_vendas['Latitud'].astype(object)\n",
    "detalhe_de_vendas['nLongitud'] = detalhe_de_vendas['nLongitud'].astype(object)\n",
    "detalhe_de_vendas['Codigo_Tipo_de_Negocio_PDV'] = detalhe_de_vendas['Codigo_Tipo_de_Negocio_PDV'].astype(object)\n",
    "detalhe_de_vendas['Codigo_Cluster_PDV'] = detalhe_de_vendas['Codigo_Cluster_PDV'].astype(object)\n",
    "detalhe_de_vendas['codigo_de_Tipo_de_Ruta'] = detalhe_de_vendas['codigo_de_Tipo_de_Ruta'].astype(object)\n",
    "detalhe_de_vendas['orden_de_visita_realizada'] = detalhe_de_vendas['orden_de_visita_realizada'].astype(object)\n",
    "detalhe_de_vendas['Numero_de_Documento_Legal'] = detalhe_de_vendas['Numero_de_Documento_Legal'].astype(object)\n",
    "detalhe_de_vendas['Cod_Combo'] = detalhe_de_vendas['Cod_Combo'].astype(object)\n",
    "detalhe_de_vendas['Descripcion_Combo'] = detalhe_de_vendas['Descripcion_Combo'].astype(object)\n",
    "detalhe_de_vendas['Cant_Combo'] = detalhe_de_vendas['Cant_Combo'].astype(object)\n",
    "detalhe_de_vendas['Cod_Surtido'] = detalhe_de_vendas['Cod_Surtido'].astype(object)\n",
    "detalhe_de_vendas['Descripcion_Surtido'] = detalhe_de_vendas['Descripcion_Surtido'].astype(object)\n",
    "detalhe_de_vendas['Cant_Surtido'] = detalhe_de_vendas['Cant_Surtido'].astype(object)\n",
    "detalhe_de_vendas['Cod_Articulo_MDLZ'] = detalhe_de_vendas['Cod_Articulo_MDLZ'].astype(object)\n",
    "detalhe_de_vendas['Cod_Articulo_SAP'] = detalhe_de_vendas['Cod_Articulo_SAP'].astype(object)\n",
    "detalhe_de_vendas['Cod_Articulo_SAP'] = detalhe_de_vendas['Cod_Articulo_SAP'].astype(object)\n",
    "\n",
    "\n",
    "\n",
    "# detalhe_de_vendas['Real_DISPLAYS'] = detalhe_de_vendas['Real_DISPLAYS'].str.replace('.','')\n",
    "# detalhe_de_vendas['Real_DISPLAYS'] = detalhe_de_vendas['Real_DISPLAYS'].str.replace(',','.')\n",
    "# detalhe_de_vendas['Real_DISPLAYS'] = detalhe_de_vendas['Real_DISPLAYS'].astype(float)\n",
    "\n",
    "# detalhe_de_vendas['Precio_Display'] = detalhe_de_vendas['Real_DISPLAYS'].str.replace('.','')\n",
    "# detalhe_de_vendas['Precio_Display'] = detalhe_de_vendas['Real_DISPLAYS'].str.replace(',','.')\n",
    "# detalhe_de_vendas['Precio_Display'] = detalhe_de_vendas['Real_DISPLAYS'].astype(float)\n"
   ]
  },
  {
   "cell_type": "markdown",
   "metadata": {
    "id": "8W82RaMZpzjj"
   },
   "source": [
    "# Detalhe de Vendas - Informações sobre a tabela\n"
   ]
  },
  {
   "cell_type": "code",
   "execution_count": 48,
   "metadata": {
    "colab": {
     "base_uri": "https://localhost:8080/"
    },
    "executionInfo": {
     "elapsed": 4084,
     "status": "ok",
     "timestamp": 1706402510073,
     "user": {
      "displayName": "Diego Henrique Silva Furukawa",
      "userId": "12424190321281319347"
     },
     "user_tz": 180
    },
    "id": "Dp8B9GHmf-nr",
    "outputId": "d0b22d17-77f6-4b8e-a7e4-8250350cf63d"
   },
   "outputs": [],
   "source": [
    "#detalhe_de_vendas.info()"
   ]
  },
  {
   "cell_type": "markdown",
   "metadata": {
    "id": "Q3M4BkTip6aP"
   },
   "source": [
    "# Detalhe de Vendas - Totalizando Faturamento"
   ]
  },
  {
   "cell_type": "code",
   "execution_count": 49,
   "metadata": {
    "colab": {
     "base_uri": "https://localhost:8080/",
     "height": 455
    },
    "executionInfo": {
     "elapsed": 453,
     "status": "ok",
     "timestamp": 1706402510521,
     "user": {
      "displayName": "Diego Henrique Silva Furukawa",
      "userId": "12424190321281319347"
     },
     "user_tz": 180
    },
    "id": "W5Lo7SAogZns",
    "outputId": "bf8d23dd-9660-4e8e-f8ff-c50a40fb1a5e"
   },
   "outputs": [],
   "source": [
    "table_dv =  pd.DataFrame({\n",
    "                    'Codigo_Asesor': detalhe_de_vendas['Codigo_Asesor']\n",
    "                    ,'Nombre_Asesor': detalhe_de_vendas['Codigo_Asesor']\n",
    "                    ,'Codigo_Vendedor': detalhe_de_vendas['Codigo_Vendedor']\n",
    "                    ,'Nombre_Vendedor': detalhe_de_vendas['Nombre_Vendedor']\n",
    "                    ,'Codigo_Zona_Ruta': detalhe_de_vendas['Codigo_Zona_Ruta']\n",
    "                    ,'Venta_SO_ML_sin_IVA': detalhe_de_vendas['Venta_SO_ML_sin_IVA']\n",
    "                    #})\n",
    "                    #}).sum()\n",
    "                    }).groupby(['Codigo_Asesor','Nombre_Asesor','Codigo_Vendedor','Nombre_Vendedor','Codigo_Zona_Ruta']).sum()\n",
    "table_dv = table_dv.rename(columns={'Venta_SO_ML_sin_IVA': 'Venta_SO_ML_sin_IVA_DV'})\n",
    "#table_dv.info()\n",
    "#display(table_dv)"
   ]
  },
  {
   "cell_type": "markdown",
   "metadata": {},
   "source": [
    "# Detalhe de Vendas - Verificando se existem valores em Branco = ISNULL"
   ]
  },
  {
   "cell_type": "code",
   "execution_count": 50,
   "metadata": {},
   "outputs": [
    {
     "data": {
      "text/html": [
       "<div>\n",
       "<style scoped>\n",
       "    .dataframe tbody tr th:only-of-type {\n",
       "        vertical-align: middle;\n",
       "    }\n",
       "\n",
       "    .dataframe tbody tr th {\n",
       "        vertical-align: top;\n",
       "    }\n",
       "\n",
       "    .dataframe thead th {\n",
       "        text-align: right;\n",
       "    }\n",
       "</style>\n",
       "<table border=\"1\" class=\"dataframe\">\n",
       "  <thead>\n",
       "    <tr style=\"text-align: right;\">\n",
       "      <th></th>\n",
       "      <th></th>\n",
       "      <th></th>\n",
       "      <th></th>\n",
       "      <th></th>\n",
       "      <th>Venta_SO_ML_sin_IVA_DV</th>\n",
       "    </tr>\n",
       "    <tr>\n",
       "      <th>Codigo_Asesor</th>\n",
       "      <th>Nombre_Asesor</th>\n",
       "      <th>Codigo_Vendedor</th>\n",
       "      <th>Nombre_Vendedor</th>\n",
       "      <th>Codigo_Zona_Ruta</th>\n",
       "      <th></th>\n",
       "    </tr>\n",
       "  </thead>\n",
       "  <tbody>\n",
       "  </tbody>\n",
       "</table>\n",
       "</div>"
      ],
      "text/plain": [
       "Empty DataFrame\n",
       "Columns: [Venta_SO_ML_sin_IVA_DV]\n",
       "Index: []"
      ]
     },
     "execution_count": 50,
     "metadata": {},
     "output_type": "execute_result"
    }
   ],
   "source": [
    "table_dv[table_dv.Venta_SO_ML_sin_IVA_DV.isna()]"
   ]
  },
  {
   "cell_type": "markdown",
   "metadata": {},
   "source": [
    "# Clientes Relacionados - Tratamento do Arquivo"
   ]
  },
  {
   "cell_type": "code",
   "execution_count": 51,
   "metadata": {},
   "outputs": [
    {
     "name": "stderr",
     "output_type": "stream",
     "text": [
      "C:\\Users\\dfurukawa\\AppData\\Local\\Temp\\ipykernel_5964\\2526766618.py:1: DtypeWarning: Columns (21,34,38,42,49,51,80) have mixed types. Specify dtype option on import or set low_memory=False.\n",
      "  clientesrelacionados = pd.read_csv(path_clientes_relacionados, sep=separator)\n"
     ]
    },
    {
     "data": {
      "text/html": [
       "<div>\n",
       "<style scoped>\n",
       "    .dataframe tbody tr th:only-of-type {\n",
       "        vertical-align: middle;\n",
       "    }\n",
       "\n",
       "    .dataframe tbody tr th {\n",
       "        vertical-align: top;\n",
       "    }\n",
       "\n",
       "    .dataframe thead th {\n",
       "        text-align: right;\n",
       "    }\n",
       "</style>\n",
       "<table border=\"1\" class=\"dataframe\">\n",
       "  <thead>\n",
       "    <tr style=\"text-align: right;\">\n",
       "      <th></th>\n",
       "      <th>Descripcion_Subcanal</th>\n",
       "      <th>Codigo_Tipo_de_Negocio_PDV</th>\n",
       "      <th>Descripcion_Tipo_de_Negocio_PDV</th>\n",
       "      <th>Codigo_Cluster_PDV</th>\n",
       "      <th>Descripcion_Cluster_PDV</th>\n",
       "    </tr>\n",
       "    <tr>\n",
       "      <th>Codigo_PDV</th>\n",
       "      <th></th>\n",
       "      <th></th>\n",
       "      <th></th>\n",
       "      <th></th>\n",
       "      <th></th>\n",
       "    </tr>\n",
       "  </thead>\n",
       "  <tbody>\n",
       "    <tr>\n",
       "      <th>100110969</th>\n",
       "      <td>NaN</td>\n",
       "      <td>0</td>\n",
       "      <td>NaN</td>\n",
       "      <td>0</td>\n",
       "      <td>NaN</td>\n",
       "    </tr>\n",
       "    <tr>\n",
       "      <th>100853661</th>\n",
       "      <td>NaN</td>\n",
       "      <td>NaN</td>\n",
       "      <td>NaN</td>\n",
       "      <td>NaN</td>\n",
       "      <td>NaN</td>\n",
       "    </tr>\n",
       "    <tr>\n",
       "      <th>100856994</th>\n",
       "      <td>NaN</td>\n",
       "      <td>NaN</td>\n",
       "      <td>NaN</td>\n",
       "      <td>NaN</td>\n",
       "      <td>NaN</td>\n",
       "    </tr>\n",
       "    <tr>\n",
       "      <th>1008512</th>\n",
       "      <td>TDS</td>\n",
       "      <td>47</td>\n",
       "      <td>Tienda Bodega/Barrio</td>\n",
       "      <td>NaN</td>\n",
       "      <td>NaN</td>\n",
       "    </tr>\n",
       "    <tr>\n",
       "      <th>1003690</th>\n",
       "      <td>TDS</td>\n",
       "      <td>53</td>\n",
       "      <td>Esp Panaderia</td>\n",
       "      <td>NaN</td>\n",
       "      <td>NaN</td>\n",
       "    </tr>\n",
       "    <tr>\n",
       "      <th>1003690</th>\n",
       "      <td>TDS</td>\n",
       "      <td>53</td>\n",
       "      <td>Esp Panaderia</td>\n",
       "      <td>NaN</td>\n",
       "      <td>NaN</td>\n",
       "    </tr>\n",
       "    <tr>\n",
       "      <th>1019845</th>\n",
       "      <td>TDS</td>\n",
       "      <td>51</td>\n",
       "      <td>Especializado</td>\n",
       "      <td>NaN</td>\n",
       "      <td>NaN</td>\n",
       "    </tr>\n",
       "    <tr>\n",
       "      <th>1012778</th>\n",
       "      <td>TDS</td>\n",
       "      <td>51</td>\n",
       "      <td>Especializado</td>\n",
       "      <td>NaN</td>\n",
       "      <td>NaN</td>\n",
       "    </tr>\n",
       "    <tr>\n",
       "      <th>552360</th>\n",
       "      <td>TDS</td>\n",
       "      <td>TRANSACCIONAL</td>\n",
       "      <td>NaN</td>\n",
       "      <td>TIENDA DE BARRIO</td>\n",
       "      <td>NaN</td>\n",
       "    </tr>\n",
       "    <tr>\n",
       "      <th>840639</th>\n",
       "      <td>TDS</td>\n",
       "      <td>ESPECIALIZADO</td>\n",
       "      <td>NaN</td>\n",
       "      <td>CAFETERIA</td>\n",
       "      <td>NaN</td>\n",
       "    </tr>\n",
       "    <tr>\n",
       "      <th>864618</th>\n",
       "      <td>TDS</td>\n",
       "      <td>TRANSACCIONAL</td>\n",
       "      <td>NaN</td>\n",
       "      <td>PUESTO AL PASO</td>\n",
       "      <td>NaN</td>\n",
       "    </tr>\n",
       "    <tr>\n",
       "      <th>864618</th>\n",
       "      <td>TDS</td>\n",
       "      <td>TRANSACCIONAL</td>\n",
       "      <td>NaN</td>\n",
       "      <td>PUESTO AL PASO</td>\n",
       "      <td>NaN</td>\n",
       "    </tr>\n",
       "    <tr>\n",
       "      <th>93524</th>\n",
       "      <td>TDS</td>\n",
       "      <td>TRANSACCIONAL</td>\n",
       "      <td>NaN</td>\n",
       "      <td>TIENDA DE BARRIO</td>\n",
       "      <td>NaN</td>\n",
       "    </tr>\n",
       "    <tr>\n",
       "      <th>939680</th>\n",
       "      <td>TDS</td>\n",
       "      <td>TRANSACCIONAL</td>\n",
       "      <td>NaN</td>\n",
       "      <td>TIENDA DE BARRIO</td>\n",
       "      <td>NaN</td>\n",
       "    </tr>\n",
       "    <tr>\n",
       "      <th>955717</th>\n",
       "      <td>TDS</td>\n",
       "      <td>TRANSACCIONAL</td>\n",
       "      <td>NaN</td>\n",
       "      <td>PUESTO AL PASO</td>\n",
       "      <td>NaN</td>\n",
       "    </tr>\n",
       "    <tr>\n",
       "      <th>966169</th>\n",
       "      <td>TDS</td>\n",
       "      <td>TRANSACCIONAL</td>\n",
       "      <td>NaN</td>\n",
       "      <td>TIENDA DE BARRIO</td>\n",
       "      <td>NaN</td>\n",
       "    </tr>\n",
       "  </tbody>\n",
       "</table>\n",
       "</div>"
      ],
      "text/plain": [
       "           Descripcion_Subcanal Codigo_Tipo_de_Negocio_PDV  \\\n",
       "Codigo_PDV                                                   \n",
       "100110969                   NaN                          0   \n",
       "100853661                   NaN                        NaN   \n",
       "100856994                   NaN                        NaN   \n",
       "1008512                     TDS                         47   \n",
       "1003690                     TDS                         53   \n",
       "1003690                     TDS                         53   \n",
       "1019845                     TDS                         51   \n",
       "1012778                     TDS                         51   \n",
       "552360                      TDS              TRANSACCIONAL   \n",
       "840639                      TDS              ESPECIALIZADO   \n",
       "864618                      TDS              TRANSACCIONAL   \n",
       "864618                      TDS              TRANSACCIONAL   \n",
       "93524                       TDS              TRANSACCIONAL   \n",
       "939680                      TDS              TRANSACCIONAL   \n",
       "955717                      TDS              TRANSACCIONAL   \n",
       "966169                      TDS              TRANSACCIONAL   \n",
       "\n",
       "           Descripcion_Tipo_de_Negocio_PDV Codigo_Cluster_PDV  \\\n",
       "Codigo_PDV                                                      \n",
       "100110969                              NaN                  0   \n",
       "100853661                              NaN                NaN   \n",
       "100856994                              NaN                NaN   \n",
       "1008512               Tienda Bodega/Barrio                NaN   \n",
       "1003690                      Esp Panaderia                NaN   \n",
       "1003690                      Esp Panaderia                NaN   \n",
       "1019845                      Especializado                NaN   \n",
       "1012778                      Especializado                NaN   \n",
       "552360                                 NaN   TIENDA DE BARRIO   \n",
       "840639                                 NaN          CAFETERIA   \n",
       "864618                                 NaN     PUESTO AL PASO   \n",
       "864618                                 NaN     PUESTO AL PASO   \n",
       "93524                                  NaN   TIENDA DE BARRIO   \n",
       "939680                                 NaN   TIENDA DE BARRIO   \n",
       "955717                                 NaN     PUESTO AL PASO   \n",
       "966169                                 NaN   TIENDA DE BARRIO   \n",
       "\n",
       "           Descripcion_Cluster_PDV  \n",
       "Codigo_PDV                          \n",
       "100110969                      NaN  \n",
       "100853661                      NaN  \n",
       "100856994                      NaN  \n",
       "1008512                        NaN  \n",
       "1003690                        NaN  \n",
       "1003690                        NaN  \n",
       "1019845                        NaN  \n",
       "1012778                        NaN  \n",
       "552360                         NaN  \n",
       "840639                         NaN  \n",
       "864618                         NaN  \n",
       "864618                         NaN  \n",
       "93524                          NaN  \n",
       "939680                         NaN  \n",
       "955717                         NaN  \n",
       "966169                         NaN  "
      ]
     },
     "metadata": {},
     "output_type": "display_data"
    }
   ],
   "source": [
    "clientesrelacionados = pd.read_csv(path_clientes_relacionados, sep=separator)\n",
    "clientesrelacionados_df =  pd.DataFrame({\n",
    "    'Codigo_PDV': clientesrelacionados['Codigo_PDV']\n",
    "    ,'Descripcion_Subcanal': clientesrelacionados['Descripcion_Subcanal']\n",
    "    ,'Codigo_Tipo_de_Negocio_PDV': clientesrelacionados['Codigo_Tipo_de_Negocio_PDV']\n",
    "    ,'Descripcion_Tipo_de_Negocio_PDV': clientesrelacionados['Descripcion_Tipo_de_Negocio_PDV']\n",
    "    ,'Codigo_Cluster_PDV': clientesrelacionados['Codigo_Cluster_PDV']\n",
    "    ,'Descripcion_Cluster_PDV': clientesrelacionados['Descripcion_Cluster_PDV']\n",
    "    })\n",
    "\n",
    "clientes_relacionados_vacios = clientesrelacionados_df[\n",
    "    \n",
    "     clientesrelacionados_df.Codigo_Tipo_de_Negocio_PDV.isna() \n",
    "    | clientesrelacionados_df.Descripcion_Tipo_de_Negocio_PDV.isna()    \n",
    "    | clientesrelacionados_df.Codigo_Cluster_PDV.isna()\n",
    "    #| clientesrelacionados_2024_01_24_05_30_22.Descripcion_Cluster_PDV.isna()\n",
    "]   \n",
    "\n",
    "\n",
    "clientes_relacionados_vacios = clientes_relacionados_vacios.set_index('Codigo_PDV')\n",
    "\n",
    "type(clientes_relacionados_vacios)\n",
    "\n",
    "display(clientes_relacionados_vacios)\n"
   ]
  },
  {
   "cell_type": "code",
   "execution_count": 52,
   "metadata": {},
   "outputs": [],
   "source": [
    "clientesrelacionados_CampoEmBranco = clientesrelacionados[clientesrelacionados.Codigo_Tipo_de_Negocio_PDV.isna() \n",
    "                                                          | clientesrelacionados.Codigo_Modelo_de_Venta.isna()\n",
    "                                                          | clientesrelacionados.Cod_tipo_Identificacion.isna()\n",
    "                                                          | clientesrelacionados.Objetivo_De_Venta.isna()\n",
    "                                                            ]\n"
   ]
  },
  {
   "cell_type": "code",
   "execution_count": 53,
   "metadata": {},
   "outputs": [
    {
     "data": {
      "text/html": [
       "<div>\n",
       "<style scoped>\n",
       "    .dataframe tbody tr th:only-of-type {\n",
       "        vertical-align: middle;\n",
       "    }\n",
       "\n",
       "    .dataframe tbody tr th {\n",
       "        vertical-align: top;\n",
       "    }\n",
       "\n",
       "    .dataframe thead th {\n",
       "        text-align: right;\n",
       "    }\n",
       "</style>\n",
       "<table border=\"1\" class=\"dataframe\">\n",
       "  <thead>\n",
       "    <tr style=\"text-align: right;\">\n",
       "      <th></th>\n",
       "      <th>Pais</th>\n",
       "      <th>Codigo_Cliente_SI</th>\n",
       "      <th>Descripcion_Cliente_SI</th>\n",
       "      <th>Codigo_Canal</th>\n",
       "      <th>Descripcion_Canal</th>\n",
       "      <th>Codigo_Subcanal</th>\n",
       "      <th>Descripcion_Subcanal</th>\n",
       "      <th>Codigo_Region</th>\n",
       "      <th>Descripcion_Region</th>\n",
       "      <th>Codigo_Subregion</th>\n",
       "      <th>...</th>\n",
       "      <th>Codigo_Lista_de_Precios</th>\n",
       "      <th>Descripcion_Lista_de_Precios</th>\n",
       "      <th>Moneda</th>\n",
       "      <th>Moneda_Nombre</th>\n",
       "      <th>Objetivo_De_Venta</th>\n",
       "      <th>Maximo_Descuento</th>\n",
       "      <th>Retencion</th>\n",
       "      <th>Valores_Pendientes_De_Cancelar</th>\n",
       "      <th>Pedido_Minimo</th>\n",
       "      <th>Credito_Asignado</th>\n",
       "    </tr>\n",
       "  </thead>\n",
       "  <tbody>\n",
       "    <tr>\n",
       "      <th>9660</th>\n",
       "      <td>Colombia</td>\n",
       "      <td>NaN</td>\n",
       "      <td>NaN</td>\n",
       "      <td>NaN</td>\n",
       "      <td>NaN</td>\n",
       "      <td>NaN</td>\n",
       "      <td>NaN</td>\n",
       "      <td>NaN</td>\n",
       "      <td>NaN</td>\n",
       "      <td>NaN</td>\n",
       "      <td>...</td>\n",
       "      <td>931</td>\n",
       "      <td>Precio CAPS</td>\n",
       "      <td>COP</td>\n",
       "      <td>Peso Colombiano</td>\n",
       "      <td>0.0</td>\n",
       "      <td>0.0</td>\n",
       "      <td>0.0</td>\n",
       "      <td>0.0</td>\n",
       "      <td>0.00</td>\n",
       "      <td>0.00</td>\n",
       "    </tr>\n",
       "    <tr>\n",
       "      <th>34254</th>\n",
       "      <td>Colombia</td>\n",
       "      <td>NaN</td>\n",
       "      <td>NaN</td>\n",
       "      <td>NaN</td>\n",
       "      <td>NaN</td>\n",
       "      <td>NaN</td>\n",
       "      <td>NaN</td>\n",
       "      <td>NaN</td>\n",
       "      <td>NaN</td>\n",
       "      <td>NaN</td>\n",
       "      <td>...</td>\n",
       "      <td>931</td>\n",
       "      <td>Precio CAPS</td>\n",
       "      <td>COP</td>\n",
       "      <td>Peso Colombiano</td>\n",
       "      <td>0.0</td>\n",
       "      <td>0.0</td>\n",
       "      <td>0.0</td>\n",
       "      <td>0.0</td>\n",
       "      <td>0.00</td>\n",
       "      <td>12,666,666.00</td>\n",
       "    </tr>\n",
       "    <tr>\n",
       "      <th>34294</th>\n",
       "      <td>Colombia</td>\n",
       "      <td>NaN</td>\n",
       "      <td>NaN</td>\n",
       "      <td>NaN</td>\n",
       "      <td>NaN</td>\n",
       "      <td>NaN</td>\n",
       "      <td>NaN</td>\n",
       "      <td>NaN</td>\n",
       "      <td>NaN</td>\n",
       "      <td>NaN</td>\n",
       "      <td>...</td>\n",
       "      <td>931</td>\n",
       "      <td>Precio CAPS</td>\n",
       "      <td>COP</td>\n",
       "      <td>Peso Colombiano</td>\n",
       "      <td>0.0</td>\n",
       "      <td>0.0</td>\n",
       "      <td>0.0</td>\n",
       "      <td>0.0</td>\n",
       "      <td>0.00</td>\n",
       "      <td>12,666,666.00</td>\n",
       "    </tr>\n",
       "    <tr>\n",
       "      <th>37857</th>\n",
       "      <td>Colombia</td>\n",
       "      <td>NaN</td>\n",
       "      <td>NaN</td>\n",
       "      <td>NaN</td>\n",
       "      <td>NaN</td>\n",
       "      <td>NaN</td>\n",
       "      <td>NaN</td>\n",
       "      <td>NaN</td>\n",
       "      <td>NaN</td>\n",
       "      <td>NaN</td>\n",
       "      <td>...</td>\n",
       "      <td>931</td>\n",
       "      <td>Precio CAPS</td>\n",
       "      <td>COP</td>\n",
       "      <td>Peso Colombiano</td>\n",
       "      <td>0.0</td>\n",
       "      <td>0.0</td>\n",
       "      <td>0.0</td>\n",
       "      <td>0.0</td>\n",
       "      <td>0.00</td>\n",
       "      <td>5,000,000.00</td>\n",
       "    </tr>\n",
       "  </tbody>\n",
       "</table>\n",
       "<p>4 rows × 81 columns</p>\n",
       "</div>"
      ],
      "text/plain": [
       "           Pais  Codigo_Cliente_SI Descripcion_Cliente_SI Codigo_Canal  \\\n",
       "9660   Colombia                NaN                    NaN          NaN   \n",
       "34254  Colombia                NaN                    NaN          NaN   \n",
       "34294  Colombia                NaN                    NaN          NaN   \n",
       "37857  Colombia                NaN                    NaN          NaN   \n",
       "\n",
       "      Descripcion_Canal Codigo_Subcanal Descripcion_Subcanal Codigo_Region  \\\n",
       "9660                NaN             NaN                  NaN           NaN   \n",
       "34254               NaN             NaN                  NaN           NaN   \n",
       "34294               NaN             NaN                  NaN           NaN   \n",
       "37857               NaN             NaN                  NaN           NaN   \n",
       "\n",
       "      Descripcion_Region Codigo_Subregion  ... Codigo_Lista_de_Precios  \\\n",
       "9660                 NaN              NaN  ...                     931   \n",
       "34254                NaN              NaN  ...                     931   \n",
       "34294                NaN              NaN  ...                     931   \n",
       "37857                NaN              NaN  ...                     931   \n",
       "\n",
       "       Descripcion_Lista_de_Precios Moneda    Moneda_Nombre Objetivo_De_Venta  \\\n",
       "9660                    Precio CAPS    COP  Peso Colombiano               0.0   \n",
       "34254                   Precio CAPS    COP  Peso Colombiano               0.0   \n",
       "34294                   Precio CAPS    COP  Peso Colombiano               0.0   \n",
       "37857                   Precio CAPS    COP  Peso Colombiano               0.0   \n",
       "\n",
       "       Maximo_Descuento  Retencion  Valores_Pendientes_De_Cancelar  \\\n",
       "9660                0.0        0.0                             0.0   \n",
       "34254               0.0        0.0                             0.0   \n",
       "34294               0.0        0.0                             0.0   \n",
       "37857               0.0        0.0                             0.0   \n",
       "\n",
       "       Pedido_Minimo  Credito_Asignado  \n",
       "9660            0.00              0.00  \n",
       "34254           0.00     12,666,666.00  \n",
       "34294           0.00     12,666,666.00  \n",
       "37857           0.00      5,000,000.00  \n",
       "\n",
       "[4 rows x 81 columns]"
      ]
     },
     "metadata": {},
     "output_type": "display_data"
    }
   ],
   "source": [
    "display(clientesrelacionados_CampoEmBranco)"
   ]
  },
  {
   "cell_type": "code",
   "execution_count": 54,
   "metadata": {},
   "outputs": [],
   "source": [
    "clientesrelacionados_CampoEmBranco.to_excel(\"Clientes_Relacionaos_Campos_Branco.xlsx\")"
   ]
  },
  {
   "cell_type": "markdown",
   "metadata": {},
   "source": [
    "# Juntando Tabelas"
   ]
  },
  {
   "cell_type": "code",
   "execution_count": 17,
   "metadata": {
    "colab": {
     "base_uri": "https://localhost:8080/",
     "height": 1000
    },
    "executionInfo": {
     "elapsed": 28,
     "status": "ok",
     "timestamp": 1706402510521,
     "user": {
      "displayName": "Diego Henrique Silva Furukawa",
      "userId": "12424190321281319347"
     },
     "user_tz": 180
    },
    "id": "S4jAhlLxJCjC",
    "outputId": "cd321d68-f413-4c55-d1f4-5303f798ae66"
   },
   "outputs": [
    {
     "name": "stdout",
     "output_type": "stream",
     "text": [
      "<class 'pandas.core.frame.DataFrame'>\n",
      "Index: 246 entries, 31004759 to 31004758\n",
      "Data columns (total 4 columns):\n",
      " #   Column            Non-Null Count  Dtype \n",
      "---  ------            --------------  ----- \n",
      " 0   Nombre_Vendedor   246 non-null    object\n",
      " 1   Codigo_Zona_Ruta  246 non-null    object\n",
      " 2   Codigo_Asesor     246 non-null    object\n",
      " 3   Nombre_Asesor     246 non-null    object\n",
      "dtypes: object(4)\n",
      "memory usage: 9.6+ KB\n"
     ]
    }
   ],
   "source": [
    "df_Main_Incentivos =  pd.DataFrame({\n",
    "    'Codigo_Vendedor': incentivosfamilia['Codigo_Vendedor']\n",
    "    ,'Nombre_Vendedor': incentivosfamilia['Nombre_Vendedor']                \n",
    "    ,'Codigo_Zona_Ruta': incentivosfamilia['Codigo_Zona_Ruta']\n",
    "    ,'Codigo_Asesor': incentivosfamilia['Codigo_Asesor']\n",
    "    ,'Nombre_Asesor': incentivosfamilia['Codigo_Asesor']                    \n",
    "    })\n",
    "\n",
    "\n",
    "df_Main_Incentivos = df_Main_Incentivos.set_index('Codigo_Vendedor')\n",
    "\n",
    "df_Main_Incentivos.drop_duplicates(inplace=True)\n",
    "\n",
    "df_Main_Incentivos.info()\n",
    "\n",
    "\n",
    "\n"
   ]
  },
  {
   "cell_type": "code",
   "execution_count": 18,
   "metadata": {},
   "outputs": [],
   "source": [
    "df_Main_Incentivos.to_excel(\"IncentivosFamilia_Sem_Valor.xlsx\")"
   ]
  },
  {
   "cell_type": "code",
   "execution_count": 19,
   "metadata": {},
   "outputs": [
    {
     "name": "stdout",
     "output_type": "stream",
     "text": [
      "<class 'pandas.core.frame.DataFrame'>\n",
      "Index: 248 entries, 31004260 to 31001686\n",
      "Data columns (total 4 columns):\n",
      " #   Column            Non-Null Count  Dtype \n",
      "---  ------            --------------  ----- \n",
      " 0   Nombre_Vendedor   248 non-null    object\n",
      " 1   Codigo_Zona_Ruta  248 non-null    object\n",
      " 2   Codigo_Asesor     248 non-null    object\n",
      " 3   Nombre_Asesor     248 non-null    object\n",
      "dtypes: object(4)\n",
      "memory usage: 9.7+ KB\n"
     ]
    }
   ],
   "source": [
    "df_Main_DetalheVentas =  pd.DataFrame({\n",
    "    'Codigo_Vendedor': detalhe_de_vendas['Codigo_Vendedor']\n",
    "    ,'Nombre_Vendedor': detalhe_de_vendas['Nombre_Vendedor']                \n",
    "    ,'Codigo_Zona_Ruta': detalhe_de_vendas['Codigo_Zona_Ruta']\n",
    "    ,'Codigo_Asesor': detalhe_de_vendas['Codigo_Asesor']\n",
    "    ,'Nombre_Asesor': detalhe_de_vendas['Codigo_Asesor']                    \n",
    "    })\n",
    "\n",
    "df_Main_DetalheVentas = df_Main_DetalheVentas.set_index('Codigo_Vendedor')\n",
    "\n",
    "df_Main_DetalheVentas.drop_duplicates(inplace=True)\n",
    "\n",
    "df_Main_DetalheVentas.info()\n"
   ]
  },
  {
   "cell_type": "code",
   "execution_count": 20,
   "metadata": {},
   "outputs": [],
   "source": [
    "df_Main_DetalheVentas.to_excel(\"DetalheVentas_Sem_Valor.xlsx\")"
   ]
  },
  {
   "cell_type": "code",
   "execution_count": 21,
   "metadata": {},
   "outputs": [
    {
     "name": "stdout",
     "output_type": "stream",
     "text": [
      "<class 'pandas.core.frame.DataFrame'>\n",
      "Index: 248 entries, 31004759 to 31001686\n",
      "Data columns (total 8 columns):\n",
      " #   Column              Non-Null Count  Dtype \n",
      "---  ------              --------------  ----- \n",
      " 0   Nombre_Vendedor_x   246 non-null    object\n",
      " 1   Codigo_Zona_Ruta_x  246 non-null    object\n",
      " 2   Codigo_Asesor_x     246 non-null    object\n",
      " 3   Nombre_Asesor_x     246 non-null    object\n",
      " 4   Nombre_Vendedor_y   248 non-null    object\n",
      " 5   Codigo_Zona_Ruta_y  248 non-null    object\n",
      " 6   Codigo_Asesor_y     248 non-null    object\n",
      " 7   Nombre_Asesor_y     248 non-null    object\n",
      "dtypes: object(8)\n",
      "memory usage: 17.4+ KB\n"
     ]
    }
   ],
   "source": [
    "df_merged = df_Main_Incentivos.merge(df_Main_DetalheVentas, on='Codigo_Vendedor', how='outer')\n",
    "\n",
    "df_merged.info()"
   ]
  },
  {
   "cell_type": "code",
   "execution_count": 22,
   "metadata": {},
   "outputs": [
    {
     "data": {
      "text/plain": [
       "Nombre_Vendedor_x     2\n",
       "Codigo_Zona_Ruta_x    2\n",
       "Codigo_Asesor_x       2\n",
       "Nombre_Asesor_x       2\n",
       "Nombre_Vendedor_y     0\n",
       "Codigo_Zona_Ruta_y    0\n",
       "Codigo_Asesor_y       0\n",
       "Nombre_Asesor_y       0\n",
       "dtype: int64"
      ]
     },
     "execution_count": 22,
     "metadata": {},
     "output_type": "execute_result"
    }
   ],
   "source": [
    "df_merged.isna().sum()"
   ]
  },
  {
   "cell_type": "code",
   "execution_count": 23,
   "metadata": {},
   "outputs": [],
   "source": [
    "df_merged = df_merged.reset_index()\n",
    "df_merged.to_excel(\"Merge.xlsx\")"
   ]
  },
  {
   "cell_type": "code",
   "execution_count": 24,
   "metadata": {},
   "outputs": [
    {
     "name": "stdout",
     "output_type": "stream",
     "text": [
      "<class 'pandas.core.frame.DataFrame'>\n",
      "RangeIndex: 248 entries, 0 to 247\n",
      "Data columns (total 9 columns):\n",
      " #   Column              Non-Null Count  Dtype \n",
      "---  ------              --------------  ----- \n",
      " 0   Codigo_Vendedor     248 non-null    int64 \n",
      " 1   Nombre_Vendedor_x   246 non-null    object\n",
      " 2   Codigo_Zona_Ruta_x  246 non-null    object\n",
      " 3   Codigo_Asesor_x     246 non-null    object\n",
      " 4   Nombre_Asesor_x     246 non-null    object\n",
      " 5   Nombre_Vendedor_y   248 non-null    object\n",
      " 6   Codigo_Zona_Ruta_y  248 non-null    object\n",
      " 7   Codigo_Asesor_y     248 non-null    object\n",
      " 8   Nombre_Asesor_y     248 non-null    object\n",
      "dtypes: int64(1), object(8)\n",
      "memory usage: 17.6+ KB\n"
     ]
    }
   ],
   "source": [
    "df_merged.info()"
   ]
  },
  {
   "cell_type": "code",
   "execution_count": 25,
   "metadata": {},
   "outputs": [
    {
     "name": "stdout",
     "output_type": "stream",
     "text": [
      "<class 'pandas.core.frame.DataFrame'>\n",
      "RangeIndex: 248 entries, 0 to 247\n",
      "Data columns (total 9 columns):\n",
      " #   Column              Non-Null Count  Dtype \n",
      "---  ------              --------------  ----- \n",
      " 0   Codigo_Vendedor     248 non-null    int64 \n",
      " 1   Nombre_Vendedor_x   246 non-null    object\n",
      " 2   Codigo_Zona_Ruta_x  246 non-null    object\n",
      " 3   Codigo_Asesor_x     246 non-null    object\n",
      " 4   Nombre_Asesor_x     246 non-null    object\n",
      " 5   Nombre_Vendedor_y   248 non-null    object\n",
      " 6   Codigo_Zona_Ruta_y  248 non-null    object\n",
      " 7   Codigo_Asesor_y     248 non-null    object\n",
      " 8   Nombre_Asesor_y     248 non-null    object\n",
      "dtypes: int64(1), object(8)\n",
      "memory usage: 17.6+ KB\n"
     ]
    }
   ],
   "source": [
    "df_merged.info()"
   ]
  },
  {
   "cell_type": "code",
   "execution_count": 26,
   "metadata": {},
   "outputs": [],
   "source": [
    "df_Final =  pd.DataFrame({\n",
    "    'Codigo_Vendedor': df_merged['Codigo_Vendedor']\n",
    "    ,'Nombre_Vendedor': df_merged['Nombre_Vendedor_x']                \n",
    "    ,'Codigo_Zona_Ruta': df_merged['Codigo_Zona_Ruta_x']\n",
    "    ,'Codigo_Asesor': df_merged['Codigo_Asesor_x']\n",
    "    ,'Nombre_Asesor': df_merged['Codigo_Asesor_x']                    \n",
    "    })"
   ]
  },
  {
   "cell_type": "code",
   "execution_count": 27,
   "metadata": {},
   "outputs": [
    {
     "name": "stdout",
     "output_type": "stream",
     "text": [
      "<class 'pandas.core.frame.DataFrame'>\n",
      "RangeIndex: 248 entries, 0 to 247\n",
      "Data columns (total 5 columns):\n",
      " #   Column            Non-Null Count  Dtype \n",
      "---  ------            --------------  ----- \n",
      " 0   Codigo_Vendedor   248 non-null    int64 \n",
      " 1   Nombre_Vendedor   246 non-null    object\n",
      " 2   Codigo_Zona_Ruta  246 non-null    object\n",
      " 3   Codigo_Asesor     246 non-null    object\n",
      " 4   Nombre_Asesor     246 non-null    object\n",
      "dtypes: int64(1), object(4)\n",
      "memory usage: 9.8+ KB\n"
     ]
    }
   ],
   "source": [
    "df_Final.info()"
   ]
  },
  {
   "cell_type": "markdown",
   "metadata": {},
   "source": [
    "# Detalhe de Vendas - Somando valores por Vendedor"
   ]
  },
  {
   "cell_type": "code",
   "execution_count": 28,
   "metadata": {},
   "outputs": [
    {
     "name": "stdout",
     "output_type": "stream",
     "text": [
      "<class 'pandas.core.frame.DataFrame'>\n",
      "Index: 247 entries, 31004759 to 31003857\n",
      "Data columns (total 4 columns):\n",
      " #   Column            Non-Null Count  Dtype \n",
      "---  ------            --------------  ----- \n",
      " 0   Nombre_Vendedor   246 non-null    object\n",
      " 1   Codigo_Zona_Ruta  246 non-null    object\n",
      " 2   Codigo_Asesor     246 non-null    object\n",
      " 3   Nombre_Asesor     246 non-null    object\n",
      "dtypes: object(4)\n",
      "memory usage: 9.6+ KB\n"
     ]
    }
   ],
   "source": [
    "df_Final = df_Final.set_index('Codigo_Vendedor')\n",
    "\n",
    "df_Final.drop_duplicates(inplace=True)\n",
    "\n",
    "df_Final.info()\n"
   ]
  },
  {
   "cell_type": "code",
   "execution_count": 29,
   "metadata": {},
   "outputs": [
    {
     "name": "stdout",
     "output_type": "stream",
     "text": [
      "<class 'pandas.core.frame.DataFrame'>\n",
      "Index: 247 entries, 31004759 to 31003857\n",
      "Data columns (total 4 columns):\n",
      " #   Column            Non-Null Count  Dtype \n",
      "---  ------            --------------  ----- \n",
      " 0   Nombre_Vendedor   246 non-null    object\n",
      " 1   Codigo_Zona_Ruta  246 non-null    object\n",
      " 2   Codigo_Asesor     246 non-null    object\n",
      " 3   Nombre_Asesor     246 non-null    object\n",
      "dtypes: object(4)\n",
      "memory usage: 9.6+ KB\n"
     ]
    }
   ],
   "source": [
    "\n",
    "df_Final.info()\n"
   ]
  },
  {
   "cell_type": "code",
   "execution_count": 30,
   "metadata": {},
   "outputs": [],
   "source": [
    "\n",
    "df_Final['Venta_SO_ML_sin_IVA_DV'] =  pd.DataFrame({'Codigo_Vendedor': detalhe_de_vendas['Codigo_Vendedor']\n",
    "                          ,'Venta_SO_ML_sin_IVA': detalhe_de_vendas['Venta_SO_ML_sin_IVA']\n",
    "                    }).groupby(['Codigo_Vendedor']).sum()"
   ]
  },
  {
   "cell_type": "code",
   "execution_count": 31,
   "metadata": {},
   "outputs": [
    {
     "data": {
      "text/html": [
       "<div>\n",
       "<style scoped>\n",
       "    .dataframe tbody tr th:only-of-type {\n",
       "        vertical-align: middle;\n",
       "    }\n",
       "\n",
       "    .dataframe tbody tr th {\n",
       "        vertical-align: top;\n",
       "    }\n",
       "\n",
       "    .dataframe thead th {\n",
       "        text-align: right;\n",
       "    }\n",
       "</style>\n",
       "<table border=\"1\" class=\"dataframe\">\n",
       "  <thead>\n",
       "    <tr style=\"text-align: right;\">\n",
       "      <th></th>\n",
       "      <th>Nombre_Vendedor</th>\n",
       "      <th>Codigo_Zona_Ruta</th>\n",
       "      <th>Codigo_Asesor</th>\n",
       "      <th>Nombre_Asesor</th>\n",
       "      <th>Venta_SO_ML_sin_IVA_DV</th>\n",
       "    </tr>\n",
       "    <tr>\n",
       "      <th>Codigo_Vendedor</th>\n",
       "      <th></th>\n",
       "      <th></th>\n",
       "      <th></th>\n",
       "      <th></th>\n",
       "      <th></th>\n",
       "    </tr>\n",
       "  </thead>\n",
       "  <tbody>\n",
       "    <tr>\n",
       "      <th>31004759</th>\n",
       "      <td>Johan Stiven Santibanez Ramirez</td>\n",
       "      <td>C005C054002</td>\n",
       "      <td>26</td>\n",
       "      <td>26</td>\n",
       "      <td>19141755.33</td>\n",
       "    </tr>\n",
       "    <tr>\n",
       "      <th>31004761</th>\n",
       "      <td>German Esteban Pena Jara</td>\n",
       "      <td>C005C053906</td>\n",
       "      <td>26</td>\n",
       "      <td>26</td>\n",
       "      <td>24731361.68</td>\n",
       "    </tr>\n",
       "    <tr>\n",
       "      <th>31007247</th>\n",
       "      <td>Andres Mazo Ortiz</td>\n",
       "      <td>C003C031717</td>\n",
       "      <td>14</td>\n",
       "      <td>14</td>\n",
       "      <td>8912655.28</td>\n",
       "    </tr>\n",
       "    <tr>\n",
       "      <th>31007248</th>\n",
       "      <td>Dayana Andrea Chavarria Cardenas</td>\n",
       "      <td>C003C031707</td>\n",
       "      <td>14</td>\n",
       "      <td>14</td>\n",
       "      <td>8099456.50</td>\n",
       "    </tr>\n",
       "    <tr>\n",
       "      <th>31007430</th>\n",
       "      <td>Mariana Vallejo David</td>\n",
       "      <td>C003C031501</td>\n",
       "      <td>15</td>\n",
       "      <td>15</td>\n",
       "      <td>7524032.91</td>\n",
       "    </tr>\n",
       "    <tr>\n",
       "      <th>...</th>\n",
       "      <td>...</td>\n",
       "      <td>...</td>\n",
       "      <td>...</td>\n",
       "      <td>...</td>\n",
       "      <td>...</td>\n",
       "    </tr>\n",
       "    <tr>\n",
       "      <th>31004680</th>\n",
       "      <td>Luisa Maria Hernadez Montoya</td>\n",
       "      <td>C003C031708</td>\n",
       "      <td>14</td>\n",
       "      <td>14</td>\n",
       "      <td>16190470.02</td>\n",
       "    </tr>\n",
       "    <tr>\n",
       "      <th>31004714</th>\n",
       "      <td>Linda Gonzalez</td>\n",
       "      <td>C007C052715</td>\n",
       "      <td>26</td>\n",
       "      <td>26</td>\n",
       "      <td>8640316.78</td>\n",
       "    </tr>\n",
       "    <tr>\n",
       "      <th>31004715</th>\n",
       "      <td>Maryely Rivera Argaez</td>\n",
       "      <td>C003C031702</td>\n",
       "      <td>17</td>\n",
       "      <td>17</td>\n",
       "      <td>16872896.26</td>\n",
       "    </tr>\n",
       "    <tr>\n",
       "      <th>31004758</th>\n",
       "      <td>Valentina Ceron Uribe</td>\n",
       "      <td>C003C031605</td>\n",
       "      <td>16</td>\n",
       "      <td>16</td>\n",
       "      <td>20957932.13</td>\n",
       "    </tr>\n",
       "    <tr>\n",
       "      <th>31003857</th>\n",
       "      <td>NaN</td>\n",
       "      <td>NaN</td>\n",
       "      <td>NaN</td>\n",
       "      <td>NaN</td>\n",
       "      <td>0.00</td>\n",
       "    </tr>\n",
       "  </tbody>\n",
       "</table>\n",
       "<p>247 rows × 5 columns</p>\n",
       "</div>"
      ],
      "text/plain": [
       "                                  Nombre_Vendedor Codigo_Zona_Ruta  \\\n",
       "Codigo_Vendedor                                                      \n",
       "31004759          Johan Stiven Santibanez Ramirez      C005C054002   \n",
       "31004761                 German Esteban Pena Jara      C005C053906   \n",
       "31007247                        Andres Mazo Ortiz      C003C031717   \n",
       "31007248         Dayana Andrea Chavarria Cardenas      C003C031707   \n",
       "31007430                    Mariana Vallejo David      C003C031501   \n",
       "...                                           ...              ...   \n",
       "31004680             Luisa Maria Hernadez Montoya      C003C031708   \n",
       "31004714                           Linda Gonzalez      C007C052715   \n",
       "31004715                    Maryely Rivera Argaez      C003C031702   \n",
       "31004758                    Valentina Ceron Uribe      C003C031605   \n",
       "31003857                                      NaN              NaN   \n",
       "\n",
       "                Codigo_Asesor Nombre_Asesor  Venta_SO_ML_sin_IVA_DV  \n",
       "Codigo_Vendedor                                                      \n",
       "31004759                   26            26             19141755.33  \n",
       "31004761                   26            26             24731361.68  \n",
       "31007247                   14            14              8912655.28  \n",
       "31007248                   14            14              8099456.50  \n",
       "31007430                   15            15              7524032.91  \n",
       "...                       ...           ...                     ...  \n",
       "31004680                   14            14             16190470.02  \n",
       "31004714                   26            26              8640316.78  \n",
       "31004715                   17            17             16872896.26  \n",
       "31004758                   16            16             20957932.13  \n",
       "31003857                  NaN           NaN                    0.00  \n",
       "\n",
       "[247 rows x 5 columns]"
      ]
     },
     "metadata": {},
     "output_type": "display_data"
    }
   ],
   "source": [
    "\n",
    "display(df_Final)\n",
    "\n"
   ]
  },
  {
   "cell_type": "markdown",
   "metadata": {},
   "source": [
    "# Incentivos Familia - Somando valores por Vendedor"
   ]
  },
  {
   "cell_type": "code",
   "execution_count": 32,
   "metadata": {},
   "outputs": [],
   "source": [
    "\n",
    "df_Final['Venta_SO_ML_sin_IVA_IF'] =  pd.DataFrame({'Codigo_Vendedor': incentivosfamilia['Codigo_Vendedor']\n",
    "                          ,'Venta_SO_ML_sin_IVA': incentivosfamilia['Venta_SO_ML_sin_IVA']\n",
    "                    }).groupby(['Codigo_Vendedor']).sum()"
   ]
  },
  {
   "cell_type": "code",
   "execution_count": 33,
   "metadata": {},
   "outputs": [
    {
     "data": {
      "text/html": [
       "<div>\n",
       "<style scoped>\n",
       "    .dataframe tbody tr th:only-of-type {\n",
       "        vertical-align: middle;\n",
       "    }\n",
       "\n",
       "    .dataframe tbody tr th {\n",
       "        vertical-align: top;\n",
       "    }\n",
       "\n",
       "    .dataframe thead th {\n",
       "        text-align: right;\n",
       "    }\n",
       "</style>\n",
       "<table border=\"1\" class=\"dataframe\">\n",
       "  <thead>\n",
       "    <tr style=\"text-align: right;\">\n",
       "      <th></th>\n",
       "      <th>Nombre_Vendedor</th>\n",
       "      <th>Codigo_Zona_Ruta</th>\n",
       "      <th>Codigo_Asesor</th>\n",
       "      <th>Nombre_Asesor</th>\n",
       "      <th>Venta_SO_ML_sin_IVA_DV</th>\n",
       "      <th>Venta_SO_ML_sin_IVA_IF</th>\n",
       "    </tr>\n",
       "    <tr>\n",
       "      <th>Codigo_Vendedor</th>\n",
       "      <th></th>\n",
       "      <th></th>\n",
       "      <th></th>\n",
       "      <th></th>\n",
       "      <th></th>\n",
       "      <th></th>\n",
       "    </tr>\n",
       "  </thead>\n",
       "  <tbody>\n",
       "    <tr>\n",
       "      <th>31004759</th>\n",
       "      <td>Johan Stiven Santibanez Ramirez</td>\n",
       "      <td>C005C054002</td>\n",
       "      <td>26</td>\n",
       "      <td>26</td>\n",
       "      <td>19141755.33</td>\n",
       "      <td>1.914176e+07</td>\n",
       "    </tr>\n",
       "    <tr>\n",
       "      <th>31004761</th>\n",
       "      <td>German Esteban Pena Jara</td>\n",
       "      <td>C005C053906</td>\n",
       "      <td>26</td>\n",
       "      <td>26</td>\n",
       "      <td>24731361.68</td>\n",
       "      <td>2.473136e+07</td>\n",
       "    </tr>\n",
       "    <tr>\n",
       "      <th>31007247</th>\n",
       "      <td>Andres Mazo Ortiz</td>\n",
       "      <td>C003C031717</td>\n",
       "      <td>14</td>\n",
       "      <td>14</td>\n",
       "      <td>8912655.28</td>\n",
       "      <td>8.912655e+06</td>\n",
       "    </tr>\n",
       "    <tr>\n",
       "      <th>31007248</th>\n",
       "      <td>Dayana Andrea Chavarria Cardenas</td>\n",
       "      <td>C003C031707</td>\n",
       "      <td>14</td>\n",
       "      <td>14</td>\n",
       "      <td>8099456.50</td>\n",
       "      <td>8.099456e+06</td>\n",
       "    </tr>\n",
       "    <tr>\n",
       "      <th>31007430</th>\n",
       "      <td>Mariana Vallejo David</td>\n",
       "      <td>C003C031501</td>\n",
       "      <td>15</td>\n",
       "      <td>15</td>\n",
       "      <td>7524032.91</td>\n",
       "      <td>7.524033e+06</td>\n",
       "    </tr>\n",
       "    <tr>\n",
       "      <th>...</th>\n",
       "      <td>...</td>\n",
       "      <td>...</td>\n",
       "      <td>...</td>\n",
       "      <td>...</td>\n",
       "      <td>...</td>\n",
       "      <td>...</td>\n",
       "    </tr>\n",
       "    <tr>\n",
       "      <th>31004680</th>\n",
       "      <td>Luisa Maria Hernadez Montoya</td>\n",
       "      <td>C003C031708</td>\n",
       "      <td>14</td>\n",
       "      <td>14</td>\n",
       "      <td>16190470.02</td>\n",
       "      <td>1.619047e+07</td>\n",
       "    </tr>\n",
       "    <tr>\n",
       "      <th>31004714</th>\n",
       "      <td>Linda Gonzalez</td>\n",
       "      <td>C007C052715</td>\n",
       "      <td>26</td>\n",
       "      <td>26</td>\n",
       "      <td>8640316.78</td>\n",
       "      <td>8.640317e+06</td>\n",
       "    </tr>\n",
       "    <tr>\n",
       "      <th>31004715</th>\n",
       "      <td>Maryely Rivera Argaez</td>\n",
       "      <td>C003C031702</td>\n",
       "      <td>17</td>\n",
       "      <td>17</td>\n",
       "      <td>16872896.26</td>\n",
       "      <td>1.687290e+07</td>\n",
       "    </tr>\n",
       "    <tr>\n",
       "      <th>31004758</th>\n",
       "      <td>Valentina Ceron Uribe</td>\n",
       "      <td>C003C031605</td>\n",
       "      <td>16</td>\n",
       "      <td>16</td>\n",
       "      <td>20957932.13</td>\n",
       "      <td>2.095793e+07</td>\n",
       "    </tr>\n",
       "    <tr>\n",
       "      <th>31003857</th>\n",
       "      <td>NaN</td>\n",
       "      <td>NaN</td>\n",
       "      <td>NaN</td>\n",
       "      <td>NaN</td>\n",
       "      <td>0.00</td>\n",
       "      <td>NaN</td>\n",
       "    </tr>\n",
       "  </tbody>\n",
       "</table>\n",
       "<p>247 rows × 6 columns</p>\n",
       "</div>"
      ],
      "text/plain": [
       "                                  Nombre_Vendedor Codigo_Zona_Ruta  \\\n",
       "Codigo_Vendedor                                                      \n",
       "31004759          Johan Stiven Santibanez Ramirez      C005C054002   \n",
       "31004761                 German Esteban Pena Jara      C005C053906   \n",
       "31007247                        Andres Mazo Ortiz      C003C031717   \n",
       "31007248         Dayana Andrea Chavarria Cardenas      C003C031707   \n",
       "31007430                    Mariana Vallejo David      C003C031501   \n",
       "...                                           ...              ...   \n",
       "31004680             Luisa Maria Hernadez Montoya      C003C031708   \n",
       "31004714                           Linda Gonzalez      C007C052715   \n",
       "31004715                    Maryely Rivera Argaez      C003C031702   \n",
       "31004758                    Valentina Ceron Uribe      C003C031605   \n",
       "31003857                                      NaN              NaN   \n",
       "\n",
       "                Codigo_Asesor Nombre_Asesor  Venta_SO_ML_sin_IVA_DV  \\\n",
       "Codigo_Vendedor                                                       \n",
       "31004759                   26            26             19141755.33   \n",
       "31004761                   26            26             24731361.68   \n",
       "31007247                   14            14              8912655.28   \n",
       "31007248                   14            14              8099456.50   \n",
       "31007430                   15            15              7524032.91   \n",
       "...                       ...           ...                     ...   \n",
       "31004680                   14            14             16190470.02   \n",
       "31004714                   26            26              8640316.78   \n",
       "31004715                   17            17             16872896.26   \n",
       "31004758                   16            16             20957932.13   \n",
       "31003857                  NaN           NaN                    0.00   \n",
       "\n",
       "                 Venta_SO_ML_sin_IVA_IF  \n",
       "Codigo_Vendedor                          \n",
       "31004759                   1.914176e+07  \n",
       "31004761                   2.473136e+07  \n",
       "31007247                   8.912655e+06  \n",
       "31007248                   8.099456e+06  \n",
       "31007430                   7.524033e+06  \n",
       "...                                 ...  \n",
       "31004680                   1.619047e+07  \n",
       "31004714                   8.640317e+06  \n",
       "31004715                   1.687290e+07  \n",
       "31004758                   2.095793e+07  \n",
       "31003857                            NaN  \n",
       "\n",
       "[247 rows x 6 columns]"
      ]
     },
     "metadata": {},
     "output_type": "display_data"
    }
   ],
   "source": [
    "#df_Final.info()\n",
    "\n",
    "display(df_Final)\n"
   ]
  },
  {
   "cell_type": "code",
   "execution_count": 34,
   "metadata": {},
   "outputs": [],
   "source": [
    "\n",
    "df_Final = df_Final.fillna(0)\n",
    "\n",
    "df_Final['Diff'] = df_Final['Venta_SO_ML_sin_IVA_DV'] - df_Final['Venta_SO_ML_sin_IVA_IF']"
   ]
  },
  {
   "cell_type": "code",
   "execution_count": 35,
   "metadata": {},
   "outputs": [
    {
     "name": "stdout",
     "output_type": "stream",
     "text": [
      "<class 'pandas.core.frame.DataFrame'>\n",
      "Index: 247 entries, 31004759 to 31003857\n",
      "Data columns (total 7 columns):\n",
      " #   Column                  Non-Null Count  Dtype  \n",
      "---  ------                  --------------  -----  \n",
      " 0   Nombre_Vendedor         247 non-null    object \n",
      " 1   Codigo_Zona_Ruta        247 non-null    object \n",
      " 2   Codigo_Asesor           247 non-null    int64  \n",
      " 3   Nombre_Asesor           247 non-null    int64  \n",
      " 4   Venta_SO_ML_sin_IVA_DV  247 non-null    float64\n",
      " 5   Venta_SO_ML_sin_IVA_IF  247 non-null    float64\n",
      " 6   Diff                    247 non-null    float64\n",
      "dtypes: float64(3), int64(2), object(2)\n",
      "memory usage: 15.4+ KB\n"
     ]
    }
   ],
   "source": [
    "df_Final.info()"
   ]
  },
  {
   "cell_type": "code",
   "execution_count": 36,
   "metadata": {},
   "outputs": [
    {
     "data": {
      "text/html": [
       "<div>\n",
       "<style scoped>\n",
       "    .dataframe tbody tr th:only-of-type {\n",
       "        vertical-align: middle;\n",
       "    }\n",
       "\n",
       "    .dataframe tbody tr th {\n",
       "        vertical-align: top;\n",
       "    }\n",
       "\n",
       "    .dataframe thead th {\n",
       "        text-align: right;\n",
       "    }\n",
       "</style>\n",
       "<table border=\"1\" class=\"dataframe\">\n",
       "  <thead>\n",
       "    <tr style=\"text-align: right;\">\n",
       "      <th></th>\n",
       "      <th>Nombre_Vendedor</th>\n",
       "      <th>Codigo_Zona_Ruta</th>\n",
       "      <th>Codigo_Asesor</th>\n",
       "      <th>Nombre_Asesor</th>\n",
       "      <th>Venta_SO_ML_sin_IVA_DV</th>\n",
       "      <th>Venta_SO_ML_sin_IVA_IF</th>\n",
       "      <th>Diff</th>\n",
       "    </tr>\n",
       "    <tr>\n",
       "      <th>Codigo_Vendedor</th>\n",
       "      <th></th>\n",
       "      <th></th>\n",
       "      <th></th>\n",
       "      <th></th>\n",
       "      <th></th>\n",
       "      <th></th>\n",
       "      <th></th>\n",
       "    </tr>\n",
       "  </thead>\n",
       "  <tbody>\n",
       "    <tr>\n",
       "      <th>31004759</th>\n",
       "      <td>Johan Stiven Santibanez Ramirez</td>\n",
       "      <td>C005C054002</td>\n",
       "      <td>26</td>\n",
       "      <td>26</td>\n",
       "      <td>19141755.33</td>\n",
       "      <td>1.914176e+07</td>\n",
       "      <td>0.1750</td>\n",
       "    </tr>\n",
       "    <tr>\n",
       "      <th>31004761</th>\n",
       "      <td>German Esteban Pena Jara</td>\n",
       "      <td>C005C053906</td>\n",
       "      <td>26</td>\n",
       "      <td>26</td>\n",
       "      <td>24731361.68</td>\n",
       "      <td>2.473136e+07</td>\n",
       "      <td>0.1025</td>\n",
       "    </tr>\n",
       "    <tr>\n",
       "      <th>31007247</th>\n",
       "      <td>Andres Mazo Ortiz</td>\n",
       "      <td>C003C031717</td>\n",
       "      <td>14</td>\n",
       "      <td>14</td>\n",
       "      <td>8912655.28</td>\n",
       "      <td>8.912655e+06</td>\n",
       "      <td>0.0000</td>\n",
       "    </tr>\n",
       "    <tr>\n",
       "      <th>31007248</th>\n",
       "      <td>Dayana Andrea Chavarria Cardenas</td>\n",
       "      <td>C003C031707</td>\n",
       "      <td>14</td>\n",
       "      <td>14</td>\n",
       "      <td>8099456.50</td>\n",
       "      <td>8.099456e+06</td>\n",
       "      <td>0.0000</td>\n",
       "    </tr>\n",
       "    <tr>\n",
       "      <th>31007430</th>\n",
       "      <td>Mariana Vallejo David</td>\n",
       "      <td>C003C031501</td>\n",
       "      <td>15</td>\n",
       "      <td>15</td>\n",
       "      <td>7524032.91</td>\n",
       "      <td>7.524033e+06</td>\n",
       "      <td>0.0000</td>\n",
       "    </tr>\n",
       "    <tr>\n",
       "      <th>...</th>\n",
       "      <td>...</td>\n",
       "      <td>...</td>\n",
       "      <td>...</td>\n",
       "      <td>...</td>\n",
       "      <td>...</td>\n",
       "      <td>...</td>\n",
       "      <td>...</td>\n",
       "    </tr>\n",
       "    <tr>\n",
       "      <th>31004680</th>\n",
       "      <td>Luisa Maria Hernadez Montoya</td>\n",
       "      <td>C003C031708</td>\n",
       "      <td>14</td>\n",
       "      <td>14</td>\n",
       "      <td>16190470.02</td>\n",
       "      <td>1.619047e+07</td>\n",
       "      <td>0.1203</td>\n",
       "    </tr>\n",
       "    <tr>\n",
       "      <th>31004714</th>\n",
       "      <td>Linda Gonzalez</td>\n",
       "      <td>C007C052715</td>\n",
       "      <td>26</td>\n",
       "      <td>26</td>\n",
       "      <td>8640316.78</td>\n",
       "      <td>8.640317e+06</td>\n",
       "      <td>0.0000</td>\n",
       "    </tr>\n",
       "    <tr>\n",
       "      <th>31004715</th>\n",
       "      <td>Maryely Rivera Argaez</td>\n",
       "      <td>C003C031702</td>\n",
       "      <td>17</td>\n",
       "      <td>17</td>\n",
       "      <td>16872896.26</td>\n",
       "      <td>1.687290e+07</td>\n",
       "      <td>0.1500</td>\n",
       "    </tr>\n",
       "    <tr>\n",
       "      <th>31004758</th>\n",
       "      <td>Valentina Ceron Uribe</td>\n",
       "      <td>C003C031605</td>\n",
       "      <td>16</td>\n",
       "      <td>16</td>\n",
       "      <td>20957932.13</td>\n",
       "      <td>2.095793e+07</td>\n",
       "      <td>0.3200</td>\n",
       "    </tr>\n",
       "    <tr>\n",
       "      <th>31003857</th>\n",
       "      <td>0</td>\n",
       "      <td>0</td>\n",
       "      <td>0</td>\n",
       "      <td>0</td>\n",
       "      <td>0.00</td>\n",
       "      <td>0.000000e+00</td>\n",
       "      <td>0.0000</td>\n",
       "    </tr>\n",
       "  </tbody>\n",
       "</table>\n",
       "<p>247 rows × 7 columns</p>\n",
       "</div>"
      ],
      "text/plain": [
       "                                  Nombre_Vendedor Codigo_Zona_Ruta  \\\n",
       "Codigo_Vendedor                                                      \n",
       "31004759          Johan Stiven Santibanez Ramirez      C005C054002   \n",
       "31004761                 German Esteban Pena Jara      C005C053906   \n",
       "31007247                        Andres Mazo Ortiz      C003C031717   \n",
       "31007248         Dayana Andrea Chavarria Cardenas      C003C031707   \n",
       "31007430                    Mariana Vallejo David      C003C031501   \n",
       "...                                           ...              ...   \n",
       "31004680             Luisa Maria Hernadez Montoya      C003C031708   \n",
       "31004714                           Linda Gonzalez      C007C052715   \n",
       "31004715                    Maryely Rivera Argaez      C003C031702   \n",
       "31004758                    Valentina Ceron Uribe      C003C031605   \n",
       "31003857                                        0                0   \n",
       "\n",
       "                 Codigo_Asesor  Nombre_Asesor  Venta_SO_ML_sin_IVA_DV  \\\n",
       "Codigo_Vendedor                                                         \n",
       "31004759                    26             26             19141755.33   \n",
       "31004761                    26             26             24731361.68   \n",
       "31007247                    14             14              8912655.28   \n",
       "31007248                    14             14              8099456.50   \n",
       "31007430                    15             15              7524032.91   \n",
       "...                        ...            ...                     ...   \n",
       "31004680                    14             14             16190470.02   \n",
       "31004714                    26             26              8640316.78   \n",
       "31004715                    17             17             16872896.26   \n",
       "31004758                    16             16             20957932.13   \n",
       "31003857                     0              0                    0.00   \n",
       "\n",
       "                 Venta_SO_ML_sin_IVA_IF    Diff  \n",
       "Codigo_Vendedor                                  \n",
       "31004759                   1.914176e+07  0.1750  \n",
       "31004761                   2.473136e+07  0.1025  \n",
       "31007247                   8.912655e+06  0.0000  \n",
       "31007248                   8.099456e+06  0.0000  \n",
       "31007430                   7.524033e+06  0.0000  \n",
       "...                                 ...     ...  \n",
       "31004680                   1.619047e+07  0.1203  \n",
       "31004714                   8.640317e+06  0.0000  \n",
       "31004715                   1.687290e+07  0.1500  \n",
       "31004758                   2.095793e+07  0.3200  \n",
       "31003857                   0.000000e+00  0.0000  \n",
       "\n",
       "[247 rows x 7 columns]"
      ]
     },
     "metadata": {},
     "output_type": "display_data"
    }
   ],
   "source": [
    "display(df_Final)"
   ]
  },
  {
   "cell_type": "code",
   "execution_count": 37,
   "metadata": {},
   "outputs": [],
   "source": [
    "#fecha = \n",
    "\n",
    "# df_Final = df_Final.set_index('Codigo_Vendedor')\n",
    "df_Final.drop_duplicates(inplace=True)\n",
    "df_Final.to_excel(\"Result.xlsx\")\n",
    "\n"
   ]
  },
  {
   "cell_type": "code",
   "execution_count": 38,
   "metadata": {},
   "outputs": [
    {
     "data": {
      "text/plain": [
       "4662473644.440001"
      ]
     },
     "metadata": {},
     "output_type": "display_data"
    },
    {
     "data": {
      "text/plain": [
       "4662502034.068399"
      ]
     },
     "metadata": {},
     "output_type": "display_data"
    },
    {
     "data": {
      "text/plain": [
       "-28389.628398895264"
      ]
     },
     "metadata": {},
     "output_type": "display_data"
    }
   ],
   "source": [
    "total_dv = table_dv['Venta_SO_ML_sin_IVA_DV'].sum()\n",
    "display(total_dv)\n",
    "\n",
    "total_if = table_if['Venta_SO_ML_sin_IVA_IF'].sum()\n",
    "display(total_if)\n",
    "\n",
    "diff = total_dv - total_if\n",
    "display(diff)"
   ]
  },
  {
   "cell_type": "code",
   "execution_count": 39,
   "metadata": {},
   "outputs": [
    {
     "name": "stdout",
     "output_type": "stream",
     "text": [
      "Incentivo Familia: 4662502034.068399\n",
      "Detalhe de Vendas: 4662473644.440001\n",
      "Analisando faturamento entre os 2 reportes temos uma diferença de -28389.628398895264 Ta de boa!!! pode ir pro café\n"
     ]
    }
   ],
   "source": [
    "diff_faturamento = diff\n",
    "#display(diff_faturamento)\n",
    "\n",
    "if diff_faturamento < 0:\n",
    "  diff_faturamento * (-1)\n",
    "else:\n",
    "  diff_faturamento\n",
    "\n",
    "print('Incentivo Familia: ' + str(total_if))\n",
    "print('Detalhe de Vendas: ' + str(total_dv))\n",
    "\n",
    "if diff_faturamento > nStartFaturamento:\n",
    "    print('Analisando faturamento entre os 2 reportes temos uma diferença de ' + str(diff_faturamento) + ' **Deu merda** Avisa Geral!!!')\n",
    "else:\n",
    "    print('Analisando faturamento entre os 2 reportes temos uma diferença de ' + str(diff_faturamento) + ' Ta de boa!!! pode ir pro café')"
   ]
  },
  {
   "cell_type": "code",
   "execution_count": 40,
   "metadata": {},
   "outputs": [
    {
     "name": "stdout",
     "output_type": "stream",
     "text": [
      "Segundo os paramentros aplicados temos 1 vendedores com diferenças consideraveis de faturamento após comparar os 2 reportes\n"
     ]
    },
    {
     "name": "stderr",
     "output_type": "stream",
     "text": [
      "C:\\Users\\dfurukawa\\AppData\\Local\\Temp\\ipykernel_5964\\416251396.py:3: FutureWarning: Calling int on a single element Series is deprecated and will raise a TypeError in the future. Use int(ser.iloc[0]) instead\n",
      "  diff_vendedor = int(df_merged_vendedor[['Diff']].count())\n"
     ]
    }
   ],
   "source": [
    "df_merged_vendedor = df_Final.loc[(df_Final['Diff'] >= nStart) | (df_Final['Diff'] <= nStart2)]\n",
    "\n",
    "diff_vendedor = int(df_merged_vendedor[['Diff']].count())\n",
    "\n",
    "#display(diff_vendedor)\n",
    "print('Segundo os paramentros aplicados temos ' + str(diff_vendedor) + ' vendedores com diferenças consideraveis de faturamento após comparar os 2 reportes')"
   ]
  },
  {
   "cell_type": "code",
   "execution_count": null,
   "metadata": {},
   "outputs": [],
   "source": []
  }
 ],
 "metadata": {
  "colab": {
   "provenance": []
  },
  "kernelspec": {
   "display_name": "Python 3 (ipykernel)",
   "language": "python",
   "name": "python3"
  },
  "language_info": {
   "codemirror_mode": {
    "name": "ipython",
    "version": 3
   },
   "file_extension": ".py",
   "mimetype": "text/x-python",
   "name": "python",
   "nbconvert_exporter": "python",
   "pygments_lexer": "ipython3",
   "version": "3.11.5"
  }
 },
 "nbformat": 4,
 "nbformat_minor": 1
}
