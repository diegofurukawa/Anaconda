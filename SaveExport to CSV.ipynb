{
 "cells": [
  {
   "cell_type": "code",
   "execution_count": 69,
   "id": "57b610da",
   "metadata": {},
   "outputs": [
    {
     "name": "stdout",
     "output_type": "stream",
     "text": [
      "Pasta criada com sucesso!\n"
     ]
    },
    {
     "name": "stderr",
     "output_type": "stream",
     "text": [
      "C:\\Users\\dfurukawa\\AppData\\Local\\Temp\\ipykernel_15300\\3408113564.py:20: DtypeWarning: Columns (18,37,39,40,49,50,51,52,53,54,55,56,57,58,59) have mixed types. Specify dtype option on import or set low_memory=False.\n",
      "  detalhe_de_vendas = pd.read_csv(path_detalhe_de_vendas, sep=separator)\n",
      "C:\\Users\\dfurukawa\\AppData\\Local\\Temp\\ipykernel_15300\\3408113564.py:23: DtypeWarning: Columns (21,34,39,41,42,48,80) have mixed types. Specify dtype option on import or set low_memory=False.\n",
      "  clientesrelacionados = pd.read_csv(path_clientes_relacionados, sep=separator)\n"
     ]
    }
   ],
   "source": [
    "# 1ª CELULA\n",
    "\n",
    "import os\n",
    "import pandas as pd\n",
    "from pathlib import Path\n",
    "import numpy as np\n",
    "\n",
    "\n",
    "# 2ª CELULA\n",
    "separator = \",\"\n",
    "path = Path(\"./\")\n",
    "path.mkdir(parents=True, exist_ok=True)\n",
    "\n",
    "print('Pasta criada com sucesso!')\n",
    "\n",
    "path_incentivos_familia = r\"./MC1_INT_CSV_Incentivos_Familia.CSV\"\n",
    "incentivosfamilia = pd.read_csv(path_incentivos_familia, sep=separator)\n",
    "\n",
    "path_detalhe_de_vendas = r\"./MC1_INT_CSV_Detalle_de_ventas.CSV\"\n",
    "detalhe_de_vendas = pd.read_csv(path_detalhe_de_vendas, sep=separator)\n",
    "\n",
    "path_clientes_relacionados = r\"./MC1_INT_CSV_Clientes_Relacionados.CSV\"\n",
    "clientesrelacionados = pd.read_csv(path_clientes_relacionados, sep=separator)\n",
    "\n"
   ]
  },
  {
   "cell_type": "code",
   "execution_count": 70,
   "id": "506f2c80",
   "metadata": {},
   "outputs": [],
   "source": [
    "incentivosfamilia = incentivosfamilia.rename(columns={'Real Display' : 'Real_Display'})\n",
    "incentivosfamilia = incentivosfamilia.rename(columns={'Codigo Zona-Ruta' : 'Codigo_Zona_Ruta'})\n",
    "\n",
    "#incentivosfamilia = incentivosfamilia.Venta_SO_ML_sin_IVA.fillna(0)\n",
    "#incentivosfamilia = incentivosfamilia.Cuota_SO_ML_sin_IVA.fillna(0)\n",
    "#incentivosfamilia = incentivosfamilia.Real_Display.fillna(0)\n",
    "#incentivosfamilia = incentivosfamilia.Cuota_Display.fillna(0)\n",
    "\n",
    "incentivosfamilia['Venta_SO_ML_sin_IVA'] = incentivosfamilia['Venta_SO_ML_sin_IVA'].str.replace('.','')\n",
    "incentivosfamilia['Venta_SO_ML_sin_IVA'] = incentivosfamilia['Venta_SO_ML_sin_IVA'].str.replace(',','.')\n",
    "incentivosfamilia['Venta_SO_ML_sin_IVA'] = incentivosfamilia['Venta_SO_ML_sin_IVA'].astype(float)\n",
    "\n",
    "incentivosfamilia['Cuota_SO_ML_sin_IVA'] = incentivosfamilia['Cuota_SO_ML_sin_IVA'].str.replace('.','')\n",
    "incentivosfamilia['Cuota_SO_ML_sin_IVA'] = incentivosfamilia['Cuota_SO_ML_sin_IVA'].str.replace(',','.')\n",
    "incentivosfamilia['Cuota_SO_ML_sin_IVA'] = incentivosfamilia['Cuota_SO_ML_sin_IVA'].astype(float)\n",
    "\n",
    "incentivosfamilia['Real_Display'] = incentivosfamilia['Real_Display'].str.replace('.','')\n",
    "incentivosfamilia['Real_Display'] = incentivosfamilia['Real_Display'].str.replace(',','.')\n",
    "incentivosfamilia['Real_Display'] = incentivosfamilia['Real_Display'].astype(float)\n",
    "\n",
    "incentivosfamilia['Cuota_Display'] = incentivosfamilia['Cuota_Display'].str.replace('.','')\n",
    "incentivosfamilia['Cuota_Display'] = incentivosfamilia['Cuota_Display'].str.replace(',','.')\n",
    "incentivosfamilia['Cuota_Display'] = incentivosfamilia['Cuota_Display'].astype(float)\n",
    "\n",
    "incentivosfamilia['Codigo_Cliente_SI'] = incentivosfamilia['Codigo_Cliente_SI'].astype(object)\n",
    "incentivosfamilia['Codigo_Asesor'] = incentivosfamilia['Codigo_Asesor'].astype(object)\n",
    "incentivosfamilia['Codigo_Vendedor'] = incentivosfamilia['Codigo_Vendedor'].astype(object)\n",
    "incentivosfamilia['Codigo Modelo de Venta'] = incentivosfamilia['Codigo Modelo de Venta'].astype(object)\n",
    "incentivosfamilia['Ano'] = incentivosfamilia['Ano'].astype(object)\n",
    "incentivosfamilia['Periodo'] = incentivosfamilia['Periodo'].astype(object)\n",
    "incentivosfamilia['Periodo'] = incentivosfamilia['Periodo'].astype(object)\n",
    "\n"
   ]
  },
  {
   "cell_type": "code",
   "execution_count": 71,
   "id": "6ceb5677",
   "metadata": {},
   "outputs": [],
   "source": [
    "detalhe_de_vendas['Venta_SO_ML_sin_IVA'] = detalhe_de_vendas['Venta_SO_ML_sin_IVA'].str.replace('.','')\n",
    "detalhe_de_vendas['Venta_SO_ML_sin_IVA'] = detalhe_de_vendas['Venta_SO_ML_sin_IVA'].str.replace(',','.')\n",
    "detalhe_de_vendas['Venta_SO_ML_sin_IVA'] = detalhe_de_vendas['Venta_SO_ML_sin_IVA'].astype(float)\n",
    "\n",
    "detalhe_de_vendas['IVA'] = detalhe_de_vendas['IVA'].str.replace('.','')\n",
    "detalhe_de_vendas['IVA'] = detalhe_de_vendas['IVA'].str.replace(',','.')\n",
    "detalhe_de_vendas['IVA'] = detalhe_de_vendas['IVA'].astype(float)\n",
    "\n",
    "detalhe_de_vendas['Venta_SO_ML_con_IVA'] = detalhe_de_vendas['Venta_SO_ML_con_IVA'].str.replace('.','')\n",
    "detalhe_de_vendas['Venta_SO_ML_con_IVA'] = detalhe_de_vendas['Venta_SO_ML_con_IVA'].str.replace(',','.')\n",
    "detalhe_de_vendas['Venta_SO_ML_con_IVA'] = detalhe_de_vendas['Venta_SO_ML_con_IVA'].astype(float)\n",
    "\n",
    "detalhe_de_vendas['Descuento'] = detalhe_de_vendas['Descuento'].str.replace('.','')\n",
    "detalhe_de_vendas['Descuento'] = detalhe_de_vendas['Descuento'].str.replace(',','.')\n",
    "detalhe_de_vendas['Descuento'] = detalhe_de_vendas['Descuento'].astype(float)\n",
    "\n",
    "detalhe_de_vendas['Peso_por_display_KG'] = detalhe_de_vendas['Peso_por_display_KG'].str.replace('.','')\n",
    "detalhe_de_vendas['Peso_por_display_KG'] = detalhe_de_vendas['Peso_por_display_KG'].str.replace(',','.')\n",
    "detalhe_de_vendas['Peso_por_display_KG'] = detalhe_de_vendas['Peso_por_display_KG'].astype(float)\n",
    "\n",
    "detalhe_de_vendas['Cantidad_de_venta_en_TON'] = detalhe_de_vendas['Cantidad_de_venta_en_TON'].str.replace('.','')\n",
    "detalhe_de_vendas['Cantidad_de_venta_en_TON'] = detalhe_de_vendas['Cantidad_de_venta_en_TON'].str.replace(',','.')\n",
    "detalhe_de_vendas['Cantidad_de_venta_en_TON'] = detalhe_de_vendas['Cantidad_de_venta_en_TON'].astype(float)\n",
    "\n",
    "detalhe_de_vendas['Venta_en_Cajas'] = detalhe_de_vendas['Venta_en_Cajas'].str.replace('.','')\n",
    "detalhe_de_vendas['Venta_en_Cajas'] = detalhe_de_vendas['Venta_en_Cajas'].str.replace(',','.')\n",
    "detalhe_de_vendas['Venta_en_Cajas'] = detalhe_de_vendas['Venta_en_Cajas'].astype(float)\n",
    "\n",
    "detalhe_de_vendas['Codigo_Cliente_SI'] = detalhe_de_vendas['Codigo_Cliente_SI'].astype(object)\n",
    "detalhe_de_vendas['Codigo_Asesor'] = detalhe_de_vendas['Codigo_Asesor'].astype(object)\n",
    "detalhe_de_vendas['Codigo_Vendedor'] = detalhe_de_vendas['Codigo_Vendedor'].astype(object)\n",
    "detalhe_de_vendas['Codigo_PDV'] = detalhe_de_vendas['Codigo_PDV'].astype(object)\n",
    "detalhe_de_vendas['Codigo_PDV_2'] = detalhe_de_vendas['Codigo_PDV_2'].astype(object)\n",
    "detalhe_de_vendas['Latitud'] = detalhe_de_vendas['Latitud'].astype(object)\n",
    "detalhe_de_vendas['nLongitud'] = detalhe_de_vendas['nLongitud'].astype(object)\n",
    "detalhe_de_vendas['Codigo_Tipo_de_Negocio_PDV'] = detalhe_de_vendas['Codigo_Tipo_de_Negocio_PDV'].astype(object)\n",
    "detalhe_de_vendas['Codigo_Cluster_PDV'] = detalhe_de_vendas['Codigo_Cluster_PDV'].astype(object)\n",
    "detalhe_de_vendas['codigo_de_Tipo_de_Ruta'] = detalhe_de_vendas['codigo_de_Tipo_de_Ruta'].astype(object)\n",
    "detalhe_de_vendas['orden_de_visita_realizada'] = detalhe_de_vendas['orden_de_visita_realizada'].astype(object)\n",
    "detalhe_de_vendas['Numero_de_Documento_Legal'] = detalhe_de_vendas['Numero_de_Documento_Legal'].astype(object)\n",
    "detalhe_de_vendas['Cod_Combo'] = detalhe_de_vendas['Cod_Combo'].astype(object)\n",
    "detalhe_de_vendas['Descripcion_Combo'] = detalhe_de_vendas['Descripcion_Combo'].astype(object)\n",
    "detalhe_de_vendas['Cant_Combo'] = detalhe_de_vendas['Cant_Combo'].astype(object)\n",
    "detalhe_de_vendas['Cod_Surtido'] = detalhe_de_vendas['Cod_Surtido'].astype(object)\n",
    "detalhe_de_vendas['Descripcion_Surtido'] = detalhe_de_vendas['Descripcion_Surtido'].astype(object)\n",
    "detalhe_de_vendas['Cant_Surtido'] = detalhe_de_vendas['Cant_Surtido'].astype(object)\n",
    "detalhe_de_vendas['Cod_Articulo_MDLZ'] = detalhe_de_vendas['Cod_Articulo_MDLZ'].astype(object)\n",
    "detalhe_de_vendas['Cod_Articulo_SAP'] = detalhe_de_vendas['Cod_Articulo_SAP'].astype(object)\n",
    "detalhe_de_vendas['Cod_Articulo_SAP'] = detalhe_de_vendas['Cod_Articulo_SAP'].astype(object)\n"
   ]
  },
  {
   "cell_type": "code",
   "execution_count": 72,
   "id": "69db6fab",
   "metadata": {},
   "outputs": [
    {
     "name": "stdout",
     "output_type": "stream",
     "text": [
      "<class 'pandas.core.frame.DataFrame'>\n",
      "RangeIndex: 17253 entries, 0 to 17252\n",
      "Data columns (total 37 columns):\n",
      " #   Column                    Non-Null Count  Dtype  \n",
      "---  ------                    --------------  -----  \n",
      " 0   Pais                      17253 non-null  object \n",
      " 1   Codigo_Cliente_SI         17253 non-null  object \n",
      " 2   Descripcion Cliente SI    17253 non-null  object \n",
      " 3   Codigo_Canal              17253 non-null  object \n",
      " 4   Descripcion_Canal         17253 non-null  object \n",
      " 5   Codigo_Subcanal           17253 non-null  object \n",
      " 6   Descripcion Subcanal      17253 non-null  object \n",
      " 7   Codigo_Region             17253 non-null  object \n",
      " 8   Descripcion_Region        17253 non-null  object \n",
      " 9   Codigo_Subregion          17253 non-null  object \n",
      " 10  Descripcion_Subregion     17253 non-null  object \n",
      " 11  Codigo_Asesor             17253 non-null  object \n",
      " 12  Nombre_Asesor             17253 non-null  object \n",
      " 13  Codigo_Vendedor           17253 non-null  object \n",
      " 14  Nombre_Vendedor           17253 non-null  object \n",
      " 15  Codigo_Zona_Ruta          17253 non-null  object \n",
      " 16  Descripcion Zona-Ruta     17253 non-null  object \n",
      " 17  Codigo Modelo de Venta    17253 non-null  object \n",
      " 18  Descripcion Modelo Venta  17253 non-null  object \n",
      " 19  Tipo de Venta             17253 non-null  object \n",
      " 20  Ano                       17253 non-null  object \n",
      " 21  Periodo                   17253 non-null  object \n",
      " 22  Codigo Familia            17253 non-null  object \n",
      " 23  Nombre Familia            17253 non-null  object \n",
      " 24  PDV Activos y Nuevos      17253 non-null  int64  \n",
      " 25  PDV Activos               17253 non-null  int64  \n",
      " 26  Real_Display              17253 non-null  float64\n",
      " 27  Cuota_Display             17253 non-null  float64\n",
      " 28  Visitas Programadas       17253 non-null  int64  \n",
      " 29  Real Visitas Programadas  17253 non-null  int64  \n",
      " 30  Real Visitas Realizadas   17253 non-null  int64  \n",
      " 31  Real Visitas Efectivas    17253 non-null  int64  \n",
      " 32  Cuota_Visitas_Efectivas   17253 non-null  int64  \n",
      " 33  Cuota_Visitas_Realizadas  17253 non-null  int64  \n",
      " 34  Venta_SO_ML_sin_IVA       17253 non-null  float64\n",
      " 35  Cuota_SO_ML_sin_IVA       17253 non-null  float64\n",
      " 36  Impactos                  17253 non-null  int64  \n",
      "dtypes: float64(4), int64(9), object(24)\n",
      "memory usage: 4.9+ MB\n"
     ]
    }
   ],
   "source": [
    "incentivosfamilia.info()"
   ]
  },
  {
   "cell_type": "code",
   "execution_count": 73,
   "id": "cd7fe074",
   "metadata": {},
   "outputs": [
    {
     "name": "stdout",
     "output_type": "stream",
     "text": [
      "<class 'pandas.core.frame.DataFrame'>\n",
      "RangeIndex: 133915 entries, 0 to 133914\n",
      "Data columns (total 74 columns):\n",
      " #   Column                           Non-Null Count   Dtype  \n",
      "---  ------                           --------------   -----  \n",
      " 0   Pais                             133915 non-null  object \n",
      " 1   Codigo_Cliente_SI                133915 non-null  object \n",
      " 2   Descripcion Cliente SI           133915 non-null  object \n",
      " 3   Codigo_Canal                     133915 non-null  object \n",
      " 4   Descripcion_Canal                133915 non-null  object \n",
      " 5   Codigo_Subcanal                  133915 non-null  object \n",
      " 6   Descripcion Subcanal             133915 non-null  object \n",
      " 7   Codigo_Region                    133915 non-null  object \n",
      " 8   Descripcion_Region               133915 non-null  object \n",
      " 9   Codigo_Subregion                 133915 non-null  object \n",
      " 10  Descripcion_Subregion            133915 non-null  object \n",
      " 11  Codigo_Asesor                    133915 non-null  object \n",
      " 12  Nombre_Asesor                    133915 non-null  object \n",
      " 13  Codigo_Vendedor                  133915 non-null  object \n",
      " 14  Nombre_Vendedor                  133915 non-null  object \n",
      " 15  Tipo_de_Vendedor                 82715 non-null   object \n",
      " 16  Codigo_PDV                       133915 non-null  object \n",
      " 17  Codigo_PDV_2                     133915 non-null  object \n",
      " 18  Identificacion                   133915 non-null  object \n",
      " 19  Nombre_PDV                       133915 non-null  object \n",
      " 20  Nombre_Comercial_PDV             133452 non-null  object \n",
      " 21  Direccion                        133915 non-null  object \n",
      " 22  Latitud                          133915 non-null  object \n",
      " 23  nLongitud                        133915 non-null  object \n",
      " 24  Descripcion_Departamento         133915 non-null  object \n",
      " 25  Descripcion_Ciudad               133915 non-null  object \n",
      " 26  Codigo_Tipo_de_Negocio_PDV       133915 non-null  object \n",
      " 27  Descripcion_Tipo_de_Negocio_PDV  133840 non-null  object \n",
      " 28  Codigo_Cluster_PDV               133907 non-null  object \n",
      " 29  Descripcion_Cluster_PDV          133907 non-null  object \n",
      " 30  Codigo_Zona_Ruta                 133915 non-null  object \n",
      " 31  Descripcion_Zona_Ruta            133915 non-null  object \n",
      " 32  codigo_de_Tipo_de_Ruta           133915 non-null  object \n",
      " 33  Tipo_de_ruta                     133915 non-null  object \n",
      " 34  Fecha                            133915 non-null  object \n",
      " 35  Hora                             133915 non-null  object \n",
      " 36  orden_de_visita_realizada        133915 non-null  object \n",
      " 37  Orden_Venta                      106922 non-null  object \n",
      " 38  Numero_de_Documento_Legal        0 non-null       object \n",
      " 39  Tipo_Documento                   106922 non-null  object \n",
      " 40  Estado_del_Documento             106922 non-null  object \n",
      " 41  Cod_Combo                        0 non-null       object \n",
      " 42  Descripcion_Combo                0 non-null       object \n",
      " 43  Cant_Combo                       27112 non-null   object \n",
      " 44  Cod_Surtido                      0 non-null       object \n",
      " 45  Descripcion_Surtido              0 non-null       object \n",
      " 46  Cant_Surtido                     27112 non-null   object \n",
      " 47  Cod_Articulo_MDLZ                106922 non-null  object \n",
      " 48  Cod_Articulo_SAP                 106922 non-null  object \n",
      " 49  Descripcion_Articulo_SAP         106922 non-null  object \n",
      " 50  Codigo_Categoria                 106922 non-null  object \n",
      " 51  Descripcion_Categoria            106922 non-null  object \n",
      " 52  Codigo_Subcategoria              106922 non-null  object \n",
      " 53  Descripcion_Subcategoria         106922 non-null  object \n",
      " 54  Codigo_Marca                     106922 non-null  object \n",
      " 55  Descripcion_Marca                106922 non-null  object \n",
      " 56  Codigo_Familia                   106922 non-null  object \n",
      " 57  Descripcion_Familia              106922 non-null  object \n",
      " 58  Codigo_Sabor                     106922 non-null  object \n",
      " 59  Descripcion_Sabor                106922 non-null  object \n",
      " 60  Displays_en_Orden                133915 non-null  int64  \n",
      " 61  Unidades_en_Orden                133915 non-null  float64\n",
      " 62  Real_DISPLAYS                    133915 non-null  object \n",
      " 63  Precio_Display                   133915 non-null  object \n",
      " 64  Venta_SO_ML_sin_IVA              133915 non-null  float64\n",
      " 65  IVA                              133915 non-null  float64\n",
      " 66  Venta_SO_ML_con_IVA              133915 non-null  float64\n",
      " 67  Descuento                        133915 non-null  float64\n",
      " 68  Peso_por_display_KG              133915 non-null  float64\n",
      " 69  Cantidad_de_venta_en_TON         133915 non-null  float64\n",
      " 70  Venta_en_Cajas                   133915 non-null  float64\n",
      " 71  Visitas_Programadas              133915 non-null  int64  \n",
      " 72  Real_Visitas_Realizadas          133915 non-null  int64  \n",
      " 73  Real_Visitas_Efectivas           133915 non-null  int64  \n",
      "dtypes: float64(8), int64(4), object(62)\n",
      "memory usage: 75.6+ MB\n"
     ]
    }
   ],
   "source": [
    "detalhe_de_vendas.info()"
   ]
  },
  {
   "cell_type": "code",
   "execution_count": 51,
   "id": "d4a5ba20",
   "metadata": {},
   "outputs": [],
   "source": [
    "detalhe_de_vendas.to_csv(r'./Out/MC1_INT_CSV_Detalle_de_ventas.CSV', sep=';', encoding='utf-8', header='true', index=False)"
   ]
  },
  {
   "cell_type": "code",
   "execution_count": 52,
   "id": "7f916422",
   "metadata": {},
   "outputs": [],
   "source": [
    "incentivosfamilia.to_csv(r'./Out/MC1_INT_CSV_Incentivos_Familia.CSV', sep=';', encoding='utf-8', header='true', index=False)"
   ]
  },
  {
   "cell_type": "code",
   "execution_count": 53,
   "id": "7ff4f6ee",
   "metadata": {},
   "outputs": [],
   "source": [
    "clientesrelacionados.to_csv(r'./Out/MC1_INT_CSV_Clientes_Relacionados.CSV', sep=';', encoding='utf-8', header='true', index=False)"
   ]
  },
  {
   "cell_type": "code",
   "execution_count": 60,
   "id": "8ab93188",
   "metadata": {},
   "outputs": [
    {
     "data": {
      "text/plain": [
       "0         2.0\n",
       "1         2.0\n",
       "2         1.0\n",
       "3         1.0\n",
       "4         1.0\n",
       "         ... \n",
       "133910    3.0\n",
       "133911    3.0\n",
       "133912    3.0\n",
       "133913    3.0\n",
       "133914    2.0\n",
       "Name: Codigo_Cluster_PDV, Length: 133915, dtype: float64"
      ]
     },
     "execution_count": 60,
     "metadata": {},
     "output_type": "execute_result"
    }
   ],
   "source": [
    "detalhe_de_vendas.Codigo_Cluster_PDV                "
   ]
  },
  {
   "cell_type": "code",
   "execution_count": null,
   "id": "03e68628",
   "metadata": {},
   "outputs": [],
   "source": []
  }
 ],
 "metadata": {
  "kernelspec": {
   "display_name": "Python 3 (ipykernel)",
   "language": "python",
   "name": "python3"
  },
  "language_info": {
   "codemirror_mode": {
    "name": "ipython",
    "version": 3
   },
   "file_extension": ".py",
   "mimetype": "text/x-python",
   "name": "python",
   "nbconvert_exporter": "python",
   "pygments_lexer": "ipython3",
   "version": "3.11.5"
  }
 },
 "nbformat": 4,
 "nbformat_minor": 5
}
